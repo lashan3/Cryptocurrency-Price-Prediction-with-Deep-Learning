{
 "cells": [
  {
   "cell_type": "code",
   "execution_count": 1,
   "id": "c14a17a0",
   "metadata": {},
   "outputs": [
    {
     "data": {
      "text/html": [
       "        <script type=\"text/javascript\">\n",
       "        window.PlotlyConfig = {MathJaxConfig: 'local'};\n",
       "        if (window.MathJax && window.MathJax.Hub && window.MathJax.Hub.Config) {window.MathJax.Hub.Config({SVG: {font: \"STIX-Web\"}});}\n",
       "        if (typeof require !== 'undefined') {\n",
       "        require.undef(\"plotly\");\n",
       "        requirejs.config({\n",
       "            paths: {\n",
       "                'plotly': ['https://cdn.plot.ly/plotly-2.12.1.min']\n",
       "            }\n",
       "        });\n",
       "        require(['plotly'], function(Plotly) {\n",
       "            window._Plotly = Plotly;\n",
       "        });\n",
       "        }\n",
       "        </script>\n",
       "        "
      ]
     },
     "metadata": {},
     "output_type": "display_data"
    }
   ],
   "source": [
    "# Ignore Warnings\n",
    "import warnings\n",
    "from warnings import simplefilter\n",
    "warnings.filterwarnings(\"ignore\")\n",
    "\n",
    "# Computational imports\n",
    "import numpy as np   # Library for n-dimensional arrays\n",
    "import pandas as pd  # Library for dataframes (structured data)\n",
    "\n",
    "# Helper imports\n",
    "import os \n",
    "import re\n",
    "import time\n",
    "import warnings\n",
    "from tqdm import tqdm\n",
    "import datetime as dt\n",
    "import pandas_datareader as web\n",
    "from datetime import datetime\n",
    "import scipy.stats as stats\n",
    "from pathlib import Path\n",
    "\n",
    "# ML/DL imports\n",
    "from sklearn.preprocessing import MinMaxScaler, OrdinalEncoder, LabelEncoder, RobustScaler\n",
    "from sklearn.metrics import mean_squared_error, mean_squared_log_error\n",
    "from sklearn.model_selection import train_test_split\n",
    "\n",
    "import tensorflow as tf\n",
    "from tensorflow import keras\n",
    "from tensorflow.keras import layers\n",
    "import tensorflow_probability as tfp\n",
    "from tensorflow.keras.models import Sequential\n",
    "from tensorflow.keras.layers import LSTM, Dense, Dropout, RepeatVector, TimeDistributed\n",
    "from tensorflow.keras.callbacks import ModelCheckpoint, EarlyStopping\n",
    "\n",
    "# Plotting imports\n",
    "import matplotlib.pyplot as plt\n",
    "import matplotlib.dates as dates\n",
    "import seaborn as sns\n",
    "import plotly.graph_objects as go\n",
    "from plotly.subplots import make_subplots\n",
    "from plotly.offline import init_notebook_mode, iplot\n",
    "\n",
    "%matplotlib inline\n",
    "init_notebook_mode(connected=True)\n",
    "\n",
    "# Set seeds to make the experiment more reproducible.\n",
    "from numpy.random import seed\n",
    "seed(1)\n",
    "\n",
    "# Allows us to see more information regarding the DataFrame\n",
    "pd.set_option(\"display.max_rows\", 500)\n",
    "pd.set_option(\"display.max_columns\", 500)"
   ]
  },
  {
   "cell_type": "code",
   "execution_count": 2,
   "id": "a959d07c",
   "metadata": {},
   "outputs": [
    {
     "data": {
      "text/html": [
       "<div>\n",
       "<style scoped>\n",
       "    .dataframe tbody tr th:only-of-type {\n",
       "        vertical-align: middle;\n",
       "    }\n",
       "\n",
       "    .dataframe tbody tr th {\n",
       "        vertical-align: top;\n",
       "    }\n",
       "\n",
       "    .dataframe thead th {\n",
       "        text-align: right;\n",
       "    }\n",
       "</style>\n",
       "<table border=\"1\" class=\"dataframe\">\n",
       "  <thead>\n",
       "    <tr style=\"text-align: right;\">\n",
       "      <th></th>\n",
       "      <th>unix</th>\n",
       "      <th>symbol</th>\n",
       "      <th>open</th>\n",
       "      <th>high</th>\n",
       "      <th>low</th>\n",
       "      <th>close</th>\n",
       "      <th>Volume USD</th>\n",
       "      <th>Volume ADA</th>\n",
       "    </tr>\n",
       "    <tr>\n",
       "      <th>date</th>\n",
       "      <th></th>\n",
       "      <th></th>\n",
       "      <th></th>\n",
       "      <th></th>\n",
       "      <th></th>\n",
       "      <th></th>\n",
       "      <th></th>\n",
       "      <th></th>\n",
       "    </tr>\n",
       "  </thead>\n",
       "  <tbody>\n",
       "    <tr>\n",
       "      <th>2022-09-08 01:00:00</th>\n",
       "      <td>1662598800000</td>\n",
       "      <td>ADA/USD</td>\n",
       "      <td>0.528701</td>\n",
       "      <td>0.530139</td>\n",
       "      <td>0.528619</td>\n",
       "      <td>0.529845</td>\n",
       "      <td>6217.475895</td>\n",
       "      <td>11734.508421</td>\n",
       "    </tr>\n",
       "    <tr>\n",
       "      <th>2022-09-08 00:00:00</th>\n",
       "      <td>1662595200000</td>\n",
       "      <td>ADA/USD</td>\n",
       "      <td>0.529049</td>\n",
       "      <td>0.531184</td>\n",
       "      <td>0.526100</td>\n",
       "      <td>0.528689</td>\n",
       "      <td>23428.452008</td>\n",
       "      <td>44314.203750</td>\n",
       "    </tr>\n",
       "    <tr>\n",
       "      <th>2022-09-07 23:00:00</th>\n",
       "      <td>1662591600000</td>\n",
       "      <td>ADA/USD</td>\n",
       "      <td>0.529765</td>\n",
       "      <td>0.533084</td>\n",
       "      <td>0.527979</td>\n",
       "      <td>0.529194</td>\n",
       "      <td>25759.268995</td>\n",
       "      <td>48676.394389</td>\n",
       "    </tr>\n",
       "    <tr>\n",
       "      <th>2022-09-07 22:00:00</th>\n",
       "      <td>1662588000000</td>\n",
       "      <td>ADA/USD</td>\n",
       "      <td>0.530651</td>\n",
       "      <td>0.531632</td>\n",
       "      <td>0.527942</td>\n",
       "      <td>0.528570</td>\n",
       "      <td>21572.264726</td>\n",
       "      <td>40812.472145</td>\n",
       "    </tr>\n",
       "    <tr>\n",
       "      <th>2022-09-07 21:00:00</th>\n",
       "      <td>1662584400000</td>\n",
       "      <td>ADA/USD</td>\n",
       "      <td>0.528794</td>\n",
       "      <td>0.530868</td>\n",
       "      <td>0.526959</td>\n",
       "      <td>0.530472</td>\n",
       "      <td>22300.310454</td>\n",
       "      <td>42038.624048</td>\n",
       "    </tr>\n",
       "  </tbody>\n",
       "</table>\n",
       "</div>"
      ],
      "text/plain": [
       "                              unix   symbol      open      high       low  \\\n",
       "date                                                                        \n",
       "2022-09-08 01:00:00  1662598800000  ADA/USD  0.528701  0.530139  0.528619   \n",
       "2022-09-08 00:00:00  1662595200000  ADA/USD  0.529049  0.531184  0.526100   \n",
       "2022-09-07 23:00:00  1662591600000  ADA/USD  0.529765  0.533084  0.527979   \n",
       "2022-09-07 22:00:00  1662588000000  ADA/USD  0.530651  0.531632  0.527942   \n",
       "2022-09-07 21:00:00  1662584400000  ADA/USD  0.528794  0.530868  0.526959   \n",
       "\n",
       "                        close    Volume USD    Volume ADA  \n",
       "date                                                       \n",
       "2022-09-08 01:00:00  0.529845   6217.475895  11734.508421  \n",
       "2022-09-08 00:00:00  0.528689  23428.452008  44314.203750  \n",
       "2022-09-07 23:00:00  0.529194  25759.268995  48676.394389  \n",
       "2022-09-07 22:00:00  0.528570  21572.264726  40812.472145  \n",
       "2022-09-07 21:00:00  0.530472  22300.310454  42038.624048  "
      ]
     },
     "execution_count": 2,
     "metadata": {},
     "output_type": "execute_result"
    }
   ],
   "source": [
    "url = 'https://www.cryptodatadownload.com/cdd/Exmo_ADAUSD_1h.csv'\n",
    "dataset = pd.read_csv(url, index_col=\"date\", skiprows=1)\n",
    "#dataset = pd.read_csv('Gemini_BTCUSD_1h.csv', index_col=\"date\", skiprows=1)\n",
    "dataset.head()"
   ]
  },
  {
   "cell_type": "code",
   "execution_count": 3,
   "id": "ee5a9225",
   "metadata": {},
   "outputs": [
    {
     "data": {
      "text/html": [
       "<div>\n",
       "<style scoped>\n",
       "    .dataframe tbody tr th:only-of-type {\n",
       "        vertical-align: middle;\n",
       "    }\n",
       "\n",
       "    .dataframe tbody tr th {\n",
       "        vertical-align: top;\n",
       "    }\n",
       "\n",
       "    .dataframe thead th {\n",
       "        text-align: right;\n",
       "    }\n",
       "</style>\n",
       "<table border=\"1\" class=\"dataframe\">\n",
       "  <thead>\n",
       "    <tr style=\"text-align: right;\">\n",
       "      <th></th>\n",
       "      <th>unix</th>\n",
       "      <th>symbol</th>\n",
       "      <th>open</th>\n",
       "      <th>high</th>\n",
       "      <th>low</th>\n",
       "      <th>close</th>\n",
       "      <th>Volume USD</th>\n",
       "      <th>Volume ADA</th>\n",
       "    </tr>\n",
       "    <tr>\n",
       "      <th>date</th>\n",
       "      <th></th>\n",
       "      <th></th>\n",
       "      <th></th>\n",
       "      <th></th>\n",
       "      <th></th>\n",
       "      <th></th>\n",
       "      <th></th>\n",
       "      <th></th>\n",
       "    </tr>\n",
       "  </thead>\n",
       "  <tbody>\n",
       "    <tr>\n",
       "      <th>2018-05-15 06:00:00</th>\n",
       "      <td>1526364000</td>\n",
       "      <td>ADA/USD</td>\n",
       "      <td>0.0</td>\n",
       "      <td>0.0</td>\n",
       "      <td>0.0</td>\n",
       "      <td>0.0</td>\n",
       "      <td>0.0</td>\n",
       "      <td>0.0</td>\n",
       "    </tr>\n",
       "    <tr>\n",
       "      <th>2018-05-15 07:00:00</th>\n",
       "      <td>1526367600</td>\n",
       "      <td>ADA/USD</td>\n",
       "      <td>0.0</td>\n",
       "      <td>0.0</td>\n",
       "      <td>0.0</td>\n",
       "      <td>0.0</td>\n",
       "      <td>0.0</td>\n",
       "      <td>0.0</td>\n",
       "    </tr>\n",
       "    <tr>\n",
       "      <th>2018-05-15 08:00:00</th>\n",
       "      <td>1526371200</td>\n",
       "      <td>ADA/USD</td>\n",
       "      <td>0.0</td>\n",
       "      <td>0.0</td>\n",
       "      <td>0.0</td>\n",
       "      <td>0.0</td>\n",
       "      <td>0.0</td>\n",
       "      <td>0.0</td>\n",
       "    </tr>\n",
       "    <tr>\n",
       "      <th>2018-05-15 09:00:00</th>\n",
       "      <td>1526374800</td>\n",
       "      <td>ADA/USD</td>\n",
       "      <td>0.0</td>\n",
       "      <td>0.0</td>\n",
       "      <td>0.0</td>\n",
       "      <td>0.0</td>\n",
       "      <td>0.0</td>\n",
       "      <td>0.0</td>\n",
       "    </tr>\n",
       "    <tr>\n",
       "      <th>2018-05-15 10:00:00</th>\n",
       "      <td>1526378400</td>\n",
       "      <td>ADA/USD</td>\n",
       "      <td>0.0</td>\n",
       "      <td>0.0</td>\n",
       "      <td>0.0</td>\n",
       "      <td>0.0</td>\n",
       "      <td>0.0</td>\n",
       "      <td>0.0</td>\n",
       "    </tr>\n",
       "  </tbody>\n",
       "</table>\n",
       "</div>"
      ],
      "text/plain": [
       "                           unix   symbol  open  high  low  close  Volume USD  \\\n",
       "date                                                                           \n",
       "2018-05-15 06:00:00  1526364000  ADA/USD   0.0   0.0  0.0    0.0         0.0   \n",
       "2018-05-15 07:00:00  1526367600  ADA/USD   0.0   0.0  0.0    0.0         0.0   \n",
       "2018-05-15 08:00:00  1526371200  ADA/USD   0.0   0.0  0.0    0.0         0.0   \n",
       "2018-05-15 09:00:00  1526374800  ADA/USD   0.0   0.0  0.0    0.0         0.0   \n",
       "2018-05-15 10:00:00  1526378400  ADA/USD   0.0   0.0  0.0    0.0         0.0   \n",
       "\n",
       "                     Volume ADA  \n",
       "date                             \n",
       "2018-05-15 06:00:00         0.0  \n",
       "2018-05-15 07:00:00         0.0  \n",
       "2018-05-15 08:00:00         0.0  \n",
       "2018-05-15 09:00:00         0.0  \n",
       "2018-05-15 10:00:00         0.0  "
      ]
     },
     "execution_count": 3,
     "metadata": {},
     "output_type": "execute_result"
    }
   ],
   "source": [
    "dataset = dataset.iloc[::-1]\n",
    "\n",
    "dataset.head()\n",
    "\n"
   ]
  },
  {
   "cell_type": "code",
   "execution_count": 4,
   "id": "a6d774dd",
   "metadata": {},
   "outputs": [
    {
     "data": {
      "text/html": [
       "<div>\n",
       "<style scoped>\n",
       "    .dataframe tbody tr th:only-of-type {\n",
       "        vertical-align: middle;\n",
       "    }\n",
       "\n",
       "    .dataframe tbody tr th {\n",
       "        vertical-align: top;\n",
       "    }\n",
       "\n",
       "    .dataframe thead th {\n",
       "        text-align: right;\n",
       "    }\n",
       "</style>\n",
       "<table border=\"1\" class=\"dataframe\">\n",
       "  <thead>\n",
       "    <tr style=\"text-align: right;\">\n",
       "      <th></th>\n",
       "      <th>date</th>\n",
       "      <th>unix</th>\n",
       "      <th>symbol</th>\n",
       "      <th>open</th>\n",
       "      <th>high</th>\n",
       "      <th>low</th>\n",
       "      <th>close</th>\n",
       "      <th>Volume USD</th>\n",
       "      <th>Volume ADA</th>\n",
       "    </tr>\n",
       "  </thead>\n",
       "  <tbody>\n",
       "    <tr>\n",
       "      <th>0</th>\n",
       "      <td>2018-05-15 06:00:00</td>\n",
       "      <td>1526364000</td>\n",
       "      <td>ADA/USD</td>\n",
       "      <td>0.000000</td>\n",
       "      <td>0.000000</td>\n",
       "      <td>0.000000</td>\n",
       "      <td>0.000000</td>\n",
       "      <td>0.000000</td>\n",
       "      <td>0.000000</td>\n",
       "    </tr>\n",
       "    <tr>\n",
       "      <th>1</th>\n",
       "      <td>2018-05-15 07:00:00</td>\n",
       "      <td>1526367600</td>\n",
       "      <td>ADA/USD</td>\n",
       "      <td>0.000000</td>\n",
       "      <td>0.000000</td>\n",
       "      <td>0.000000</td>\n",
       "      <td>0.000000</td>\n",
       "      <td>0.000000</td>\n",
       "      <td>0.000000</td>\n",
       "    </tr>\n",
       "    <tr>\n",
       "      <th>2</th>\n",
       "      <td>2018-05-15 08:00:00</td>\n",
       "      <td>1526371200</td>\n",
       "      <td>ADA/USD</td>\n",
       "      <td>0.000000</td>\n",
       "      <td>0.000000</td>\n",
       "      <td>0.000000</td>\n",
       "      <td>0.000000</td>\n",
       "      <td>0.000000</td>\n",
       "      <td>0.000000</td>\n",
       "    </tr>\n",
       "    <tr>\n",
       "      <th>3</th>\n",
       "      <td>2018-05-15 09:00:00</td>\n",
       "      <td>1526374800</td>\n",
       "      <td>ADA/USD</td>\n",
       "      <td>0.000000</td>\n",
       "      <td>0.000000</td>\n",
       "      <td>0.000000</td>\n",
       "      <td>0.000000</td>\n",
       "      <td>0.000000</td>\n",
       "      <td>0.000000</td>\n",
       "    </tr>\n",
       "    <tr>\n",
       "      <th>4</th>\n",
       "      <td>2018-05-15 10:00:00</td>\n",
       "      <td>1526378400</td>\n",
       "      <td>ADA/USD</td>\n",
       "      <td>0.000000</td>\n",
       "      <td>0.000000</td>\n",
       "      <td>0.000000</td>\n",
       "      <td>0.000000</td>\n",
       "      <td>0.000000</td>\n",
       "      <td>0.000000</td>\n",
       "    </tr>\n",
       "    <tr>\n",
       "      <th>...</th>\n",
       "      <td>...</td>\n",
       "      <td>...</td>\n",
       "      <td>...</td>\n",
       "      <td>...</td>\n",
       "      <td>...</td>\n",
       "      <td>...</td>\n",
       "      <td>...</td>\n",
       "      <td>...</td>\n",
       "      <td>...</td>\n",
       "    </tr>\n",
       "    <tr>\n",
       "      <th>37479</th>\n",
       "      <td>2022-09-07 21:00:00</td>\n",
       "      <td>1662584400000</td>\n",
       "      <td>ADA/USD</td>\n",
       "      <td>0.528794</td>\n",
       "      <td>0.530868</td>\n",
       "      <td>0.526959</td>\n",
       "      <td>0.530472</td>\n",
       "      <td>22300.310454</td>\n",
       "      <td>42038.624048</td>\n",
       "    </tr>\n",
       "    <tr>\n",
       "      <th>37480</th>\n",
       "      <td>2022-09-07 22:00:00</td>\n",
       "      <td>1662588000000</td>\n",
       "      <td>ADA/USD</td>\n",
       "      <td>0.530651</td>\n",
       "      <td>0.531632</td>\n",
       "      <td>0.527942</td>\n",
       "      <td>0.528570</td>\n",
       "      <td>21572.264726</td>\n",
       "      <td>40812.472145</td>\n",
       "    </tr>\n",
       "    <tr>\n",
       "      <th>37481</th>\n",
       "      <td>2022-09-07 23:00:00</td>\n",
       "      <td>1662591600000</td>\n",
       "      <td>ADA/USD</td>\n",
       "      <td>0.529765</td>\n",
       "      <td>0.533084</td>\n",
       "      <td>0.527979</td>\n",
       "      <td>0.529194</td>\n",
       "      <td>25759.268995</td>\n",
       "      <td>48676.394389</td>\n",
       "    </tr>\n",
       "    <tr>\n",
       "      <th>37482</th>\n",
       "      <td>2022-09-08 00:00:00</td>\n",
       "      <td>1662595200000</td>\n",
       "      <td>ADA/USD</td>\n",
       "      <td>0.529049</td>\n",
       "      <td>0.531184</td>\n",
       "      <td>0.526100</td>\n",
       "      <td>0.528689</td>\n",
       "      <td>23428.452008</td>\n",
       "      <td>44314.203750</td>\n",
       "    </tr>\n",
       "    <tr>\n",
       "      <th>37483</th>\n",
       "      <td>2022-09-08 01:00:00</td>\n",
       "      <td>1662598800000</td>\n",
       "      <td>ADA/USD</td>\n",
       "      <td>0.528701</td>\n",
       "      <td>0.530139</td>\n",
       "      <td>0.528619</td>\n",
       "      <td>0.529845</td>\n",
       "      <td>6217.475895</td>\n",
       "      <td>11734.508421</td>\n",
       "    </tr>\n",
       "  </tbody>\n",
       "</table>\n",
       "<p>37484 rows × 9 columns</p>\n",
       "</div>"
      ],
      "text/plain": [
       "                      date           unix   symbol      open      high  \\\n",
       "0      2018-05-15 06:00:00     1526364000  ADA/USD  0.000000  0.000000   \n",
       "1      2018-05-15 07:00:00     1526367600  ADA/USD  0.000000  0.000000   \n",
       "2      2018-05-15 08:00:00     1526371200  ADA/USD  0.000000  0.000000   \n",
       "3      2018-05-15 09:00:00     1526374800  ADA/USD  0.000000  0.000000   \n",
       "4      2018-05-15 10:00:00     1526378400  ADA/USD  0.000000  0.000000   \n",
       "...                    ...            ...      ...       ...       ...   \n",
       "37479  2022-09-07 21:00:00  1662584400000  ADA/USD  0.528794  0.530868   \n",
       "37480  2022-09-07 22:00:00  1662588000000  ADA/USD  0.530651  0.531632   \n",
       "37481  2022-09-07 23:00:00  1662591600000  ADA/USD  0.529765  0.533084   \n",
       "37482  2022-09-08 00:00:00  1662595200000  ADA/USD  0.529049  0.531184   \n",
       "37483  2022-09-08 01:00:00  1662598800000  ADA/USD  0.528701  0.530139   \n",
       "\n",
       "            low     close    Volume USD    Volume ADA  \n",
       "0      0.000000  0.000000      0.000000      0.000000  \n",
       "1      0.000000  0.000000      0.000000      0.000000  \n",
       "2      0.000000  0.000000      0.000000      0.000000  \n",
       "3      0.000000  0.000000      0.000000      0.000000  \n",
       "4      0.000000  0.000000      0.000000      0.000000  \n",
       "...         ...       ...           ...           ...  \n",
       "37479  0.526959  0.530472  22300.310454  42038.624048  \n",
       "37480  0.527942  0.528570  21572.264726  40812.472145  \n",
       "37481  0.527979  0.529194  25759.268995  48676.394389  \n",
       "37482  0.526100  0.528689  23428.452008  44314.203750  \n",
       "37483  0.528619  0.529845   6217.475895  11734.508421  \n",
       "\n",
       "[37484 rows x 9 columns]"
      ]
     },
     "execution_count": 4,
     "metadata": {},
     "output_type": "execute_result"
    }
   ],
   "source": [
    "df = dataset.reset_index()\n",
    "df"
   ]
  },
  {
   "cell_type": "code",
   "execution_count": 5,
   "id": "17f74d09",
   "metadata": {
    "scrolled": true
   },
   "outputs": [],
   "source": [
    "#plt.figure(figsize=(10,5))\n",
    "#sns.lineplot(x='date', y='close', data=df).set_title(\"Price of ADA\")\n"
   ]
  },
  {
   "cell_type": "code",
   "execution_count": 6,
   "id": "98c788b0",
   "metadata": {
    "scrolled": true
   },
   "outputs": [
    {
     "data": {
      "text/html": [
       "<div>\n",
       "<style scoped>\n",
       "    .dataframe tbody tr th:only-of-type {\n",
       "        vertical-align: middle;\n",
       "    }\n",
       "\n",
       "    .dataframe tbody tr th {\n",
       "        vertical-align: top;\n",
       "    }\n",
       "\n",
       "    .dataframe thead th {\n",
       "        text-align: right;\n",
       "    }\n",
       "</style>\n",
       "<table border=\"1\" class=\"dataframe\">\n",
       "  <thead>\n",
       "    <tr style=\"text-align: right;\">\n",
       "      <th></th>\n",
       "      <th>open</th>\n",
       "      <th>high</th>\n",
       "      <th>low</th>\n",
       "      <th>close</th>\n",
       "      <th>Volume ADA</th>\n",
       "      <th>Volume USD</th>\n",
       "    </tr>\n",
       "  </thead>\n",
       "  <tbody>\n",
       "    <tr>\n",
       "      <th>0</th>\n",
       "      <td>0.000000</td>\n",
       "      <td>0.000000</td>\n",
       "      <td>0.000000</td>\n",
       "      <td>0.000000</td>\n",
       "      <td>0.000000</td>\n",
       "      <td>0.000000</td>\n",
       "    </tr>\n",
       "    <tr>\n",
       "      <th>1</th>\n",
       "      <td>0.000000</td>\n",
       "      <td>0.000000</td>\n",
       "      <td>0.000000</td>\n",
       "      <td>0.000000</td>\n",
       "      <td>0.000000</td>\n",
       "      <td>0.000000</td>\n",
       "    </tr>\n",
       "    <tr>\n",
       "      <th>2</th>\n",
       "      <td>0.000000</td>\n",
       "      <td>0.000000</td>\n",
       "      <td>0.000000</td>\n",
       "      <td>0.000000</td>\n",
       "      <td>0.000000</td>\n",
       "      <td>0.000000</td>\n",
       "    </tr>\n",
       "    <tr>\n",
       "      <th>3</th>\n",
       "      <td>0.000000</td>\n",
       "      <td>0.000000</td>\n",
       "      <td>0.000000</td>\n",
       "      <td>0.000000</td>\n",
       "      <td>0.000000</td>\n",
       "      <td>0.000000</td>\n",
       "    </tr>\n",
       "    <tr>\n",
       "      <th>4</th>\n",
       "      <td>0.000000</td>\n",
       "      <td>0.000000</td>\n",
       "      <td>0.000000</td>\n",
       "      <td>0.000000</td>\n",
       "      <td>0.000000</td>\n",
       "      <td>0.000000</td>\n",
       "    </tr>\n",
       "    <tr>\n",
       "      <th>...</th>\n",
       "      <td>...</td>\n",
       "      <td>...</td>\n",
       "      <td>...</td>\n",
       "      <td>...</td>\n",
       "      <td>...</td>\n",
       "      <td>...</td>\n",
       "    </tr>\n",
       "    <tr>\n",
       "      <th>37479</th>\n",
       "      <td>0.528794</td>\n",
       "      <td>0.530868</td>\n",
       "      <td>0.526959</td>\n",
       "      <td>0.530472</td>\n",
       "      <td>42038.624048</td>\n",
       "      <td>22300.310454</td>\n",
       "    </tr>\n",
       "    <tr>\n",
       "      <th>37480</th>\n",
       "      <td>0.530651</td>\n",
       "      <td>0.531632</td>\n",
       "      <td>0.527942</td>\n",
       "      <td>0.528570</td>\n",
       "      <td>40812.472145</td>\n",
       "      <td>21572.264726</td>\n",
       "    </tr>\n",
       "    <tr>\n",
       "      <th>37481</th>\n",
       "      <td>0.529765</td>\n",
       "      <td>0.533084</td>\n",
       "      <td>0.527979</td>\n",
       "      <td>0.529194</td>\n",
       "      <td>48676.394389</td>\n",
       "      <td>25759.268995</td>\n",
       "    </tr>\n",
       "    <tr>\n",
       "      <th>37482</th>\n",
       "      <td>0.529049</td>\n",
       "      <td>0.531184</td>\n",
       "      <td>0.526100</td>\n",
       "      <td>0.528689</td>\n",
       "      <td>44314.203750</td>\n",
       "      <td>23428.452008</td>\n",
       "    </tr>\n",
       "    <tr>\n",
       "      <th>37483</th>\n",
       "      <td>0.528701</td>\n",
       "      <td>0.530139</td>\n",
       "      <td>0.528619</td>\n",
       "      <td>0.529845</td>\n",
       "      <td>11734.508421</td>\n",
       "      <td>6217.475895</td>\n",
       "    </tr>\n",
       "  </tbody>\n",
       "</table>\n",
       "<p>37484 rows × 6 columns</p>\n",
       "</div>"
      ],
      "text/plain": [
       "           open      high       low     close    Volume ADA    Volume USD\n",
       "0      0.000000  0.000000  0.000000  0.000000      0.000000      0.000000\n",
       "1      0.000000  0.000000  0.000000  0.000000      0.000000      0.000000\n",
       "2      0.000000  0.000000  0.000000  0.000000      0.000000      0.000000\n",
       "3      0.000000  0.000000  0.000000  0.000000      0.000000      0.000000\n",
       "4      0.000000  0.000000  0.000000  0.000000      0.000000      0.000000\n",
       "...         ...       ...       ...       ...           ...           ...\n",
       "37479  0.528794  0.530868  0.526959  0.530472  42038.624048  22300.310454\n",
       "37480  0.530651  0.531632  0.527942  0.528570  40812.472145  21572.264726\n",
       "37481  0.529765  0.533084  0.527979  0.529194  48676.394389  25759.268995\n",
       "37482  0.529049  0.531184  0.526100  0.528689  44314.203750  23428.452008\n",
       "37483  0.528701  0.530139  0.528619  0.529845  11734.508421   6217.475895\n",
       "\n",
       "[37484 rows x 6 columns]"
      ]
     },
     "execution_count": 6,
     "metadata": {},
     "output_type": "execute_result"
    }
   ],
   "source": [
    "df = df[[\"open\", \"high\", \"low\", \"close\",\"Volume ADA\", \"Volume USD\"]]\n",
    "#df = df[['Close']]\n",
    "df.head()\n",
    "SEQ_LEN = 120\n",
    "FUTURE_PERIOD = 10\n",
    "\n",
    "RATIO_TO_PREDICT = \"Close\"\n",
    "df"
   ]
  },
  {
   "cell_type": "code",
   "execution_count": 12,
   "id": "b3c0617c",
   "metadata": {},
   "outputs": [
    {
     "name": "stdout",
     "output_type": "stream",
     "text": [
      "29988\n"
     ]
    }
   ],
   "source": [
    "times = sorted(df.index.values)  # get the times\n",
    "last_10 = times[-int(0.1*len(times))] \n",
    "last_20 = times[-int(0.2*len(times))]\n",
    "\n",
    "test_df = df[(df.index >= last_10)]\n",
    "validation_df = df[(df.index >= last_20) & (df.index < last_10)]  \n",
    "train_df = df[(df.index < last_20)]\n",
    "print(last_20)"
   ]
  },
  {
   "cell_type": "code",
   "execution_count": 13,
   "id": "7ddb5e40",
   "metadata": {},
   "outputs": [
    {
     "data": {
      "text/plain": [
       "(3748, 6)"
      ]
     },
     "execution_count": 13,
     "metadata": {},
     "output_type": "execute_result"
    }
   ],
   "source": [
    "train_ = train_df.values\n",
    "valid_ = validation_df.values\n",
    "test_ = test_df.values\n",
    "valid_.shape"
   ]
  },
  {
   "cell_type": "code",
   "execution_count": 14,
   "id": "e5f255cb",
   "metadata": {},
   "outputs": [
    {
     "name": "stdout",
     "output_type": "stream",
     "text": [
      "train shape (29988, 6)\n",
      "valid shape (3748, 6)\n",
      "test shape (3748, 6)\n"
     ]
    }
   ],
   "source": [
    "print(\"train shape {0}\".format(train_.shape))\n",
    "print(\"valid shape {0}\".format(valid_.shape))\n",
    "print(\"test shape {0}\".format(test_.shape))\n"
   ]
  },
  {
   "cell_type": "code",
   "execution_count": 15,
   "id": "10e6e94e",
   "metadata": {},
   "outputs": [],
   "source": [
    "def line_plot(line1, line2,line3, label1=None, label2=None, label3=None, title='', lw=2):\n",
    "    fig, ax = plt.subplots(1, figsize=(13, 7))\n",
    "    ax.plot(line1, label=label1, linewidth=lw)\n",
    "    ax.plot(line2, label=label2, linewidth=lw)\n",
    "    ax.plot(line3, label=label3, linewidth=lw)\n",
    "    ax.set_ylabel('Price [USD]', fontsize=14)\n",
    "    ax.set_xlabel('Hours',)\n",
    "    ax.set_title(title, fontsize=16)\n",
    "    ax.legend(loc='best', fontsize=16);"
   ]
  },
  {
   "cell_type": "code",
   "execution_count": 16,
   "id": "6c2e72af",
   "metadata": {},
   "outputs": [
    {
     "data": {
      "image/png": "[encoded data removed]",
      "text/plain": [
       "<Figure size 936x504 with 1 Axes>"
      ]
     },
     "metadata": {
      "needs_background": "light"
     },
     "output_type": "display_data"
    }
   ],
   "source": [
    "line_plot(train_df['close'], test_df['close'], validation_df['close'], 'Training', 'Test','Validation', title='Data Splitting for ADA')"
   ]
  },
  {
   "cell_type": "code",
   "execution_count": 17,
   "id": "b1269d89",
   "metadata": {},
   "outputs": [],
   "source": [
    "from sklearn.preprocessing import MinMaxScaler\n",
    "scaler = MinMaxScaler()\n",
    "scale_close = MinMaxScaler()"
   ]
  },
  {
   "cell_type": "code",
   "execution_count": 18,
   "id": "b65d86ae",
   "metadata": {},
   "outputs": [
    {
     "data": {
      "text/plain": [
       "MinMaxScaler()"
      ]
     },
     "execution_count": 18,
     "metadata": {},
     "output_type": "execute_result"
    }
   ],
   "source": [
    "x = train_[:,3].copy()\n",
    "scale_close.fit(x.reshape(-1, 1))"
   ]
  },
  {
   "cell_type": "code",
   "execution_count": 19,
   "id": "10c1459a",
   "metadata": {},
   "outputs": [],
   "source": [
    "scaler.fit(train_)\n",
    "\n",
    "train_ = scaler.transform(train_)\n",
    "\n",
    "valid_ = scaler.transform(valid_)\n",
    "test_ = scaler.transform(test_)"
   ]
  },
  {
   "cell_type": "code",
   "execution_count": 21,
   "id": "aee6ec30",
   "metadata": {},
   "outputs": [
    {
     "data": {
      "text/plain": [
       "array([[0.        , 0.        , 0.        , 0.        , 0.        ,\n",
       "        0.        ],\n",
       "       [0.        , 0.        , 0.        , 0.        , 0.        ,\n",
       "        0.        ],\n",
       "       [0.        , 0.        , 0.        , 0.        , 0.        ,\n",
       "        0.        ],\n",
       "       ...,\n",
       "       [0.1712028 , 0.17142768, 0.17303412, 0.17101842, 0.08409072,\n",
       "        0.03677713],\n",
       "       [0.17097162, 0.17081676, 0.17241832, 0.17085528, 0.07655484,\n",
       "        0.03344937],\n",
       "       [0.170859  , 0.17048068, 0.17324396, 0.17122886, 0.02027191,\n",
       "        0.00887684]])"
      ]
     },
     "execution_count": 21,
     "metadata": {},
     "output_type": "execute_result"
    }
   ],
   "source": [
    "# Now perform exponential moving average smoothing for smooth curve of data\n",
    "EMA = 0.0\n",
    "gamma = 0.165\n",
    "for ti in range(train_.shape[0]):\n",
    "    EMA = gamma*train_[ti] + (1-gamma)*EMA\n",
    "    train_[ti] = EMA\n",
    "\n",
    "# Used for visualization and test purposes\n",
    "all_mid_data = np.concatenate([train_,valid_, test_],axis=0)\n",
    "all_mid_data"
   ]
  },
  {
   "cell_type": "code",
   "execution_count": 16,
   "id": "ce4a0075",
   "metadata": {},
   "outputs": [],
   "source": [
    "#data splitting\n",
    "\n",
    "def split_data(data):\n",
    "    X = []\n",
    "    Y = []\n",
    "    for i in range(SEQ_LEN, len(data)-FUTURE_PERIOD+1):\n",
    "        X.append(data[i-SEQ_LEN:i])\n",
    "        Y.append(data[i+(FUTURE_PERIOD-1), 3])\n",
    "    return np.array(X), np.array(Y)"
   ]
  },
  {
   "cell_type": "code",
   "execution_count": 17,
   "id": "e3bab086",
   "metadata": {},
   "outputs": [],
   "source": [
    "X_train, y_train = split_data(train_)\n",
    "X_test, y_test = split_data(test_)\n",
    "X_valid, y_valid = split_data(valid_)\n"
   ]
  },
  {
   "cell_type": "code",
   "execution_count": 18,
   "id": "70bd8ed4",
   "metadata": {},
   "outputs": [],
   "source": [
    "X_train = np.reshape(X_train, (X_train.shape[0], X_train.shape[1], 6))\n",
    "X_valid = np.reshape(X_valid, (X_valid.shape[0], X_valid.shape[1], 6))\n",
    "X_test = np.reshape(X_test, (X_test.shape[0], X_test.shape[1], 6))"
   ]
  },
  {
   "cell_type": "code",
   "execution_count": 19,
   "id": "53aaae12",
   "metadata": {},
   "outputs": [
    {
     "name": "stdout",
     "output_type": "stream",
     "text": [
      "train shape (29590, 120, 6)\n",
      "valid shape (3586, 120, 6)\n",
      "test shape (3585, 120, 6)\n"
     ]
    }
   ],
   "source": [
    "print(\"train shape {0}\".format(X_train.shape))\n",
    "print(\"valid shape {0}\".format(X_valid.shape))\n",
    "print(\"test shape {0}\".format(X_test.shape))"
   ]
  },
  {
   "cell_type": "code",
   "execution_count": 20,
   "id": "bdb3bd79",
   "metadata": {},
   "outputs": [],
   "source": [
    "X_train_2, y_train_2 = split_data(train_)\n",
    "X_train_2 = np.reshape(X_train_2, (X_train_2.shape[0], X_train_2.shape[1], 6))"
   ]
  },
  {
   "cell_type": "code",
   "execution_count": 21,
   "id": "94f1f35a",
   "metadata": {},
   "outputs": [
    {
     "name": "stdout",
     "output_type": "stream",
     "text": [
      "Model: \"sequential\"\n",
      "_________________________________________________________________\n",
      " Layer (type)                Output Shape              Param #   \n",
      "=================================================================\n",
      " lstm (LSTM)                 (None, 120)               60960     \n",
      "                                                                 \n",
      " leaky_re_lu (LeakyReLU)     (None, 120)               0         \n",
      "                                                                 \n",
      " dropout (Dropout)           (None, 120)               0         \n",
      "                                                                 \n",
      " batch_normalization (BatchN  (None, 120)              480       \n",
      " ormalization)                                                   \n",
      "                                                                 \n",
      " dense (Dense)               (None, 1)                 121       \n",
      "                                                                 \n",
      "=================================================================\n",
      "Total params: 61,561\n",
      "Trainable params: 61,321\n",
      "Non-trainable params: 240\n",
      "_________________________________________________________________\n"
     ]
    }
   ],
   "source": [
    "#LSTM model\n",
    "\n",
    "import tensorflow as tf\n",
    "from tensorflow.keras import layers\n",
    "from keras.models import Sequential\n",
    "from tensorflow.keras.optimizers import Adam\n",
    "from keras.layers import Dense, LSTM, LeakyReLU, Dropout, BatchNormalization\n",
    "\n",
    "# Initialize the RNN\n",
    "model_LSTM1 = Sequential()\n",
    "model_LSTM1.add(LSTM(units = 120, input_shape=(120, 6)))\n",
    "model_LSTM1.add(LeakyReLU(alpha=0.5))\n",
    "model_LSTM1.add(Dropout(0.5))\n",
    "model_LSTM1.add(BatchNormalization())\n",
    "model_LSTM1.add(Dense(1))\n",
    "model_LSTM1.summary()"
   ]
  },
  {
   "cell_type": "code",
   "execution_count": 22,
   "id": "efee8954",
   "metadata": {},
   "outputs": [],
   "source": [
    "model_LSTM1.compile(optimizer='adam', loss='mean_squared_error', metrics = ('MAPE'))"
   ]
  },
  {
   "cell_type": "code",
   "execution_count": 23,
   "id": "469c32c7",
   "metadata": {},
   "outputs": [
    {
     "name": "stdout",
     "output_type": "stream",
     "text": [
      "Epoch 1/10\n",
      "232/232 [==============================] - 104s 429ms/step - loss: 0.0345 - MAPE: 4401494.0000 - val_loss: 0.0998 - val_MAPE: 62.8157\n",
      "Epoch 2/10\n",
      "232/232 [==============================] - 86s 371ms/step - loss: 0.0021 - MAPE: 2060770.1250 - val_loss: 0.0539 - val_MAPE: 45.5338\n",
      "Epoch 3/10\n",
      "232/232 [==============================] - 81s 348ms/step - loss: 0.0017 - MAPE: 1936280.3750 - val_loss: 0.0062 - val_MAPE: 15.5726\n",
      "Epoch 4/10\n",
      "232/232 [==============================] - 93s 400ms/step - loss: 0.0016 - MAPE: 1776976.8750 - val_loss: 0.0015 - val_MAPE: 8.0932\n",
      "Epoch 5/10\n",
      "232/232 [==============================] - 83s 357ms/step - loss: 0.0014 - MAPE: 1645035.0000 - val_loss: 0.0010 - val_MAPE: 6.6558\n",
      "Epoch 6/10\n",
      "232/232 [==============================] - 93s 401ms/step - loss: 0.0014 - MAPE: 1608988.5000 - val_loss: 2.1361e-04 - val_MAPE: 2.4093\n",
      "Epoch 7/10\n",
      "232/232 [==============================] - 99s 425ms/step - loss: 0.0014 - MAPE: 1643211.5000 - val_loss: 0.0013 - val_MAPE: 6.9751\n",
      "Epoch 8/10\n",
      "232/232 [==============================] - 91s 380ms/step - loss: 0.0015 - MAPE: 1789753.7500 - val_loss: 3.4375e-04 - val_MAPE: 3.1267\n",
      "Epoch 9/10\n",
      "232/232 [==============================] - 108s 466ms/step - loss: 0.0015 - MAPE: 1666225.7500 - val_loss: 0.0011 - val_MAPE: 5.6257\n",
      "Epoch 10/10\n",
      "232/232 [==============================] - 132s 572ms/step - loss: 0.0012 - MAPE: 1524555.2500 - val_loss: 5.7194e-04 - val_MAPE: 4.4673\n"
     ]
    }
   ],
   "source": [
    "history_LSTM1 = model_LSTM1.fit(X_train, y_train,validation_data=(X_valid, y_valid), epochs=10, batch_size=128)"
   ]
  },
  {
   "cell_type": "code",
   "execution_count": 24,
   "id": "cf5f5179",
   "metadata": {},
   "outputs": [
    {
     "data": {
      "image/png": "[encoded data removed]",
      "text/plain": [
       "<Figure size 432x288 with 1 Axes>"
      ]
     },
     "metadata": {
      "needs_background": "light"
     },
     "output_type": "display_data"
    }
   ],
   "source": [
    "loss = history_LSTM1.history['loss']\n",
    "val_loss = history_LSTM1.history['val_loss']\n",
    "\n",
    "epochs = range(len(loss))\n",
    "\n",
    "plt.figure()\n",
    "\n",
    "plt.plot(epochs, loss, 'b', label='Training loss')\n",
    "plt.plot(epochs, val_loss, 'r', label='Validation loss')\n",
    "plt.title(\"LSTM losses (ADA)\")\n",
    "plt.xlabel('Epochs')\n",
    "plt.ylabel('Loss')\n",
    "plt.legend()\n",
    "\n",
    "plt.show()"
   ]
  },
  {
   "cell_type": "code",
   "execution_count": 25,
   "id": "321b37f9",
   "metadata": {},
   "outputs": [
    {
     "data": {
      "image/png": "[encoded data removed]",
      "text/plain": [
       "<Figure size 432x288 with 1 Axes>"
      ]
     },
     "metadata": {
      "needs_background": "light"
     },
     "output_type": "display_data"
    }
   ],
   "source": [
    "mape = history_LSTM1.history['MAPE']\n",
    "val_mape = history_LSTM1.history['val_MAPE']\n",
    "\n",
    "epochs = range(len(mape))\n",
    "\n",
    "plt.figure()\n",
    "\n",
    "plt.plot(epochs, mape, 'b', label='Training MAPE')\n",
    "plt.plot(epochs, val_mape, 'r', label='Validation MAPE')\n",
    "plt.title(\"LSTM MAPE (ADA)\")\n",
    "plt.xlabel('Epochs')\n",
    "plt.ylabel('MAPE')\n",
    "plt.legend()\n",
    "\n",
    "plt.show()"
   ]
  },
  {
   "cell_type": "code",
   "execution_count": 26,
   "id": "af5a48c9",
   "metadata": {},
   "outputs": [],
   "source": [
    "pred_LSTM1 = model_LSTM1.predict(X_test)\n"
   ]
  },
  {
   "cell_type": "code",
   "execution_count": 27,
   "id": "faf2855d",
   "metadata": {
    "scrolled": true
   },
   "outputs": [
    {
     "data": {
      "image/png": "[encoded data removed]",
      "text/plain": [
       "<Figure size 432x288 with 1 Axes>"
      ]
     },
     "metadata": {
      "needs_background": "light"
     },
     "output_type": "display_data"
    }
   ],
   "source": [
    "plt.plot(y_test, color = 'black', label = 'Real Price')\n",
    "plt.plot(pred_LSTM1, color = 'red', label = 'Predicted Price')\n",
    "plt.title('Close ADA Price Prediction - LSTM', fontsize=18)\n",
    "#plt.xticks(range(0,df.shape[0],50),df['Date'].loc[::50],rotation=45)\n",
    "plt.xlabel('DateTime')\n",
    "plt.ylabel('Close Price')\n",
    "plt.legend(fontsize=18)\n",
    "plt.show()"
   ]
  },
  {
   "cell_type": "code",
   "execution_count": 28,
   "id": "6189fe57",
   "metadata": {},
   "outputs": [
    {
     "name": "stdout",
     "output_type": "stream",
     "text": [
      "113/113 [==============================] - 20s 175ms/step - loss: 1.3830e-04 - MAPE: 3.9715\n",
      "\n",
      "The error of the model with 1 layer LSTM is: [0.0001383002381771803, 3.971501588821411]\n"
     ]
    }
   ],
   "source": [
    "import math\n",
    "\n",
    "LSTM1_loss = model_LSTM1.evaluate(X_test, y_test, verbose=1)\n",
    "\n",
    "#Err_LSTM1 = LSTM1_loss[0]\n",
    "#Err_LSTM1 = math.sqrt(LSTM1_loss)\n",
    "print('\\nThe error of the model with 1 layer LSTM is:',LSTM1_loss)"
   ]
  },
  {
   "cell_type": "code",
   "execution_count": 29,
   "id": "a5c796e5",
   "metadata": {},
   "outputs": [
    {
     "data": {
      "text/plain": [
       "0.00013830022375145893"
      ]
     },
     "execution_count": 29,
     "metadata": {},
     "output_type": "execute_result"
    }
   ],
   "source": [
    "from sklearn.metrics import mean_squared_error\n",
    "MAE=mean_squared_error(pred_LSTM1, y_test)\n",
    "MAE"
   ]
  },
  {
   "cell_type": "code",
   "execution_count": 30,
   "id": "46721c06",
   "metadata": {},
   "outputs": [
    {
     "data": {
      "text/plain": [
       "0.9756311190853989"
      ]
     },
     "execution_count": 30,
     "metadata": {},
     "output_type": "execute_result"
    }
   ],
   "source": [
    "from sklearn.metrics import r2_score\n",
    "R2=r2_score(y_test, pred_LSTM1)\n",
    "R2"
   ]
  },
  {
   "cell_type": "code",
   "execution_count": 31,
   "id": "a1fe9691",
   "metadata": {},
   "outputs": [
    {
     "name": "stdout",
     "output_type": "stream",
     "text": [
      "Model: \"sequential_1\"\n",
      "_________________________________________________________________\n",
      " Layer (type)                Output Shape              Param #   \n",
      "=================================================================\n",
      " gru (GRU)                   (None, 50)                8700      \n",
      "                                                                 \n",
      " activation (Activation)     (None, 50)                0         \n",
      "                                                                 \n",
      " dropout_1 (Dropout)         (None, 50)                0         \n",
      "                                                                 \n",
      " dense_1 (Dense)             (None, 1)                 51        \n",
      "                                                                 \n",
      " activation_1 (Activation)   (None, 1)                 0         \n",
      "                                                                 \n",
      "=================================================================\n",
      "Total params: 8,751\n",
      "Trainable params: 8,751\n",
      "Non-trainable params: 0\n",
      "_________________________________________________________________\n"
     ]
    }
   ],
   "source": [
    "#GRU\n",
    "from keras.models import Sequential\n",
    "from keras.layers import Dense, Dropout, Activation, Flatten,Reshape\n",
    "from keras.layers import Conv1D, MaxPooling1D, LeakyReLU\n",
    "from keras.utils import np_utils\n",
    "from keras.layers import GRU,CuDNNGRU\n",
    "model_GRU = Sequential()\n",
    "\n",
    "model_GRU.add(GRU(units=50, input_shape=(120,6),return_sequences=False))\n",
    "model_GRU.add(Activation('tanh'))\n",
    "model_GRU.add(Dropout(0.3))\n",
    "model_GRU.add(Dense(1))\n",
    "model_GRU.add(Activation('relu'))\n",
    "model_GRU.compile(loss='mse', optimizer='adam', metrics = ('MAPE'))\n",
    "model_GRU.summary()"
   ]
  },
  {
   "cell_type": "code",
   "execution_count": 32,
   "id": "00c31e42",
   "metadata": {},
   "outputs": [
    {
     "name": "stdout",
     "output_type": "stream",
     "text": [
      "Epoch 1/10\n",
      "232/232 [==============================] - 112s 451ms/step - loss: 0.0048 - MAPE: 588853.8750 - val_loss: 3.9421e-04 - val_MAPE: 3.5900\n",
      "Epoch 2/10\n",
      "232/232 [==============================] - 103s 443ms/step - loss: 6.2388e-04 - MAPE: 208258.5625 - val_loss: 2.2057e-04 - val_MAPE: 2.5129\n",
      "Epoch 3/10\n",
      "232/232 [==============================] - 124s 535ms/step - loss: 5.5916e-04 - MAPE: 232665.6875 - val_loss: 3.0868e-04 - val_MAPE: 2.9841\n",
      "Epoch 4/10\n",
      "232/232 [==============================] - 94s 406ms/step - loss: 5.0728e-04 - MAPE: 239978.6250 - val_loss: 2.6628e-04 - val_MAPE: 2.8359\n",
      "Epoch 5/10\n",
      "232/232 [==============================] - 60s 258ms/step - loss: 4.9575e-04 - MAPE: 243727.1250 - val_loss: 4.5488e-04 - val_MAPE: 3.8761\n",
      "Epoch 6/10\n",
      "232/232 [==============================] - 61s 262ms/step - loss: 4.8214e-04 - MAPE: 266990.3750 - val_loss: 2.1632e-04 - val_MAPE: 2.4116\n",
      "Epoch 7/10\n",
      "232/232 [==============================] - 61s 262ms/step - loss: 4.6961e-04 - MAPE: 286786.3438 - val_loss: 3.0697e-04 - val_MAPE: 3.2468\n",
      "Epoch 8/10\n",
      "232/232 [==============================] - 58s 249ms/step - loss: 4.8554e-04 - MAPE: 293462.7188 - val_loss: 2.3872e-04 - val_MAPE: 2.5583\n",
      "Epoch 9/10\n",
      "232/232 [==============================] - 67s 290ms/step - loss: 4.8546e-04 - MAPE: 300413.5000 - val_loss: 2.1245e-04 - val_MAPE: 2.4810\n",
      "Epoch 10/10\n",
      "232/232 [==============================] - 42s 180ms/step - loss: 4.7993e-04 - MAPE: 337001.5000 - val_loss: 3.8156e-04 - val_MAPE: 3.4838\n"
     ]
    }
   ],
   "source": [
    "history_GRU = model_GRU.fit(X_train, y_train, validation_data=(X_valid, y_valid), batch_size = 128, epochs = 10)"
   ]
  },
  {
   "cell_type": "code",
   "execution_count": 33,
   "id": "f5c0200d",
   "metadata": {},
   "outputs": [
    {
     "data": {
      "image/png": "[encoded data removed]",
      "text/plain": [
       "<Figure size 432x288 with 1 Axes>"
      ]
     },
     "metadata": {
      "needs_background": "light"
     },
     "output_type": "display_data"
    }
   ],
   "source": [
    "loss_GRU = history_GRU.history['loss']\n",
    "val_loss_GRU = history_GRU.history['val_loss']\n",
    "\n",
    "epochs = range(len(loss_GRU))\n",
    "\n",
    "plt.figure()\n",
    "\n",
    "plt.plot(epochs, loss_GRU, 'b', label='Training loss')\n",
    "plt.plot(epochs, val_loss_GRU, 'r', label='Validation loss')\n",
    "plt.title(\"GRU losses (ADA)\")\n",
    "plt.xlabel('Epochs')\n",
    "plt.ylabel('Loss')\n",
    "plt.legend()\n",
    "\n",
    "plt.show()"
   ]
  },
  {
   "cell_type": "code",
   "execution_count": 34,
   "id": "23fffaff",
   "metadata": {},
   "outputs": [
    {
     "data": {
      "image/png": "[encoded data removed]",
      "text/plain": [
       "<Figure size 432x288 with 1 Axes>"
      ]
     },
     "metadata": {
      "needs_background": "light"
     },
     "output_type": "display_data"
    }
   ],
   "source": [
    "mape = history_GRU.history['MAPE']\n",
    "val_mape = history_GRU.history['val_MAPE']\n",
    "\n",
    "epochs = range(len(mape))\n",
    "\n",
    "plt.figure()\n",
    "\n",
    "plt.plot(epochs, mape, 'b', label='Training MAPE')\n",
    "plt.plot(epochs, val_mape, 'r', label='Validation MAPE')\n",
    "plt.title(\"GRU MAPE (ADA)\")\n",
    "plt.xlabel('Epochs')\n",
    "plt.ylabel('MAPE')\n",
    "plt.legend()\n",
    "\n",
    "plt.show()"
   ]
  },
  {
   "cell_type": "code",
   "execution_count": 35,
   "id": "49b23f3d",
   "metadata": {},
   "outputs": [],
   "source": [
    "pred_GRU = model_GRU.predict(X_test)"
   ]
  },
  {
   "cell_type": "code",
   "execution_count": 36,
   "id": "d72fe350",
   "metadata": {},
   "outputs": [
    {
     "data": {
      "image/png": "[encoded data removed]",
      "text/plain": [
       "<Figure size 432x288 with 1 Axes>"
      ]
     },
     "metadata": {
      "needs_background": "light"
     },
     "output_type": "display_data"
    }
   ],
   "source": [
    "plt.plot(y_test, color = 'black', label = 'Real Price')\n",
    "plt.plot(pred_GRU, color = 'red', label = 'Predicted Price')\n",
    "plt.title('Close ADA Price Prediction - GRU', fontsize=18)\n",
    "#plt.xticks(range(0,df.shape[0],50),df['Date'].loc[::50],rotation=45)\n",
    "plt.xlabel('DateTime')\n",
    "plt.ylabel('Close Price')\n",
    "plt.legend(fontsize=18)\n",
    "plt.show()"
   ]
  },
  {
   "cell_type": "code",
   "execution_count": 37,
   "id": "02a2bfde",
   "metadata": {},
   "outputs": [
    {
     "name": "stdout",
     "output_type": "stream",
     "text": [
      "113/113 [==============================] - 6s 57ms/step - loss: 1.3581e-04 - MAPE: 4.6043\n",
      "\n",
      "The error of the model with a GRU layer is: [0.00013580714585259557, 4.6042561531066895]\n"
     ]
    }
   ],
   "source": [
    "\n",
    "\n",
    "import math\n",
    "\n",
    "GRU_loss = model_GRU.evaluate(X_test, y_test, verbose=1)\n",
    "\n",
    "#Err_GRU = math.sqrt(GRU_loss)\n",
    "print('\\nThe error of the model with a GRU layer is:',GRU_loss)"
   ]
  },
  {
   "cell_type": "code",
   "execution_count": 38,
   "id": "15785069",
   "metadata": {},
   "outputs": [
    {
     "data": {
      "text/plain": [
       "0.00013580713853951346"
      ]
     },
     "execution_count": 38,
     "metadata": {},
     "output_type": "execute_result"
    }
   ],
   "source": [
    "from sklearn.metrics import mean_squared_error\n",
    "MAE=mean_squared_error(pred_GRU, y_test)\n",
    "MAE"
   ]
  },
  {
   "cell_type": "code",
   "execution_count": 39,
   "id": "b4ae1049",
   "metadata": {},
   "outputs": [
    {
     "data": {
      "text/plain": [
       "0.9760704075767106"
      ]
     },
     "execution_count": 39,
     "metadata": {},
     "output_type": "execute_result"
    }
   ],
   "source": [
    "from sklearn.metrics import r2_score\n",
    "R2=r2_score(y_test, pred_GRU)\n",
    "R2"
   ]
  },
  {
   "cell_type": "code",
   "execution_count": 40,
   "id": "8355459b",
   "metadata": {},
   "outputs": [],
   "source": [
    "#Bi-LSTM\n",
    "import tensorflow as tf\n",
    "from tensorflow.keras import layers\n",
    "from keras.models import Sequential\n",
    "from tensorflow.keras.optimizers import Adam\n",
    "from keras.layers import Dense, LSTM, LeakyReLU, Dropout, BatchNormalization\n",
    "from keras.layers import Bidirectional\n",
    "\n",
    "num_units = 128\n",
    "activation_function = 'relu'\n",
    "optimizer = 'adam'\n",
    "loss_function = 'mean_squared_error'\n",
    "batch_size = 128\n",
    "num_epochs = 10\n",
    "\n",
    "# Initialize the RNN\n",
    "regressor2 = Sequential()\n",
    "\n",
    "# Adding the input layer and the LSTM layer\n",
    "#regressor2.add(tf.keras.layers.Conv1D(120, 3, activation=\"relu\",input_shape=(120, 5)))\n",
    "#regressor2.add(tf.keras.layers.AveragePooling1D(4))\n",
    "regressor2.add(Bidirectional(LSTM(units = num_units, input_shape=(120, 6))))#activation = activation_function,\n",
    "regressor2.add(LeakyReLU(alpha= 0.5))\n",
    "regressor2.add(BatchNormalization())\n",
    "regressor2.add(Dropout(0.5))\n",
    "# Adding the output layer\n",
    "regressor2.add(Dense(units = 1))\n",
    "# Compiling the RNN\n",
    "regressor2.compile(optimizer = optimizer, loss = loss_function, metrics = ('MAPE'))"
   ]
  },
  {
   "cell_type": "code",
   "execution_count": 41,
   "id": "0fa20f2b",
   "metadata": {},
   "outputs": [
    {
     "name": "stdout",
     "output_type": "stream",
     "text": [
      "Epoch 1/10\n",
      "232/232 [==============================] - 147s 591ms/step - loss: 0.1012 - MAPE: 9802901.0000 - val_loss: 0.1238 - val_MAPE: 70.6319\n",
      "Epoch 2/10\n",
      "232/232 [==============================] - 129s 557ms/step - loss: 0.0044 - MAPE: 2811146.5000 - val_loss: 0.0603 - val_MAPE: 48.8808\n",
      "Epoch 3/10\n",
      "232/232 [==============================] - 136s 586ms/step - loss: 0.0018 - MAPE: 2093533.6250 - val_loss: 0.0075 - val_MAPE: 16.2729\n",
      "Epoch 4/10\n",
      "232/232 [==============================] - 132s 567ms/step - loss: 0.0015 - MAPE: 1756715.0000 - val_loss: 4.9571e-04 - val_MAPE: 4.1195\n",
      "Epoch 5/10\n",
      "232/232 [==============================] - 122s 526ms/step - loss: 0.0016 - MAPE: 1735739.6250 - val_loss: 5.2713e-04 - val_MAPE: 4.2622\n",
      "Epoch 6/10\n",
      "232/232 [==============================] - 181s 782ms/step - loss: 0.0012 - MAPE: 1612135.7500 - val_loss: 9.5184e-04 - val_MAPE: 5.8588\n",
      "Epoch 7/10\n",
      "232/232 [==============================] - 226s 977ms/step - loss: 0.0012 - MAPE: 1512174.0000 - val_loss: 5.2923e-04 - val_MAPE: 3.5658\n",
      "Epoch 8/10\n",
      "232/232 [==============================] - 177s 763ms/step - loss: 0.0012 - MAPE: 1433717.0000 - val_loss: 7.8675e-04 - val_MAPE: 5.1316\n",
      "Epoch 9/10\n",
      "232/232 [==============================] - 236s 1s/step - loss: 0.0013 - MAPE: 1455878.3750 - val_loss: 6.4336e-04 - val_MAPE: 3.9108\n",
      "Epoch 10/10\n",
      "232/232 [==============================] - 230s 993ms/step - loss: 0.0014 - MAPE: 1516318.8750 - val_loss: 0.0021 - val_MAPE: 9.7247\n"
     ]
    }
   ],
   "source": [
    "# Using the training set to train the model\n",
    "history_BiLSTM2 = regressor2.fit(X_train, y_train, validation_data=(X_valid, y_valid), batch_size = batch_size, epochs = num_epochs)"
   ]
  },
  {
   "cell_type": "code",
   "execution_count": 42,
   "id": "91e34822",
   "metadata": {},
   "outputs": [
    {
     "name": "stdout",
     "output_type": "stream",
     "text": [
      "Model: \"sequential_2\"\n",
      "_________________________________________________________________\n",
      " Layer (type)                Output Shape              Param #   \n",
      "=================================================================\n",
      " bidirectional (Bidirectiona  (None, 256)              138240    \n",
      " l)                                                              \n",
      "                                                                 \n",
      " leaky_re_lu_1 (LeakyReLU)   (None, 256)               0         \n",
      "                                                                 \n",
      " batch_normalization_1 (Batc  (None, 256)              1024      \n",
      " hNormalization)                                                 \n",
      "                                                                 \n",
      " dropout_2 (Dropout)         (None, 256)               0         \n",
      "                                                                 \n",
      " dense_2 (Dense)             (None, 1)                 257       \n",
      "                                                                 \n",
      "=================================================================\n",
      "Total params: 139,521\n",
      "Trainable params: 139,009\n",
      "Non-trainable params: 512\n",
      "_________________________________________________________________\n"
     ]
    }
   ],
   "source": [
    "regressor2.summary()\n"
   ]
  },
  {
   "cell_type": "code",
   "execution_count": 43,
   "id": "d0ab150d",
   "metadata": {},
   "outputs": [
    {
     "data": {
      "image/png": "[encoded data removed]",
      "text/plain": [
       "<Figure size 432x288 with 1 Axes>"
      ]
     },
     "metadata": {
      "needs_background": "light"
     },
     "output_type": "display_data"
    }
   ],
   "source": [
    "loss_BiLSTM2 = history_BiLSTM2.history['loss']\n",
    "val_loss_BiLSTM2 = history_BiLSTM2.history['val_loss']\n",
    "\n",
    "epochs = range(len(loss_BiLSTM2))\n",
    "\n",
    "plt.figure()\n",
    "\n",
    "plt.plot(epochs, loss_BiLSTM2, 'b', label='Training loss')\n",
    "plt.plot(epochs, val_loss_BiLSTM2, 'r', label='Validation loss')\n",
    "plt.title(\"Bi-LSTM losses (ADA)\")\n",
    "plt.xlabel('Epochs')\n",
    "plt.ylabel('Loss')\n",
    "\n",
    "plt.legend()\n",
    "plt.show()"
   ]
  },
  {
   "cell_type": "code",
   "execution_count": 44,
   "id": "3486125d",
   "metadata": {},
   "outputs": [
    {
     "data": {
      "image/png": "[encoded data removed]",
      "text/plain": [
       "<Figure size 432x288 with 1 Axes>"
      ]
     },
     "metadata": {
      "needs_background": "light"
     },
     "output_type": "display_data"
    }
   ],
   "source": [
    "mape = history_BiLSTM2.history['MAPE']\n",
    "val_mape = history_BiLSTM2.history['val_MAPE']\n",
    "\n",
    "epochs = range(len(mape))\n",
    "\n",
    "plt.figure()\n",
    "\n",
    "plt.plot(epochs, mape, 'b', label='Training MAPE')\n",
    "plt.plot(epochs, val_mape, 'r', label='Validation MAPE')\n",
    "plt.title(\"Bi-LSTM MAPE (ADA)\")\n",
    "plt.xlabel('Epochs')\n",
    "plt.ylabel('MAPE')\n",
    "plt.legend()\n",
    "\n",
    "plt.show()"
   ]
  },
  {
   "cell_type": "code",
   "execution_count": 45,
   "id": "08deb3c2",
   "metadata": {},
   "outputs": [],
   "source": [
    "pred_BiLSTM2 = regressor2.predict(X_test)\n"
   ]
  },
  {
   "cell_type": "code",
   "execution_count": 50,
   "id": "4006072f",
   "metadata": {},
   "outputs": [
    {
     "data": {
      "image/png": "[encoded data removed]",
      "text/plain": [
       "<Figure size 432x288 with 1 Axes>"
      ]
     },
     "metadata": {
      "needs_background": "light"
     },
     "output_type": "display_data"
    }
   ],
   "source": [
    "plt.plot(y_test, color = 'black', label = 'Real Price')\n",
    "plt.plot(pred_BiLSTM2, color = 'red', label = 'Predicted Price')\n",
    "plt.title('Close ADA Price Prediction - Bi-LSTM', fontsize=18)\n",
    "#plt.xticks(range(0,df.shape[0],50),df['Date'].loc[::50],rotation=45)\n",
    "plt.xlabel('DateTime')\n",
    "plt.ylabel('Close Price')\n",
    "plt.legend(fontsize=18)\n",
    "plt.show()"
   ]
  },
  {
   "cell_type": "code",
   "execution_count": 47,
   "id": "6c87879d",
   "metadata": {},
   "outputs": [
    {
     "name": "stdout",
     "output_type": "stream",
     "text": [
      "113/113 [==============================] - 15s 132ms/step - loss: 0.0020 - MAPE: 21.1313\n",
      "\n",
      "The error of the model with 1 layer BiLSTM is: [0.0019785682670772076, 21.13129425048828]\n"
     ]
    }
   ],
   "source": [
    "import math\n",
    "\n",
    "BiLSTM2_loss = regressor2.evaluate(X_test, y_test, verbose=1)\n",
    "\n",
    "#Err_BiLSTM2 = math.sqrt(BiLSTM2_loss)\n",
    "print('\\nThe error of the model with 1 layer BiLSTM is:',BiLSTM2_loss)"
   ]
  },
  {
   "cell_type": "code",
   "execution_count": 48,
   "id": "c47c5710",
   "metadata": {},
   "outputs": [
    {
     "data": {
      "text/plain": [
       "0.0019785679144026327"
      ]
     },
     "execution_count": 48,
     "metadata": {},
     "output_type": "execute_result"
    }
   ],
   "source": [
    "from sklearn.metrics import mean_squared_error\n",
    "MAE=mean_squared_error(pred_BiLSTM2, y_test)\n",
    "MAE"
   ]
  },
  {
   "cell_type": "code",
   "execution_count": 49,
   "id": "aefb38a8",
   "metadata": {},
   "outputs": [
    {
     "data": {
      "text/plain": [
       "0.6513708757682335"
      ]
     },
     "execution_count": 49,
     "metadata": {},
     "output_type": "execute_result"
    }
   ],
   "source": [
    "from sklearn.metrics import r2_score\n",
    "R2=r2_score(y_test, pred_BiLSTM2)\n",
    "R2"
   ]
  },
  {
   "cell_type": "code",
   "execution_count": null,
   "id": "6434d374",
   "metadata": {},
   "outputs": [],
   "source": [
    "0.0019785679144026327"
   ]
  }
 ],
 "metadata": {
  "kernelspec": {
   "display_name": "Python 3 (ipykernel)",
   "language": "python",
   "name": "python3"
  },
  "language_info": {
   "codemirror_mode": {
    "name": "ipython",
    "version": 3
   },
   "file_extension": ".py",
   "mimetype": "text/x-python",
   "name": "python",
   "nbconvert_exporter": "python",
   "pygments_lexer": "ipython3",
   "version": "3.9.7"
  }
 },
 "nbformat": 4,
 "nbformat_minor": 5
}
