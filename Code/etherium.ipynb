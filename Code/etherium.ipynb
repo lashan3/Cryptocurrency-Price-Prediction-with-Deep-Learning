{
 "cells": [
  {
   "cell_type": "code",
   "execution_count": 1,
   "id": "c14a17a0",
   "metadata": {},
   "outputs": [
    {
     "data": {
      "text/html": [
       "        <script type=\"text/javascript\">\n",
       "        window.PlotlyConfig = {MathJaxConfig: 'local'};\n",
       "        if (window.MathJax && window.MathJax.Hub && window.MathJax.Hub.Config) {window.MathJax.Hub.Config({SVG: {font: \"STIX-Web\"}});}\n",
       "        if (typeof require !== 'undefined') {\n",
       "        require.undef(\"plotly\");\n",
       "        requirejs.config({\n",
       "            paths: {\n",
       "                'plotly': ['https://cdn.plot.ly/plotly-2.12.1.min']\n",
       "            }\n",
       "        });\n",
       "        require(['plotly'], function(Plotly) {\n",
       "            window._Plotly = Plotly;\n",
       "        });\n",
       "        }\n",
       "        </script>\n",
       "        "
      ]
     },
     "metadata": {},
     "output_type": "display_data"
    }
   ],
   "source": [
    "# Ignore Warnings\n",
    "import warnings\n",
    "from warnings import simplefilter\n",
    "warnings.filterwarnings(\"ignore\")\n",
    "\n",
    "# Computational imports\n",
    "import numpy as np   # Library for n-dimensional arrays\n",
    "import pandas as pd  # Library for dataframes (structured data)\n",
    "\n",
    "# Helper imports\n",
    "import os \n",
    "import re\n",
    "import time\n",
    "import warnings\n",
    "from tqdm import tqdm\n",
    "import datetime as dt\n",
    "import pandas_datareader as web\n",
    "from datetime import datetime\n",
    "import scipy.stats as stats\n",
    "from pathlib import Path\n",
    "\n",
    "# ML/DL imports\n",
    "from sklearn.preprocessing import MinMaxScaler, OrdinalEncoder, LabelEncoder, RobustScaler\n",
    "from sklearn.metrics import mean_squared_error, mean_squared_log_error\n",
    "from sklearn.model_selection import train_test_split\n",
    "\n",
    "import tensorflow as tf\n",
    "from tensorflow import keras\n",
    "from tensorflow.keras import layers\n",
    "import tensorflow_probability as tfp\n",
    "from tensorflow.keras.models import Sequential\n",
    "from tensorflow.keras.layers import LSTM, Dense, Dropout, RepeatVector, TimeDistributed\n",
    "from tensorflow.keras.callbacks import ModelCheckpoint, EarlyStopping\n",
    "\n",
    "# Plotting imports\n",
    "import matplotlib.pyplot as plt\n",
    "import matplotlib.dates as dates\n",
    "import seaborn as sns\n",
    "import plotly.graph_objects as go\n",
    "from plotly.subplots import make_subplots\n",
    "from plotly.offline import init_notebook_mode, iplot\n",
    "\n",
    "%matplotlib inline\n",
    "init_notebook_mode(connected=True)\n",
    "\n",
    "# Set seeds to make the experiment more reproducible.\n",
    "from numpy.random import seed\n",
    "seed(1)\n",
    "\n",
    "# Allows us to see more information regarding the DataFrame\n",
    "pd.set_option(\"display.max_rows\", 500)\n",
    "pd.set_option(\"display.max_columns\", 500)"
   ]
  },
  {
   "cell_type": "code",
   "execution_count": 2,
   "id": "1cad0dcf",
   "metadata": {},
   "outputs": [
    {
     "data": {
      "text/html": [
       "<div>\n",
       "<style scoped>\n",
       "    .dataframe tbody tr th:only-of-type {\n",
       "        vertical-align: middle;\n",
       "    }\n",
       "\n",
       "    .dataframe tbody tr th {\n",
       "        vertical-align: top;\n",
       "    }\n",
       "\n",
       "    .dataframe thead th {\n",
       "        text-align: right;\n",
       "    }\n",
       "</style>\n",
       "<table border=\"1\" class=\"dataframe\">\n",
       "  <thead>\n",
       "    <tr style=\"text-align: right;\">\n",
       "      <th></th>\n",
       "      <th>unix</th>\n",
       "      <th>symbol</th>\n",
       "      <th>open</th>\n",
       "      <th>high</th>\n",
       "      <th>low</th>\n",
       "      <th>close</th>\n",
       "      <th>Volume ETH</th>\n",
       "      <th>Volume USD</th>\n",
       "    </tr>\n",
       "    <tr>\n",
       "      <th>date</th>\n",
       "      <th></th>\n",
       "      <th></th>\n",
       "      <th></th>\n",
       "      <th></th>\n",
       "      <th></th>\n",
       "      <th></th>\n",
       "      <th></th>\n",
       "      <th></th>\n",
       "    </tr>\n",
       "  </thead>\n",
       "  <tbody>\n",
       "    <tr>\n",
       "      <th>2022-08-25 00:00:00</th>\n",
       "      <td>1661385600000</td>\n",
       "      <td>ETH/USD</td>\n",
       "      <td>1656.40</td>\n",
       "      <td>1672.51</td>\n",
       "      <td>1655.12</td>\n",
       "      <td>1669.66</td>\n",
       "      <td>400.576414</td>\n",
       "      <td>6.688264e+05</td>\n",
       "    </tr>\n",
       "    <tr>\n",
       "      <th>2022-08-24 23:00:00</th>\n",
       "      <td>1661382000000</td>\n",
       "      <td>ETH/USD</td>\n",
       "      <td>1661.01</td>\n",
       "      <td>1668.55</td>\n",
       "      <td>1651.59</td>\n",
       "      <td>1656.40</td>\n",
       "      <td>265.951014</td>\n",
       "      <td>4.405213e+05</td>\n",
       "    </tr>\n",
       "    <tr>\n",
       "      <th>2022-08-24 22:00:00</th>\n",
       "      <td>1661378400000</td>\n",
       "      <td>ETH/USD</td>\n",
       "      <td>1670.70</td>\n",
       "      <td>1677.74</td>\n",
       "      <td>1657.51</td>\n",
       "      <td>1661.01</td>\n",
       "      <td>898.363296</td>\n",
       "      <td>1.492190e+06</td>\n",
       "    </tr>\n",
       "    <tr>\n",
       "      <th>2022-08-24 21:00:00</th>\n",
       "      <td>1661374800000</td>\n",
       "      <td>ETH/USD</td>\n",
       "      <td>1684.93</td>\n",
       "      <td>1685.92</td>\n",
       "      <td>1669.94</td>\n",
       "      <td>1670.70</td>\n",
       "      <td>775.933763</td>\n",
       "      <td>1.296353e+06</td>\n",
       "    </tr>\n",
       "    <tr>\n",
       "      <th>2022-08-24 20:00:00</th>\n",
       "      <td>1661371200000</td>\n",
       "      <td>ETH/USD</td>\n",
       "      <td>1678.45</td>\n",
       "      <td>1686.46</td>\n",
       "      <td>1678.45</td>\n",
       "      <td>1684.93</td>\n",
       "      <td>127.979835</td>\n",
       "      <td>2.156371e+05</td>\n",
       "    </tr>\n",
       "  </tbody>\n",
       "</table>\n",
       "</div>"
      ],
      "text/plain": [
       "                              unix   symbol     open     high      low  \\\n",
       "date                                                                     \n",
       "2022-08-25 00:00:00  1661385600000  ETH/USD  1656.40  1672.51  1655.12   \n",
       "2022-08-24 23:00:00  1661382000000  ETH/USD  1661.01  1668.55  1651.59   \n",
       "2022-08-24 22:00:00  1661378400000  ETH/USD  1670.70  1677.74  1657.51   \n",
       "2022-08-24 21:00:00  1661374800000  ETH/USD  1684.93  1685.92  1669.94   \n",
       "2022-08-24 20:00:00  1661371200000  ETH/USD  1678.45  1686.46  1678.45   \n",
       "\n",
       "                       close  Volume ETH    Volume USD  \n",
       "date                                                    \n",
       "2022-08-25 00:00:00  1669.66  400.576414  6.688264e+05  \n",
       "2022-08-24 23:00:00  1656.40  265.951014  4.405213e+05  \n",
       "2022-08-24 22:00:00  1661.01  898.363296  1.492190e+06  \n",
       "2022-08-24 21:00:00  1670.70  775.933763  1.296353e+06  \n",
       "2022-08-24 20:00:00  1684.93  127.979835  2.156371e+05  "
      ]
     },
     "execution_count": 2,
     "metadata": {},
     "output_type": "execute_result"
    }
   ],
   "source": [
    "url = 'https://www.cryptodatadownload.com/cdd/Gemini_ETHUSD_1h.csv'\n",
    "dataset = pd.read_csv(url, index_col=\"date\", skiprows=1)\n",
    "#dataset = pd.read_csv('Gemini_ETHUSD_1h.csv', index_col=\"date\", skiprows=1)\n",
    "dataset.head()"
   ]
  },
  {
   "cell_type": "code",
   "execution_count": 3,
   "id": "ee5a9225",
   "metadata": {},
   "outputs": [
    {
     "data": {
      "text/html": [
       "<div>\n",
       "<style scoped>\n",
       "    .dataframe tbody tr th:only-of-type {\n",
       "        vertical-align: middle;\n",
       "    }\n",
       "\n",
       "    .dataframe tbody tr th {\n",
       "        vertical-align: top;\n",
       "    }\n",
       "\n",
       "    .dataframe thead th {\n",
       "        text-align: right;\n",
       "    }\n",
       "</style>\n",
       "<table border=\"1\" class=\"dataframe\">\n",
       "  <thead>\n",
       "    <tr style=\"text-align: right;\">\n",
       "      <th></th>\n",
       "      <th>unix</th>\n",
       "      <th>symbol</th>\n",
       "      <th>open</th>\n",
       "      <th>high</th>\n",
       "      <th>low</th>\n",
       "      <th>close</th>\n",
       "      <th>Volume ETH</th>\n",
       "      <th>Volume USD</th>\n",
       "    </tr>\n",
       "    <tr>\n",
       "      <th>date</th>\n",
       "      <th></th>\n",
       "      <th></th>\n",
       "      <th></th>\n",
       "      <th></th>\n",
       "      <th></th>\n",
       "      <th></th>\n",
       "      <th></th>\n",
       "      <th></th>\n",
       "    </tr>\n",
       "  </thead>\n",
       "  <tbody>\n",
       "    <tr>\n",
       "      <th>2016-05-09 13:00:00</th>\n",
       "      <td>1462798800</td>\n",
       "      <td>ETH/USD</td>\n",
       "      <td>0.00</td>\n",
       "      <td>12.00</td>\n",
       "      <td>0.00</td>\n",
       "      <td>9.55</td>\n",
       "      <td>432.562115</td>\n",
       "      <td>4130.968200</td>\n",
       "    </tr>\n",
       "    <tr>\n",
       "      <th>2016-05-09 14:00:00</th>\n",
       "      <td>1462802400</td>\n",
       "      <td>ETH/USD</td>\n",
       "      <td>9.55</td>\n",
       "      <td>10.00</td>\n",
       "      <td>9.55</td>\n",
       "      <td>10.00</td>\n",
       "      <td>235.774075</td>\n",
       "      <td>2357.740748</td>\n",
       "    </tr>\n",
       "    <tr>\n",
       "      <th>2016-05-09 15:00:00</th>\n",
       "      <td>1462806000</td>\n",
       "      <td>ETH/USD</td>\n",
       "      <td>10.00</td>\n",
       "      <td>10.00</td>\n",
       "      <td>9.99</td>\n",
       "      <td>9.99</td>\n",
       "      <td>10.973567</td>\n",
       "      <td>109.625935</td>\n",
       "    </tr>\n",
       "    <tr>\n",
       "      <th>2016-05-09 16:00:00</th>\n",
       "      <td>1462809600</td>\n",
       "      <td>ETH/USD</td>\n",
       "      <td>9.99</td>\n",
       "      <td>9.99</td>\n",
       "      <td>9.79</td>\n",
       "      <td>9.83</td>\n",
       "      <td>62.379450</td>\n",
       "      <td>613.189994</td>\n",
       "    </tr>\n",
       "    <tr>\n",
       "      <th>2016-05-09 17:00:00</th>\n",
       "      <td>1462813200</td>\n",
       "      <td>ETH/USD</td>\n",
       "      <td>9.83</td>\n",
       "      <td>9.83</td>\n",
       "      <td>9.48</td>\n",
       "      <td>9.49</td>\n",
       "      <td>329.553213</td>\n",
       "      <td>3127.459991</td>\n",
       "    </tr>\n",
       "  </tbody>\n",
       "</table>\n",
       "</div>"
      ],
      "text/plain": [
       "                           unix   symbol   open   high   low  close  \\\n",
       "date                                                                  \n",
       "2016-05-09 13:00:00  1462798800  ETH/USD   0.00  12.00  0.00   9.55   \n",
       "2016-05-09 14:00:00  1462802400  ETH/USD   9.55  10.00  9.55  10.00   \n",
       "2016-05-09 15:00:00  1462806000  ETH/USD  10.00  10.00  9.99   9.99   \n",
       "2016-05-09 16:00:00  1462809600  ETH/USD   9.99   9.99  9.79   9.83   \n",
       "2016-05-09 17:00:00  1462813200  ETH/USD   9.83   9.83  9.48   9.49   \n",
       "\n",
       "                     Volume ETH   Volume USD  \n",
       "date                                          \n",
       "2016-05-09 13:00:00  432.562115  4130.968200  \n",
       "2016-05-09 14:00:00  235.774075  2357.740748  \n",
       "2016-05-09 15:00:00   10.973567   109.625935  \n",
       "2016-05-09 16:00:00   62.379450   613.189994  \n",
       "2016-05-09 17:00:00  329.553213  3127.459991  "
      ]
     },
     "execution_count": 3,
     "metadata": {},
     "output_type": "execute_result"
    }
   ],
   "source": [
    "dataset = dataset.iloc[::-1]\n",
    "\n",
    "dataset.head()\n",
    "\n"
   ]
  },
  {
   "cell_type": "code",
   "execution_count": 4,
   "id": "a6d774dd",
   "metadata": {},
   "outputs": [
    {
     "data": {
      "text/html": [
       "<div>\n",
       "<style scoped>\n",
       "    .dataframe tbody tr th:only-of-type {\n",
       "        vertical-align: middle;\n",
       "    }\n",
       "\n",
       "    .dataframe tbody tr th {\n",
       "        vertical-align: top;\n",
       "    }\n",
       "\n",
       "    .dataframe thead th {\n",
       "        text-align: right;\n",
       "    }\n",
       "</style>\n",
       "<table border=\"1\" class=\"dataframe\">\n",
       "  <thead>\n",
       "    <tr style=\"text-align: right;\">\n",
       "      <th></th>\n",
       "      <th>date</th>\n",
       "      <th>unix</th>\n",
       "      <th>symbol</th>\n",
       "      <th>open</th>\n",
       "      <th>high</th>\n",
       "      <th>low</th>\n",
       "      <th>close</th>\n",
       "      <th>Volume ETH</th>\n",
       "      <th>Volume USD</th>\n",
       "    </tr>\n",
       "  </thead>\n",
       "  <tbody>\n",
       "    <tr>\n",
       "      <th>0</th>\n",
       "      <td>2016-05-09 13:00:00</td>\n",
       "      <td>1462798800</td>\n",
       "      <td>ETH/USD</td>\n",
       "      <td>0.00</td>\n",
       "      <td>12.00</td>\n",
       "      <td>0.00</td>\n",
       "      <td>9.55</td>\n",
       "      <td>432.562115</td>\n",
       "      <td>4.130968e+03</td>\n",
       "    </tr>\n",
       "    <tr>\n",
       "      <th>1</th>\n",
       "      <td>2016-05-09 14:00:00</td>\n",
       "      <td>1462802400</td>\n",
       "      <td>ETH/USD</td>\n",
       "      <td>9.55</td>\n",
       "      <td>10.00</td>\n",
       "      <td>9.55</td>\n",
       "      <td>10.00</td>\n",
       "      <td>235.774075</td>\n",
       "      <td>2.357741e+03</td>\n",
       "    </tr>\n",
       "    <tr>\n",
       "      <th>2</th>\n",
       "      <td>2016-05-09 15:00:00</td>\n",
       "      <td>1462806000</td>\n",
       "      <td>ETH/USD</td>\n",
       "      <td>10.00</td>\n",
       "      <td>10.00</td>\n",
       "      <td>9.99</td>\n",
       "      <td>9.99</td>\n",
       "      <td>10.973567</td>\n",
       "      <td>1.096259e+02</td>\n",
       "    </tr>\n",
       "    <tr>\n",
       "      <th>3</th>\n",
       "      <td>2016-05-09 16:00:00</td>\n",
       "      <td>1462809600</td>\n",
       "      <td>ETH/USD</td>\n",
       "      <td>9.99</td>\n",
       "      <td>9.99</td>\n",
       "      <td>9.79</td>\n",
       "      <td>9.83</td>\n",
       "      <td>62.379450</td>\n",
       "      <td>6.131900e+02</td>\n",
       "    </tr>\n",
       "    <tr>\n",
       "      <th>4</th>\n",
       "      <td>2016-05-09 17:00:00</td>\n",
       "      <td>1462813200</td>\n",
       "      <td>ETH/USD</td>\n",
       "      <td>9.83</td>\n",
       "      <td>9.83</td>\n",
       "      <td>9.48</td>\n",
       "      <td>9.49</td>\n",
       "      <td>329.553213</td>\n",
       "      <td>3.127460e+03</td>\n",
       "    </tr>\n",
       "    <tr>\n",
       "      <th>...</th>\n",
       "      <td>...</td>\n",
       "      <td>...</td>\n",
       "      <td>...</td>\n",
       "      <td>...</td>\n",
       "      <td>...</td>\n",
       "      <td>...</td>\n",
       "      <td>...</td>\n",
       "      <td>...</td>\n",
       "      <td>...</td>\n",
       "    </tr>\n",
       "    <tr>\n",
       "      <th>55156</th>\n",
       "      <td>2022-08-24 20:00:00</td>\n",
       "      <td>1661371200000</td>\n",
       "      <td>ETH/USD</td>\n",
       "      <td>1678.45</td>\n",
       "      <td>1686.46</td>\n",
       "      <td>1678.45</td>\n",
       "      <td>1684.93</td>\n",
       "      <td>127.979835</td>\n",
       "      <td>2.156371e+05</td>\n",
       "    </tr>\n",
       "    <tr>\n",
       "      <th>55157</th>\n",
       "      <td>2022-08-24 21:00:00</td>\n",
       "      <td>1661374800000</td>\n",
       "      <td>ETH/USD</td>\n",
       "      <td>1684.93</td>\n",
       "      <td>1685.92</td>\n",
       "      <td>1669.94</td>\n",
       "      <td>1670.70</td>\n",
       "      <td>775.933763</td>\n",
       "      <td>1.296353e+06</td>\n",
       "    </tr>\n",
       "    <tr>\n",
       "      <th>55158</th>\n",
       "      <td>2022-08-24 22:00:00</td>\n",
       "      <td>1661378400000</td>\n",
       "      <td>ETH/USD</td>\n",
       "      <td>1670.70</td>\n",
       "      <td>1677.74</td>\n",
       "      <td>1657.51</td>\n",
       "      <td>1661.01</td>\n",
       "      <td>898.363296</td>\n",
       "      <td>1.492190e+06</td>\n",
       "    </tr>\n",
       "    <tr>\n",
       "      <th>55159</th>\n",
       "      <td>2022-08-24 23:00:00</td>\n",
       "      <td>1661382000000</td>\n",
       "      <td>ETH/USD</td>\n",
       "      <td>1661.01</td>\n",
       "      <td>1668.55</td>\n",
       "      <td>1651.59</td>\n",
       "      <td>1656.40</td>\n",
       "      <td>265.951014</td>\n",
       "      <td>4.405213e+05</td>\n",
       "    </tr>\n",
       "    <tr>\n",
       "      <th>55160</th>\n",
       "      <td>2022-08-25 00:00:00</td>\n",
       "      <td>1661385600000</td>\n",
       "      <td>ETH/USD</td>\n",
       "      <td>1656.40</td>\n",
       "      <td>1672.51</td>\n",
       "      <td>1655.12</td>\n",
       "      <td>1669.66</td>\n",
       "      <td>400.576414</td>\n",
       "      <td>6.688264e+05</td>\n",
       "    </tr>\n",
       "  </tbody>\n",
       "</table>\n",
       "<p>55161 rows × 9 columns</p>\n",
       "</div>"
      ],
      "text/plain": [
       "                      date           unix   symbol     open     high      low  \\\n",
       "0      2016-05-09 13:00:00     1462798800  ETH/USD     0.00    12.00     0.00   \n",
       "1      2016-05-09 14:00:00     1462802400  ETH/USD     9.55    10.00     9.55   \n",
       "2      2016-05-09 15:00:00     1462806000  ETH/USD    10.00    10.00     9.99   \n",
       "3      2016-05-09 16:00:00     1462809600  ETH/USD     9.99     9.99     9.79   \n",
       "4      2016-05-09 17:00:00     1462813200  ETH/USD     9.83     9.83     9.48   \n",
       "...                    ...            ...      ...      ...      ...      ...   \n",
       "55156  2022-08-24 20:00:00  1661371200000  ETH/USD  1678.45  1686.46  1678.45   \n",
       "55157  2022-08-24 21:00:00  1661374800000  ETH/USD  1684.93  1685.92  1669.94   \n",
       "55158  2022-08-24 22:00:00  1661378400000  ETH/USD  1670.70  1677.74  1657.51   \n",
       "55159  2022-08-24 23:00:00  1661382000000  ETH/USD  1661.01  1668.55  1651.59   \n",
       "55160  2022-08-25 00:00:00  1661385600000  ETH/USD  1656.40  1672.51  1655.12   \n",
       "\n",
       "         close  Volume ETH    Volume USD  \n",
       "0         9.55  432.562115  4.130968e+03  \n",
       "1        10.00  235.774075  2.357741e+03  \n",
       "2         9.99   10.973567  1.096259e+02  \n",
       "3         9.83   62.379450  6.131900e+02  \n",
       "4         9.49  329.553213  3.127460e+03  \n",
       "...        ...         ...           ...  \n",
       "55156  1684.93  127.979835  2.156371e+05  \n",
       "55157  1670.70  775.933763  1.296353e+06  \n",
       "55158  1661.01  898.363296  1.492190e+06  \n",
       "55159  1656.40  265.951014  4.405213e+05  \n",
       "55160  1669.66  400.576414  6.688264e+05  \n",
       "\n",
       "[55161 rows x 9 columns]"
      ]
     },
     "execution_count": 4,
     "metadata": {},
     "output_type": "execute_result"
    }
   ],
   "source": [
    "df = dataset.reset_index()\n",
    "df"
   ]
  },
  {
   "cell_type": "code",
   "execution_count": 5,
   "id": "17f74d09",
   "metadata": {},
   "outputs": [
    {
     "data": {
      "text/html": [
       "<div>\n",
       "<style scoped>\n",
       "    .dataframe tbody tr th:only-of-type {\n",
       "        vertical-align: middle;\n",
       "    }\n",
       "\n",
       "    .dataframe tbody tr th {\n",
       "        vertical-align: top;\n",
       "    }\n",
       "\n",
       "    .dataframe thead th {\n",
       "        text-align: right;\n",
       "    }\n",
       "</style>\n",
       "<table border=\"1\" class=\"dataframe\">\n",
       "  <thead>\n",
       "    <tr style=\"text-align: right;\">\n",
       "      <th></th>\n",
       "      <th>date</th>\n",
       "      <th>unix</th>\n",
       "      <th>symbol</th>\n",
       "      <th>open</th>\n",
       "      <th>high</th>\n",
       "      <th>low</th>\n",
       "      <th>close</th>\n",
       "      <th>Volume ETH</th>\n",
       "      <th>Volume USD</th>\n",
       "    </tr>\n",
       "  </thead>\n",
       "  <tbody>\n",
       "    <tr>\n",
       "      <th>0</th>\n",
       "      <td>2016-05-09 13:00:00</td>\n",
       "      <td>1462798800</td>\n",
       "      <td>ETH/USD</td>\n",
       "      <td>0.00</td>\n",
       "      <td>12.00</td>\n",
       "      <td>0.00</td>\n",
       "      <td>9.55</td>\n",
       "      <td>432.562115</td>\n",
       "      <td>4.130968e+03</td>\n",
       "    </tr>\n",
       "    <tr>\n",
       "      <th>1</th>\n",
       "      <td>2016-05-09 14:00:00</td>\n",
       "      <td>1462802400</td>\n",
       "      <td>ETH/USD</td>\n",
       "      <td>9.55</td>\n",
       "      <td>10.00</td>\n",
       "      <td>9.55</td>\n",
       "      <td>10.00</td>\n",
       "      <td>235.774075</td>\n",
       "      <td>2.357741e+03</td>\n",
       "    </tr>\n",
       "    <tr>\n",
       "      <th>2</th>\n",
       "      <td>2016-05-09 15:00:00</td>\n",
       "      <td>1462806000</td>\n",
       "      <td>ETH/USD</td>\n",
       "      <td>10.00</td>\n",
       "      <td>10.00</td>\n",
       "      <td>9.99</td>\n",
       "      <td>9.99</td>\n",
       "      <td>10.973567</td>\n",
       "      <td>1.096259e+02</td>\n",
       "    </tr>\n",
       "    <tr>\n",
       "      <th>3</th>\n",
       "      <td>2016-05-09 16:00:00</td>\n",
       "      <td>1462809600</td>\n",
       "      <td>ETH/USD</td>\n",
       "      <td>9.99</td>\n",
       "      <td>9.99</td>\n",
       "      <td>9.79</td>\n",
       "      <td>9.83</td>\n",
       "      <td>62.379450</td>\n",
       "      <td>6.131900e+02</td>\n",
       "    </tr>\n",
       "    <tr>\n",
       "      <th>4</th>\n",
       "      <td>2016-05-09 17:00:00</td>\n",
       "      <td>1462813200</td>\n",
       "      <td>ETH/USD</td>\n",
       "      <td>9.83</td>\n",
       "      <td>9.83</td>\n",
       "      <td>9.48</td>\n",
       "      <td>9.49</td>\n",
       "      <td>329.553213</td>\n",
       "      <td>3.127460e+03</td>\n",
       "    </tr>\n",
       "    <tr>\n",
       "      <th>...</th>\n",
       "      <td>...</td>\n",
       "      <td>...</td>\n",
       "      <td>...</td>\n",
       "      <td>...</td>\n",
       "      <td>...</td>\n",
       "      <td>...</td>\n",
       "      <td>...</td>\n",
       "      <td>...</td>\n",
       "      <td>...</td>\n",
       "    </tr>\n",
       "    <tr>\n",
       "      <th>55156</th>\n",
       "      <td>2022-08-24 20:00:00</td>\n",
       "      <td>1661371200000</td>\n",
       "      <td>ETH/USD</td>\n",
       "      <td>1678.45</td>\n",
       "      <td>1686.46</td>\n",
       "      <td>1678.45</td>\n",
       "      <td>1684.93</td>\n",
       "      <td>127.979835</td>\n",
       "      <td>2.156371e+05</td>\n",
       "    </tr>\n",
       "    <tr>\n",
       "      <th>55157</th>\n",
       "      <td>2022-08-24 21:00:00</td>\n",
       "      <td>1661374800000</td>\n",
       "      <td>ETH/USD</td>\n",
       "      <td>1684.93</td>\n",
       "      <td>1685.92</td>\n",
       "      <td>1669.94</td>\n",
       "      <td>1670.70</td>\n",
       "      <td>775.933763</td>\n",
       "      <td>1.296353e+06</td>\n",
       "    </tr>\n",
       "    <tr>\n",
       "      <th>55158</th>\n",
       "      <td>2022-08-24 22:00:00</td>\n",
       "      <td>1661378400000</td>\n",
       "      <td>ETH/USD</td>\n",
       "      <td>1670.70</td>\n",
       "      <td>1677.74</td>\n",
       "      <td>1657.51</td>\n",
       "      <td>1661.01</td>\n",
       "      <td>898.363296</td>\n",
       "      <td>1.492190e+06</td>\n",
       "    </tr>\n",
       "    <tr>\n",
       "      <th>55159</th>\n",
       "      <td>2022-08-24 23:00:00</td>\n",
       "      <td>1661382000000</td>\n",
       "      <td>ETH/USD</td>\n",
       "      <td>1661.01</td>\n",
       "      <td>1668.55</td>\n",
       "      <td>1651.59</td>\n",
       "      <td>1656.40</td>\n",
       "      <td>265.951014</td>\n",
       "      <td>4.405213e+05</td>\n",
       "    </tr>\n",
       "    <tr>\n",
       "      <th>55160</th>\n",
       "      <td>2022-08-25 00:00:00</td>\n",
       "      <td>1661385600000</td>\n",
       "      <td>ETH/USD</td>\n",
       "      <td>1656.40</td>\n",
       "      <td>1672.51</td>\n",
       "      <td>1655.12</td>\n",
       "      <td>1669.66</td>\n",
       "      <td>400.576414</td>\n",
       "      <td>6.688264e+05</td>\n",
       "    </tr>\n",
       "  </tbody>\n",
       "</table>\n",
       "<p>55161 rows × 9 columns</p>\n",
       "</div>"
      ],
      "text/plain": [
       "                      date           unix   symbol     open     high      low  \\\n",
       "0      2016-05-09 13:00:00     1462798800  ETH/USD     0.00    12.00     0.00   \n",
       "1      2016-05-09 14:00:00     1462802400  ETH/USD     9.55    10.00     9.55   \n",
       "2      2016-05-09 15:00:00     1462806000  ETH/USD    10.00    10.00     9.99   \n",
       "3      2016-05-09 16:00:00     1462809600  ETH/USD     9.99     9.99     9.79   \n",
       "4      2016-05-09 17:00:00     1462813200  ETH/USD     9.83     9.83     9.48   \n",
       "...                    ...            ...      ...      ...      ...      ...   \n",
       "55156  2022-08-24 20:00:00  1661371200000  ETH/USD  1678.45  1686.46  1678.45   \n",
       "55157  2022-08-24 21:00:00  1661374800000  ETH/USD  1684.93  1685.92  1669.94   \n",
       "55158  2022-08-24 22:00:00  1661378400000  ETH/USD  1670.70  1677.74  1657.51   \n",
       "55159  2022-08-24 23:00:00  1661382000000  ETH/USD  1661.01  1668.55  1651.59   \n",
       "55160  2022-08-25 00:00:00  1661385600000  ETH/USD  1656.40  1672.51  1655.12   \n",
       "\n",
       "         close  Volume ETH    Volume USD  \n",
       "0         9.55  432.562115  4.130968e+03  \n",
       "1        10.00  235.774075  2.357741e+03  \n",
       "2         9.99   10.973567  1.096259e+02  \n",
       "3         9.83   62.379450  6.131900e+02  \n",
       "4         9.49  329.553213  3.127460e+03  \n",
       "...        ...         ...           ...  \n",
       "55156  1684.93  127.979835  2.156371e+05  \n",
       "55157  1670.70  775.933763  1.296353e+06  \n",
       "55158  1661.01  898.363296  1.492190e+06  \n",
       "55159  1656.40  265.951014  4.405213e+05  \n",
       "55160  1669.66  400.576414  6.688264e+05  \n",
       "\n",
       "[55161 rows x 9 columns]"
      ]
     },
     "execution_count": 5,
     "metadata": {},
     "output_type": "execute_result"
    }
   ],
   "source": [
    "#plt.figure(figsize=(12,6))\n",
    "#sns.lineplot(x='date', y='close', data=df).set_title(\"Price of Bitcoin\")\n",
    "df"
   ]
  },
  {
   "cell_type": "code",
   "execution_count": 6,
   "id": "98c788b0",
   "metadata": {
    "scrolled": true
   },
   "outputs": [
    {
     "data": {
      "text/html": [
       "<div>\n",
       "<style scoped>\n",
       "    .dataframe tbody tr th:only-of-type {\n",
       "        vertical-align: middle;\n",
       "    }\n",
       "\n",
       "    .dataframe tbody tr th {\n",
       "        vertical-align: top;\n",
       "    }\n",
       "\n",
       "    .dataframe thead th {\n",
       "        text-align: right;\n",
       "    }\n",
       "</style>\n",
       "<table border=\"1\" class=\"dataframe\">\n",
       "  <thead>\n",
       "    <tr style=\"text-align: right;\">\n",
       "      <th></th>\n",
       "      <th>open</th>\n",
       "      <th>high</th>\n",
       "      <th>low</th>\n",
       "      <th>close</th>\n",
       "      <th>Volume ETH</th>\n",
       "      <th>Volume USD</th>\n",
       "    </tr>\n",
       "  </thead>\n",
       "  <tbody>\n",
       "    <tr>\n",
       "      <th>0</th>\n",
       "      <td>0.00</td>\n",
       "      <td>12.00</td>\n",
       "      <td>0.00</td>\n",
       "      <td>9.55</td>\n",
       "      <td>432.562115</td>\n",
       "      <td>4.130968e+03</td>\n",
       "    </tr>\n",
       "    <tr>\n",
       "      <th>1</th>\n",
       "      <td>9.55</td>\n",
       "      <td>10.00</td>\n",
       "      <td>9.55</td>\n",
       "      <td>10.00</td>\n",
       "      <td>235.774075</td>\n",
       "      <td>2.357741e+03</td>\n",
       "    </tr>\n",
       "    <tr>\n",
       "      <th>2</th>\n",
       "      <td>10.00</td>\n",
       "      <td>10.00</td>\n",
       "      <td>9.99</td>\n",
       "      <td>9.99</td>\n",
       "      <td>10.973567</td>\n",
       "      <td>1.096259e+02</td>\n",
       "    </tr>\n",
       "    <tr>\n",
       "      <th>3</th>\n",
       "      <td>9.99</td>\n",
       "      <td>9.99</td>\n",
       "      <td>9.79</td>\n",
       "      <td>9.83</td>\n",
       "      <td>62.379450</td>\n",
       "      <td>6.131900e+02</td>\n",
       "    </tr>\n",
       "    <tr>\n",
       "      <th>4</th>\n",
       "      <td>9.83</td>\n",
       "      <td>9.83</td>\n",
       "      <td>9.48</td>\n",
       "      <td>9.49</td>\n",
       "      <td>329.553213</td>\n",
       "      <td>3.127460e+03</td>\n",
       "    </tr>\n",
       "    <tr>\n",
       "      <th>...</th>\n",
       "      <td>...</td>\n",
       "      <td>...</td>\n",
       "      <td>...</td>\n",
       "      <td>...</td>\n",
       "      <td>...</td>\n",
       "      <td>...</td>\n",
       "    </tr>\n",
       "    <tr>\n",
       "      <th>55156</th>\n",
       "      <td>1678.45</td>\n",
       "      <td>1686.46</td>\n",
       "      <td>1678.45</td>\n",
       "      <td>1684.93</td>\n",
       "      <td>127.979835</td>\n",
       "      <td>2.156371e+05</td>\n",
       "    </tr>\n",
       "    <tr>\n",
       "      <th>55157</th>\n",
       "      <td>1684.93</td>\n",
       "      <td>1685.92</td>\n",
       "      <td>1669.94</td>\n",
       "      <td>1670.70</td>\n",
       "      <td>775.933763</td>\n",
       "      <td>1.296353e+06</td>\n",
       "    </tr>\n",
       "    <tr>\n",
       "      <th>55158</th>\n",
       "      <td>1670.70</td>\n",
       "      <td>1677.74</td>\n",
       "      <td>1657.51</td>\n",
       "      <td>1661.01</td>\n",
       "      <td>898.363296</td>\n",
       "      <td>1.492190e+06</td>\n",
       "    </tr>\n",
       "    <tr>\n",
       "      <th>55159</th>\n",
       "      <td>1661.01</td>\n",
       "      <td>1668.55</td>\n",
       "      <td>1651.59</td>\n",
       "      <td>1656.40</td>\n",
       "      <td>265.951014</td>\n",
       "      <td>4.405213e+05</td>\n",
       "    </tr>\n",
       "    <tr>\n",
       "      <th>55160</th>\n",
       "      <td>1656.40</td>\n",
       "      <td>1672.51</td>\n",
       "      <td>1655.12</td>\n",
       "      <td>1669.66</td>\n",
       "      <td>400.576414</td>\n",
       "      <td>6.688264e+05</td>\n",
       "    </tr>\n",
       "  </tbody>\n",
       "</table>\n",
       "<p>55161 rows × 6 columns</p>\n",
       "</div>"
      ],
      "text/plain": [
       "          open     high      low    close  Volume ETH    Volume USD\n",
       "0         0.00    12.00     0.00     9.55  432.562115  4.130968e+03\n",
       "1         9.55    10.00     9.55    10.00  235.774075  2.357741e+03\n",
       "2        10.00    10.00     9.99     9.99   10.973567  1.096259e+02\n",
       "3         9.99     9.99     9.79     9.83   62.379450  6.131900e+02\n",
       "4         9.83     9.83     9.48     9.49  329.553213  3.127460e+03\n",
       "...        ...      ...      ...      ...         ...           ...\n",
       "55156  1678.45  1686.46  1678.45  1684.93  127.979835  2.156371e+05\n",
       "55157  1684.93  1685.92  1669.94  1670.70  775.933763  1.296353e+06\n",
       "55158  1670.70  1677.74  1657.51  1661.01  898.363296  1.492190e+06\n",
       "55159  1661.01  1668.55  1651.59  1656.40  265.951014  4.405213e+05\n",
       "55160  1656.40  1672.51  1655.12  1669.66  400.576414  6.688264e+05\n",
       "\n",
       "[55161 rows x 6 columns]"
      ]
     },
     "execution_count": 6,
     "metadata": {},
     "output_type": "execute_result"
    }
   ],
   "source": [
    "df = df[[\"open\", \"high\", \"low\", \"close\",\"Volume ETH\", \"Volume USD\"]]\n",
    "#df = df[['Close']]\n",
    "df.head()\n",
    "SEQ_LEN = 120\n",
    "FUTURE_PERIOD = 10\n",
    "\n",
    "RATIO_TO_PREDICT = \"Close\"\n",
    "df"
   ]
  },
  {
   "cell_type": "code",
   "execution_count": 7,
   "id": "4bc23f4b",
   "metadata": {},
   "outputs": [],
   "source": [
    "times = sorted(df.index.values)  # get the times\n",
    "last_10 = times[-int(0.1*len(times))] \n",
    "last_20 = times[-int(0.2*len(times))]\n",
    "\n",
    "test_df = df[(df.index >= last_10)]\n",
    "validation_df = df[(df.index >= last_20) & (df.index < last_10)]  \n",
    "train_df = df[(df.index < last_20)]"
   ]
  },
  {
   "cell_type": "code",
   "execution_count": 8,
   "id": "b7b7000c",
   "metadata": {},
   "outputs": [
    {
     "data": {
      "text/html": [
       "<div>\n",
       "<style scoped>\n",
       "    .dataframe tbody tr th:only-of-type {\n",
       "        vertical-align: middle;\n",
       "    }\n",
       "\n",
       "    .dataframe tbody tr th {\n",
       "        vertical-align: top;\n",
       "    }\n",
       "\n",
       "    .dataframe thead th {\n",
       "        text-align: right;\n",
       "    }\n",
       "</style>\n",
       "<table border=\"1\" class=\"dataframe\">\n",
       "  <thead>\n",
       "    <tr style=\"text-align: right;\">\n",
       "      <th></th>\n",
       "      <th>open</th>\n",
       "      <th>high</th>\n",
       "      <th>low</th>\n",
       "      <th>close</th>\n",
       "      <th>Volume ETH</th>\n",
       "      <th>Volume USD</th>\n",
       "    </tr>\n",
       "  </thead>\n",
       "  <tbody>\n",
       "    <tr>\n",
       "      <th>0</th>\n",
       "      <td>0.00</td>\n",
       "      <td>12.00</td>\n",
       "      <td>0.00</td>\n",
       "      <td>9.55</td>\n",
       "      <td>432.562115</td>\n",
       "      <td>4.130968e+03</td>\n",
       "    </tr>\n",
       "    <tr>\n",
       "      <th>1</th>\n",
       "      <td>9.55</td>\n",
       "      <td>10.00</td>\n",
       "      <td>9.55</td>\n",
       "      <td>10.00</td>\n",
       "      <td>235.774075</td>\n",
       "      <td>2.357741e+03</td>\n",
       "    </tr>\n",
       "    <tr>\n",
       "      <th>2</th>\n",
       "      <td>10.00</td>\n",
       "      <td>10.00</td>\n",
       "      <td>9.99</td>\n",
       "      <td>9.99</td>\n",
       "      <td>10.973567</td>\n",
       "      <td>1.096259e+02</td>\n",
       "    </tr>\n",
       "    <tr>\n",
       "      <th>3</th>\n",
       "      <td>9.99</td>\n",
       "      <td>9.99</td>\n",
       "      <td>9.79</td>\n",
       "      <td>9.83</td>\n",
       "      <td>62.379450</td>\n",
       "      <td>6.131900e+02</td>\n",
       "    </tr>\n",
       "    <tr>\n",
       "      <th>4</th>\n",
       "      <td>9.83</td>\n",
       "      <td>9.83</td>\n",
       "      <td>9.48</td>\n",
       "      <td>9.49</td>\n",
       "      <td>329.553213</td>\n",
       "      <td>3.127460e+03</td>\n",
       "    </tr>\n",
       "    <tr>\n",
       "      <th>...</th>\n",
       "      <td>...</td>\n",
       "      <td>...</td>\n",
       "      <td>...</td>\n",
       "      <td>...</td>\n",
       "      <td>...</td>\n",
       "      <td>...</td>\n",
       "    </tr>\n",
       "    <tr>\n",
       "      <th>55156</th>\n",
       "      <td>1678.45</td>\n",
       "      <td>1686.46</td>\n",
       "      <td>1678.45</td>\n",
       "      <td>1684.93</td>\n",
       "      <td>127.979835</td>\n",
       "      <td>2.156371e+05</td>\n",
       "    </tr>\n",
       "    <tr>\n",
       "      <th>55157</th>\n",
       "      <td>1684.93</td>\n",
       "      <td>1685.92</td>\n",
       "      <td>1669.94</td>\n",
       "      <td>1670.70</td>\n",
       "      <td>775.933763</td>\n",
       "      <td>1.296353e+06</td>\n",
       "    </tr>\n",
       "    <tr>\n",
       "      <th>55158</th>\n",
       "      <td>1670.70</td>\n",
       "      <td>1677.74</td>\n",
       "      <td>1657.51</td>\n",
       "      <td>1661.01</td>\n",
       "      <td>898.363296</td>\n",
       "      <td>1.492190e+06</td>\n",
       "    </tr>\n",
       "    <tr>\n",
       "      <th>55159</th>\n",
       "      <td>1661.01</td>\n",
       "      <td>1668.55</td>\n",
       "      <td>1651.59</td>\n",
       "      <td>1656.40</td>\n",
       "      <td>265.951014</td>\n",
       "      <td>4.405213e+05</td>\n",
       "    </tr>\n",
       "    <tr>\n",
       "      <th>55160</th>\n",
       "      <td>1656.40</td>\n",
       "      <td>1672.51</td>\n",
       "      <td>1655.12</td>\n",
       "      <td>1669.66</td>\n",
       "      <td>400.576414</td>\n",
       "      <td>6.688264e+05</td>\n",
       "    </tr>\n",
       "  </tbody>\n",
       "</table>\n",
       "<p>55161 rows × 6 columns</p>\n",
       "</div>"
      ],
      "text/plain": [
       "          open     high      low    close  Volume ETH    Volume USD\n",
       "0         0.00    12.00     0.00     9.55  432.562115  4.130968e+03\n",
       "1         9.55    10.00     9.55    10.00  235.774075  2.357741e+03\n",
       "2        10.00    10.00     9.99     9.99   10.973567  1.096259e+02\n",
       "3         9.99     9.99     9.79     9.83   62.379450  6.131900e+02\n",
       "4         9.83     9.83     9.48     9.49  329.553213  3.127460e+03\n",
       "...        ...      ...      ...      ...         ...           ...\n",
       "55156  1678.45  1686.46  1678.45  1684.93  127.979835  2.156371e+05\n",
       "55157  1684.93  1685.92  1669.94  1670.70  775.933763  1.296353e+06\n",
       "55158  1670.70  1677.74  1657.51  1661.01  898.363296  1.492190e+06\n",
       "55159  1661.01  1668.55  1651.59  1656.40  265.951014  4.405213e+05\n",
       "55160  1656.40  1672.51  1655.12  1669.66  400.576414  6.688264e+05\n",
       "\n",
       "[55161 rows x 6 columns]"
      ]
     },
     "execution_count": 8,
     "metadata": {},
     "output_type": "execute_result"
    }
   ],
   "source": [
    "train_ = train_df.values\n",
    "valid_ = validation_df.values\n",
    "test_ = test_df.values\n",
    "df"
   ]
  },
  {
   "cell_type": "code",
   "execution_count": 9,
   "id": "a3599203",
   "metadata": {},
   "outputs": [
    {
     "name": "stdout",
     "output_type": "stream",
     "text": [
      "train shape (44129, 6)\n",
      "valid shape (5516, 6)\n",
      "test shape (5516, 6)\n"
     ]
    }
   ],
   "source": [
    "print(\"train shape {0}\".format(train_.shape))\n",
    "print(\"valid shape {0}\".format(valid_.shape))\n",
    "print(\"test shape {0}\".format(test_.shape))\n"
   ]
  },
  {
   "cell_type": "code",
   "execution_count": 10,
   "id": "2018a469",
   "metadata": {},
   "outputs": [],
   "source": [
    "def line_plot(line1, line2,line3, label1=None, label2=None, label3=None, title='', lw=2):\n",
    "    fig, ax = plt.subplots(1, figsize=(13, 7))\n",
    "    ax.plot(line1, label=label1, linewidth=lw)\n",
    "    ax.plot(line2, label=label2, linewidth=lw)\n",
    "    ax.plot(line3, label=label3, linewidth=lw)\n",
    "    ax.set_ylabel('Price [USD]', fontsize=14)\n",
    "    ax.set_xlabel('Hours',)\n",
    "    ax.set_title(title, fontsize=16)\n",
    "    ax.legend(loc='best', fontsize=16);"
   ]
  },
  {
   "cell_type": "code",
   "execution_count": 11,
   "id": "69f05c85",
   "metadata": {},
   "outputs": [
    {
     "data": {
      "image/png": "[encoded data removed]",
      "text/plain": [
       "<Figure size 936x504 with 1 Axes>"
      ]
     },
     "metadata": {
      "needs_background": "light"
     },
     "output_type": "display_data"
    }
   ],
   "source": [
    "line_plot(train_df['close'], test_df['close'], validation_df['close'], 'Training', 'Test','Validation', title='Data Splitting for ETH')"
   ]
  },
  {
   "cell_type": "code",
   "execution_count": 12,
   "id": "19fdee6d",
   "metadata": {},
   "outputs": [],
   "source": [
    "from sklearn.preprocessing import MinMaxScaler\n",
    "scaler = MinMaxScaler()\n",
    "scale_close = MinMaxScaler()"
   ]
  },
  {
   "cell_type": "code",
   "execution_count": 13,
   "id": "59a549d3",
   "metadata": {},
   "outputs": [
    {
     "data": {
      "text/plain": [
       "MinMaxScaler()"
      ]
     },
     "execution_count": 13,
     "metadata": {},
     "output_type": "execute_result"
    }
   ],
   "source": [
    "x = train_[:,3].copy()\n",
    "scale_close.fit(x.reshape(-1, 1))"
   ]
  },
  {
   "cell_type": "code",
   "execution_count": 14,
   "id": "8166a3f5",
   "metadata": {},
   "outputs": [],
   "source": [
    "scaler.fit(train_)\n",
    "\n",
    "train_ = scaler.transform(train_)\n",
    "\n",
    "valid_ = scaler.transform(valid_)\n",
    "test_ = scaler.transform(test_)"
   ]
  },
  {
   "cell_type": "code",
   "execution_count": 15,
   "id": "1faaf8e3",
   "metadata": {},
   "outputs": [],
   "source": [
    "# Now perform exponential moving average smoothing for smooth curve of data\n",
    "EMA = 0.0\n",
    "gamma = 0.165\n",
    "for ti in range(train_.shape[0]):\n",
    "    EMA = gamma*train_[ti] + (1-gamma)*EMA\n",
    "    train_[ti] = EMA\n",
    "\n",
    "# Used for visualization and test purposes\n",
    "all_mid_data = np.concatenate([train_,valid_, test_],axis=0)"
   ]
  },
  {
   "cell_type": "code",
   "execution_count": 16,
   "id": "4786bdce",
   "metadata": {},
   "outputs": [],
   "source": [
    "#data splitting\n",
    "\n",
    "def split_data(data):\n",
    "    X = []\n",
    "    Y = []\n",
    "    for i in range(SEQ_LEN, len(data)-FUTURE_PERIOD+1):\n",
    "        X.append(data[i-SEQ_LEN:i])\n",
    "        Y.append(data[i+(FUTURE_PERIOD-1), 3])\n",
    "    return np.array(X), np.array(Y)"
   ]
  },
  {
   "cell_type": "code",
   "execution_count": 17,
   "id": "d0a86e48",
   "metadata": {},
   "outputs": [],
   "source": [
    "X_train, y_train = split_data(train_)\n",
    "X_test, y_test = split_data(test_)\n",
    "X_valid, y_valid = split_data(valid_)\n"
   ]
  },
  {
   "cell_type": "code",
   "execution_count": 18,
   "id": "e8007c92",
   "metadata": {},
   "outputs": [],
   "source": [
    "X_train = np.reshape(X_train, (X_train.shape[0], X_train.shape[1], 6))\n",
    "X_valid = np.reshape(X_valid, (X_valid.shape[0], X_valid.shape[1], 6))\n",
    "X_test = np.reshape(X_test, (X_test.shape[0], X_test.shape[1], 6))"
   ]
  },
  {
   "cell_type": "code",
   "execution_count": 19,
   "id": "a61385ba",
   "metadata": {},
   "outputs": [
    {
     "name": "stdout",
     "output_type": "stream",
     "text": [
      "train shape (44000, 120, 6)\n",
      "valid shape (5387, 120, 6)\n",
      "test shape (5387, 120, 6)\n"
     ]
    }
   ],
   "source": [
    "print(\"train shape {0}\".format(X_train.shape))\n",
    "print(\"valid shape {0}\".format(X_valid.shape))\n",
    "print(\"test shape {0}\".format(X_test.shape))"
   ]
  },
  {
   "cell_type": "code",
   "execution_count": 20,
   "id": "276be71f",
   "metadata": {},
   "outputs": [],
   "source": [
    "X_train_2, y_train_2 = split_data(train_)\n",
    "X_train_2 = np.reshape(X_train_2, (X_train_2.shape[0], X_train_2.shape[1], 6))"
   ]
  },
  {
   "cell_type": "code",
   "execution_count": 21,
   "id": "f783307a",
   "metadata": {},
   "outputs": [
    {
     "name": "stdout",
     "output_type": "stream",
     "text": [
      "Model: \"sequential\"\n",
      "_________________________________________________________________\n",
      " Layer (type)                Output Shape              Param #   \n",
      "=================================================================\n",
      " lstm (LSTM)                 (None, 120)               60960     \n",
      "                                                                 \n",
      " leaky_re_lu (LeakyReLU)     (None, 120)               0         \n",
      "                                                                 \n",
      " dropout (Dropout)           (None, 120)               0         \n",
      "                                                                 \n",
      " batch_normalization (BatchN  (None, 120)              480       \n",
      " ormalization)                                                   \n",
      "                                                                 \n",
      " dense (Dense)               (None, 1)                 121       \n",
      "                                                                 \n",
      "=================================================================\n",
      "Total params: 61,561\n",
      "Trainable params: 61,321\n",
      "Non-trainable params: 240\n",
      "_________________________________________________________________\n"
     ]
    }
   ],
   "source": [
    "#LSTM model\n",
    "\n",
    "import tensorflow as tf\n",
    "from tensorflow.keras import layers\n",
    "from keras.models import Sequential\n",
    "from tensorflow.keras.optimizers import Adam\n",
    "from keras.layers import Dense, LSTM, LeakyReLU, Dropout, BatchNormalization\n",
    "\n",
    "# Initialize the RNN\n",
    "model_LSTM1 = Sequential()\n",
    "model_LSTM1.add(LSTM(units = 120, input_shape=(120, 6)))\n",
    "model_LSTM1.add(LeakyReLU(alpha=0.5))\n",
    "model_LSTM1.add(Dropout(0.5))\n",
    "model_LSTM1.add(BatchNormalization())\n",
    "model_LSTM1.add(Dense(1))\n",
    "model_LSTM1.summary()"
   ]
  },
  {
   "cell_type": "code",
   "execution_count": 22,
   "id": "57eaa5a9",
   "metadata": {},
   "outputs": [],
   "source": [
    "model_LSTM1.compile(optimizer='adam', loss='mean_squared_error', metrics = ('MAPE'))"
   ]
  },
  {
   "cell_type": "code",
   "execution_count": 23,
   "id": "2a5e071b",
   "metadata": {},
   "outputs": [
    {
     "name": "stdout",
     "output_type": "stream",
     "text": [
      "Epoch 1/10\n",
      "344/344 [==============================] - 142s 402ms/step - loss: 0.0169 - MAPE: 921.6954 - val_loss: 0.3449 - val_MAPE: 73.4296\n",
      "Epoch 2/10\n",
      "344/344 [==============================] - 124s 361ms/step - loss: 0.0011 - MAPE: 325.7165 - val_loss: 0.0392 - val_MAPE: 24.6283\n",
      "Epoch 3/10\n",
      "344/344 [==============================] - 138s 401ms/step - loss: 7.4407e-04 - MAPE: 281.3085 - val_loss: 6.9553e-04 - val_MAPE: 2.8973\n",
      "Epoch 4/10\n",
      "344/344 [==============================] - 129s 374ms/step - loss: 6.6946e-04 - MAPE: 263.4684 - val_loss: 7.1526e-04 - val_MAPE: 2.8622\n",
      "Epoch 5/10\n",
      "344/344 [==============================] - 146s 424ms/step - loss: 6.2008e-04 - MAPE: 267.3405 - val_loss: 7.1429e-04 - val_MAPE: 2.8468\n",
      "Epoch 6/10\n",
      "344/344 [==============================] - 149s 433ms/step - loss: 5.6802e-04 - MAPE: 259.2557 - val_loss: 0.0027 - val_MAPE: 6.1076\n",
      "Epoch 7/10\n",
      "344/344 [==============================] - 187s 542ms/step - loss: 5.6606e-04 - MAPE: 267.8976 - val_loss: 5.6739e-04 - val_MAPE: 2.4864\n",
      "Epoch 8/10\n",
      "344/344 [==============================] - 152s 441ms/step - loss: 5.5198e-04 - MAPE: 263.9838 - val_loss: 0.0012 - val_MAPE: 3.5468\n",
      "Epoch 9/10\n",
      "344/344 [==============================] - 176s 511ms/step - loss: 5.0128e-04 - MAPE: 253.9123 - val_loss: 0.0019 - val_MAPE: 4.9516\n",
      "Epoch 10/10\n",
      "344/344 [==============================] - 128s 372ms/step - loss: 4.4495e-04 - MAPE: 241.0869 - val_loss: 5.5829e-04 - val_MAPE: 2.4996\n"
     ]
    }
   ],
   "source": [
    "history_LSTM1 = model_LSTM1.fit(X_train, y_train,validation_data=(X_valid, y_valid), epochs=10, batch_size=128)"
   ]
  },
  {
   "cell_type": "code",
   "execution_count": 24,
   "id": "9be7b35a",
   "metadata": {},
   "outputs": [
    {
     "data": {
      "image/png": "[encoded data removed]",
      "text/plain": [
       "<Figure size 432x288 with 1 Axes>"
      ]
     },
     "metadata": {
      "needs_background": "light"
     },
     "output_type": "display_data"
    }
   ],
   "source": [
    "loss = history_LSTM1.history['loss']\n",
    "val_loss = history_LSTM1.history['val_loss']\n",
    "\n",
    "epochs = range(len(loss))\n",
    "\n",
    "plt.figure()\n",
    "\n",
    "plt.plot(epochs, loss, 'b', label='Training loss')\n",
    "plt.plot(epochs, val_loss, 'r', label='Validation loss')\n",
    "plt.title(\"LSTM losses (ETH)\")\n",
    "plt.xlabel('Epochs')\n",
    "plt.ylabel('Loss')\n",
    "\n",
    "plt.legend()\n",
    "\n",
    "plt.show()"
   ]
  },
  {
   "cell_type": "code",
   "execution_count": 25,
   "id": "be779ae4",
   "metadata": {},
   "outputs": [
    {
     "data": {
      "image/png": "[encoded data removed]",
      "text/plain": [
       "<Figure size 432x288 with 1 Axes>"
      ]
     },
     "metadata": {
      "needs_background": "light"
     },
     "output_type": "display_data"
    }
   ],
   "source": [
    "mape = history_LSTM1.history['MAPE']\n",
    "val_mape = history_LSTM1.history['val_MAPE']\n",
    "\n",
    "epochs = range(len(mape))\n",
    "\n",
    "plt.figure()\n",
    "\n",
    "plt.plot(epochs, mape, 'b', label='Training MAPE')\n",
    "plt.plot(epochs, val_mape, 'r', label='Validation MAPE')\n",
    "plt.title(\"LSTM MAPE (ETH)\")\n",
    "plt.xlabel('Epochs')\n",
    "plt.ylabel('MAPE')\n",
    "plt.legend()\n",
    "\n",
    "plt.show()"
   ]
  },
  {
   "cell_type": "code",
   "execution_count": 26,
   "id": "6bd943e9",
   "metadata": {},
   "outputs": [],
   "source": [
    "pred_LSTM1 = model_LSTM1.predict(X_test)\n"
   ]
  },
  {
   "cell_type": "code",
   "execution_count": 27,
   "id": "8b815ed7",
   "metadata": {},
   "outputs": [
    {
     "data": {
      "image/png": "[encoded data removed]",
      "text/plain": [
       "<Figure size 432x288 with 1 Axes>"
      ]
     },
     "metadata": {
      "needs_background": "light"
     },
     "output_type": "display_data"
    }
   ],
   "source": [
    "plt.plot(y_test, color = 'black', label = 'Real Price')\n",
    "plt.plot(pred_LSTM1, color = 'red', label = 'Predicted Price')\n",
    "plt.title('Close ETH Price Prediction - LSTM', fontsize=18)\n",
    "plt.xlabel('DateTime')\n",
    "plt.ylabel('Close Price')\n",
    "plt.legend(fontsize=18)\n",
    "plt.show()"
   ]
  },
  {
   "cell_type": "code",
   "execution_count": 28,
   "id": "7fb92a4c",
   "metadata": {},
   "outputs": [
    {
     "name": "stdout",
     "output_type": "stream",
     "text": [
      "169/169 [==============================] - 10s 60ms/step - loss: 3.3582e-04 - MAPE: 2.8372\n",
      "\n",
      "The error of the model with 1 layer LSTM is: [0.00033581952448002994, 2.8371975421905518]\n"
     ]
    }
   ],
   "source": [
    "import math\n",
    "\n",
    "LSTM1_loss = model_LSTM1.evaluate(X_test, y_test, verbose=1)\n",
    "\n",
    "#Err_LSTM1 = LSTM1_loss[0]\n",
    "#Err_LSTM1 = math.sqrt(LSTM1_loss)\n",
    "print('\\nThe error of the model with 1 layer LSTM is:',LSTM1_loss)"
   ]
  },
  {
   "cell_type": "code",
   "execution_count": 29,
   "id": "eed49d45",
   "metadata": {},
   "outputs": [
    {
     "name": "stdout",
     "output_type": "stream",
     "text": [
      "0.00033581950006494974 0.9883902350099257\n"
     ]
    }
   ],
   "source": [
    "from sklearn.metrics import mean_squared_error\n",
    "MAE=mean_squared_error(pred_LSTM1, y_test)\n",
    "from sklearn.metrics import r2_score\n",
    "R2=r2_score(y_test, pred_LSTM1)\n",
    "print (MAE,R2)"
   ]
  },
  {
   "cell_type": "code",
   "execution_count": 30,
   "id": "0a89ba8f",
   "metadata": {},
   "outputs": [
    {
     "name": "stdout",
     "output_type": "stream",
     "text": [
      "Model: \"sequential_1\"\n",
      "_________________________________________________________________\n",
      " Layer (type)                Output Shape              Param #   \n",
      "=================================================================\n",
      " gru (GRU)                   (None, 50)                8700      \n",
      "                                                                 \n",
      " activation (Activation)     (None, 50)                0         \n",
      "                                                                 \n",
      " dropout_1 (Dropout)         (None, 50)                0         \n",
      "                                                                 \n",
      " dense_1 (Dense)             (None, 1)                 51        \n",
      "                                                                 \n",
      " activation_1 (Activation)   (None, 1)                 0         \n",
      "                                                                 \n",
      "=================================================================\n",
      "Total params: 8,751\n",
      "Trainable params: 8,751\n",
      "Non-trainable params: 0\n",
      "_________________________________________________________________\n"
     ]
    }
   ],
   "source": [
    "#GRU\n",
    "from keras.models import Sequential\n",
    "from keras.layers import Dense, Dropout, Activation, Flatten,Reshape\n",
    "from keras.layers import Conv1D, MaxPooling1D, LeakyReLU\n",
    "from keras.utils import np_utils\n",
    "from keras.layers import GRU,CuDNNGRU\n",
    "model_GRU = Sequential()\n",
    "\n",
    "model_GRU.add(GRU(units=50, input_shape=(120,6),return_sequences=False))\n",
    "model_GRU.add(Activation('tanh'))\n",
    "model_GRU.add(Dropout(0.3))\n",
    "model_GRU.add(Dense(1))\n",
    "model_GRU.add(Activation('relu'))\n",
    "model_GRU.compile(loss='mse', optimizer='adam', metrics = ('MAPE'))\n",
    "model_GRU.summary()"
   ]
  },
  {
   "cell_type": "code",
   "execution_count": 31,
   "id": "d6e7dada",
   "metadata": {},
   "outputs": [
    {
     "name": "stdout",
     "output_type": "stream",
     "text": [
      "Epoch 1/10\n",
      "344/344 [==============================] - 104s 283ms/step - loss: 7.2629e-04 - MAPE: 96.6446 - val_loss: 5.1986e-04 - val_MAPE: 2.3645\n",
      "Epoch 2/10\n",
      "344/344 [==============================] - 85s 246ms/step - loss: 2.3429e-04 - MAPE: 53.3069 - val_loss: 5.7282e-04 - val_MAPE: 2.4790\n",
      "Epoch 3/10\n",
      "344/344 [==============================] - 82s 239ms/step - loss: 1.8984e-04 - MAPE: 52.5881 - val_loss: 6.7876e-04 - val_MAPE: 2.6756\n",
      "Epoch 4/10\n",
      "344/344 [==============================] - 56s 163ms/step - loss: 1.8572e-04 - MAPE: 60.8016 - val_loss: 0.0021 - val_MAPE: 5.1011\n",
      "Epoch 5/10\n",
      "344/344 [==============================] - 93s 270ms/step - loss: 1.7343e-04 - MAPE: 67.8515 - val_loss: 5.2493e-04 - val_MAPE: 2.3552\n",
      "Epoch 6/10\n",
      "344/344 [==============================] - 98s 286ms/step - loss: 1.7480e-04 - MAPE: 68.7760 - val_loss: 6.5854e-04 - val_MAPE: 2.6496\n",
      "Epoch 7/10\n",
      "344/344 [==============================] - 107s 310ms/step - loss: 1.7196e-04 - MAPE: 69.7090 - val_loss: 0.0013 - val_MAPE: 3.7377\n",
      "Epoch 8/10\n",
      "344/344 [==============================] - 91s 264ms/step - loss: 1.6412e-04 - MAPE: 69.1157 - val_loss: 0.0017 - val_MAPE: 4.5466\n",
      "Epoch 9/10\n",
      "344/344 [==============================] - 94s 274ms/step - loss: 1.7630e-04 - MAPE: 73.5247 - val_loss: 0.0025 - val_MAPE: 5.5199\n",
      "Epoch 10/10\n",
      "344/344 [==============================] - 102s 296ms/step - loss: 1.7518e-04 - MAPE: 69.9886 - val_loss: 6.4556e-04 - val_MAPE: 2.7714\n"
     ]
    }
   ],
   "source": [
    "history_GRU = model_GRU.fit(X_train, y_train, validation_data=(X_valid, y_valid), batch_size = 128, epochs = 10)"
   ]
  },
  {
   "cell_type": "code",
   "execution_count": 32,
   "id": "688b6701",
   "metadata": {},
   "outputs": [
    {
     "data": {
      "image/png": "[encoded data removed]",
      "text/plain": [
       "<Figure size 432x288 with 1 Axes>"
      ]
     },
     "metadata": {
      "needs_background": "light"
     },
     "output_type": "display_data"
    }
   ],
   "source": [
    "loss_GRU = history_GRU.history['loss']\n",
    "val_loss_GRU = history_GRU.history['val_loss']\n",
    "\n",
    "epochs = range(len(loss_GRU))\n",
    "\n",
    "plt.figure()\n",
    "\n",
    "plt.plot(epochs, loss_GRU, 'b', label='Training loss')\n",
    "plt.plot(epochs, val_loss_GRU, 'r', label='Validation loss')\n",
    "plt.title(\"GRU losses (ETH)\")\n",
    "plt.xlabel('Epochs')\n",
    "plt.ylabel('Loss')\n",
    "plt.legend()\n",
    "\n",
    "plt.show()"
   ]
  },
  {
   "cell_type": "code",
   "execution_count": 33,
   "id": "58a6ea15",
   "metadata": {},
   "outputs": [
    {
     "data": {
      "image/png": "[encoded data removed]",
      "text/plain": [
       "<Figure size 432x288 with 1 Axes>"
      ]
     },
     "metadata": {
      "needs_background": "light"
     },
     "output_type": "display_data"
    }
   ],
   "source": [
    "mape = history_GRU.history['MAPE']\n",
    "val_mape = history_GRU.history['val_MAPE']\n",
    "\n",
    "epochs = range(len(mape))\n",
    "\n",
    "plt.figure()\n",
    "\n",
    "plt.plot(epochs, mape, 'b', label='Training MAPE')\n",
    "plt.plot(epochs, val_mape, 'r', label='Validation MAPE')\n",
    "plt.title(\"GRU MAPE (ETH)\")\n",
    "plt.xlabel('Epochs')\n",
    "plt.ylabel('MAPE')\n",
    "plt.legend()\n",
    "\n",
    "plt.show()"
   ]
  },
  {
   "cell_type": "code",
   "execution_count": 34,
   "id": "ce0d1d8a",
   "metadata": {},
   "outputs": [],
   "source": [
    "pred_GRU = model_GRU.predict(X_test)"
   ]
  },
  {
   "cell_type": "code",
   "execution_count": 35,
   "id": "c3547b07",
   "metadata": {},
   "outputs": [
    {
     "data": {
      "image/png": "[encoded data removed]",
      "text/plain": [
       "<Figure size 432x288 with 1 Axes>"
      ]
     },
     "metadata": {
      "needs_background": "light"
     },
     "output_type": "display_data"
    }
   ],
   "source": [
    "plt.plot(y_test, color = 'black', label = 'Real Price')\n",
    "plt.plot(pred_GRU, color = 'red', label = 'Predicted Price')\n",
    "plt.title('Close ETH Price Prediction - GRU', fontsize=18)\n",
    "plt.xlabel('DateTime')\n",
    "plt.ylabel('Close Price')\n",
    "plt.legend(fontsize=12)\n",
    "plt.show()"
   ]
  },
  {
   "cell_type": "code",
   "execution_count": 36,
   "id": "588822df",
   "metadata": {},
   "outputs": [
    {
     "name": "stdout",
     "output_type": "stream",
     "text": [
      "169/169 [==============================] - 24s 144ms/step - loss: 4.2124e-04 - MAPE: 3.2461\n",
      "\n",
      "The error of the model with a GRU layer is: [0.00042124080937355757, 3.2461397647857666]\n"
     ]
    }
   ],
   "source": [
    "\n",
    "\n",
    "import math\n",
    "\n",
    "GRU_loss = model_GRU.evaluate(X_test, y_test, verbose=1)\n",
    "\n",
    "#Err_GRU = math.sqrt(GRU_loss)\n",
    "print('\\nThe error of the model with a GRU layer is:',GRU_loss)"
   ]
  },
  {
   "cell_type": "code",
   "execution_count": 37,
   "id": "bae3df03",
   "metadata": {},
   "outputs": [
    {
     "name": "stdout",
     "output_type": "stream",
     "text": [
      "0.00033581950006494974 0.9883902350099257\n"
     ]
    }
   ],
   "source": [
    "from sklearn.metrics import mean_squared_error\n",
    "MAE=mean_squared_error(pred_LSTM1, y_test)\n",
    "from sklearn.metrics import r2_score\n",
    "R2=r2_score(y_test, pred_LSTM1)\n",
    "print (MAE,R2)"
   ]
  },
  {
   "cell_type": "code",
   "execution_count": 38,
   "id": "88927b9c",
   "metadata": {},
   "outputs": [],
   "source": [
    "#Bi-LSTM\n",
    "import tensorflow as tf\n",
    "from tensorflow.keras import layers\n",
    "from keras.models import Sequential\n",
    "from tensorflow.keras.optimizers import Adam\n",
    "from keras.layers import Dense, LSTM, LeakyReLU, Dropout, BatchNormalization\n",
    "from keras.layers import Bidirectional\n",
    "\n",
    "num_units = 128\n",
    "activation_function = 'relu'\n",
    "optimizer = 'adam'\n",
    "loss_function = 'mean_squared_error'\n",
    "batch_size = 128\n",
    "num_epochs = 10\n",
    "\n",
    "# Initialize the RNN\n",
    "regressor2 = Sequential()\n",
    "\n",
    "# Adding the input layer and the LSTM layer\n",
    "#regressor2.add(tf.keras.layers.Conv1D(120, 3, activation=\"relu\",input_shape=(120, 5)))\n",
    "#regressor2.add(tf.keras.layers.AveragePooling1D(4))\n",
    "regressor2.add(Bidirectional(LSTM(units = num_units, input_shape=(120, 6))))#activation = activation_function,\n",
    "regressor2.add(LeakyReLU(alpha= 0.5))\n",
    "regressor2.add(BatchNormalization())\n",
    "regressor2.add(Dropout(0.5))\n",
    "# Adding the output layer\n",
    "regressor2.add(Dense(units = 1))\n",
    "# Compiling the RNN\n",
    "regressor2.compile(optimizer = optimizer, loss = loss_function, metrics = ('MAPE'))"
   ]
  },
  {
   "cell_type": "code",
   "execution_count": 39,
   "id": "51088ec9",
   "metadata": {},
   "outputs": [
    {
     "name": "stdout",
     "output_type": "stream",
     "text": [
      "Epoch 1/10\n",
      "344/344 [==============================] - 280s 781ms/step - loss: 0.0438 - MAPE: 1617.9272 - val_loss: 0.3200 - val_MAPE: 70.6601\n",
      "Epoch 2/10\n",
      "344/344 [==============================] - 312s 908ms/step - loss: 0.0025 - MAPE: 448.4366 - val_loss: 0.0366 - val_MAPE: 23.7925\n",
      "Epoch 3/10\n",
      "344/344 [==============================] - 349s 1s/step - loss: 0.0012 - MAPE: 331.0244 - val_loss: 0.0047 - val_MAPE: 8.5907\n",
      "Epoch 4/10\n",
      "344/344 [==============================] - 257s 745ms/step - loss: 8.0677e-04 - MAPE: 264.5254 - val_loss: 0.0023 - val_MAPE: 5.6295\n",
      "Epoch 5/10\n",
      "344/344 [==============================] - 198s 577ms/step - loss: 8.3354e-04 - MAPE: 286.5799 - val_loss: 0.0010 - val_MAPE: 3.5156\n",
      "Epoch 6/10\n",
      "344/344 [==============================] - 216s 629ms/step - loss: 7.3284e-04 - MAPE: 270.9724 - val_loss: 0.0025 - val_MAPE: 5.2276\n",
      "Epoch 7/10\n",
      "344/344 [==============================] - 257s 746ms/step - loss: 6.8807e-04 - MAPE: 274.9383 - val_loss: 0.0051 - val_MAPE: 8.5639\n",
      "Epoch 8/10\n",
      "344/344 [==============================] - 212s 616ms/step - loss: 6.4449e-04 - MAPE: 272.1013 - val_loss: 0.0247 - val_MAPE: 18.9508\n",
      "Epoch 9/10\n",
      "344/344 [==============================] - 226s 657ms/step - loss: 6.4738e-04 - MAPE: 261.6163 - val_loss: 8.0935e-04 - val_MAPE: 3.1074\n",
      "Epoch 10/10\n",
      "344/344 [==============================] - 212s 615ms/step - loss: 5.3881e-04 - MAPE: 242.3409 - val_loss: 0.0081 - val_MAPE: 11.5425\n"
     ]
    }
   ],
   "source": [
    "# Using the training set to train the model\n",
    "history_BiLSTM2 = regressor2.fit(X_train, y_train, validation_data=(X_valid, y_valid), batch_size = batch_size, epochs = num_epochs)"
   ]
  },
  {
   "cell_type": "code",
   "execution_count": 40,
   "id": "7bd7e167",
   "metadata": {},
   "outputs": [
    {
     "name": "stdout",
     "output_type": "stream",
     "text": [
      "Model: \"sequential_2\"\n",
      "_________________________________________________________________\n",
      " Layer (type)                Output Shape              Param #   \n",
      "=================================================================\n",
      " bidirectional (Bidirectiona  (None, 256)              138240    \n",
      " l)                                                              \n",
      "                                                                 \n",
      " leaky_re_lu_1 (LeakyReLU)   (None, 256)               0         \n",
      "                                                                 \n",
      " batch_normalization_1 (Batc  (None, 256)              1024      \n",
      " hNormalization)                                                 \n",
      "                                                                 \n",
      " dropout_2 (Dropout)         (None, 256)               0         \n",
      "                                                                 \n",
      " dense_2 (Dense)             (None, 1)                 257       \n",
      "                                                                 \n",
      "=================================================================\n",
      "Total params: 139,521\n",
      "Trainable params: 139,009\n",
      "Non-trainable params: 512\n",
      "_________________________________________________________________\n"
     ]
    }
   ],
   "source": [
    "regressor2.summary()\n"
   ]
  },
  {
   "cell_type": "code",
   "execution_count": 41,
   "id": "a5afb7d6",
   "metadata": {},
   "outputs": [
    {
     "data": {
      "image/png": "[encoded data removed]",
      "text/plain": [
       "<Figure size 432x288 with 1 Axes>"
      ]
     },
     "metadata": {
      "needs_background": "light"
     },
     "output_type": "display_data"
    }
   ],
   "source": [
    "loss_BiLSTM2 = history_BiLSTM2.history['loss']\n",
    "val_loss_BiLSTM2 = history_BiLSTM2.history['val_loss']\n",
    "\n",
    "epochs = range(len(loss_BiLSTM2))\n",
    "\n",
    "plt.figure()\n",
    "\n",
    "plt.plot(epochs, loss_BiLSTM2, 'b', label='Training loss')\n",
    "plt.plot(epochs, val_loss_BiLSTM2, 'r', label='Validation loss')\n",
    "plt.title(\"Bi-LSTM losses (ETH)\")\n",
    "plt.xlabel('Epochs')\n",
    "plt.ylabel('Loss')\n",
    "\n",
    "plt.legend()\n",
    "plt.show()"
   ]
  },
  {
   "cell_type": "code",
   "execution_count": 42,
   "id": "068f30d7",
   "metadata": {},
   "outputs": [
    {
     "data": {
      "image/png": "[encoded data removed]",
      "text/plain": [
       "<Figure size 432x288 with 1 Axes>"
      ]
     },
     "metadata": {
      "needs_background": "light"
     },
     "output_type": "display_data"
    }
   ],
   "source": [
    "mape = history_BiLSTM2.history['MAPE']\n",
    "val_mape = history_BiLSTM2.history['val_MAPE']\n",
    "\n",
    "epochs = range(len(mape))\n",
    "\n",
    "plt.figure()\n",
    "\n",
    "plt.plot(epochs, mape, 'b', label='Training MAPE')\n",
    "plt.plot(epochs, val_mape, 'r', label='Validation MAPE')\n",
    "plt.title(\"Bi-LSTM MAPE (ETH)\")\n",
    "plt.xlabel('Epochs')\n",
    "plt.ylabel('MAPE')\n",
    "plt.legend()\n",
    "\n",
    "plt.show()"
   ]
  },
  {
   "cell_type": "code",
   "execution_count": 43,
   "id": "066f887f",
   "metadata": {},
   "outputs": [],
   "source": [
    "pred_BiLSTM2 = regressor2.predict(X_test)"
   ]
  },
  {
   "cell_type": "code",
   "execution_count": 44,
   "id": "d2725fe3",
   "metadata": {},
   "outputs": [
    {
     "data": {
      "image/png": "[encoded data removed]",
      "text/plain": [
       "<Figure size 432x288 with 1 Axes>"
      ]
     },
     "metadata": {
      "needs_background": "light"
     },
     "output_type": "display_data"
    }
   ],
   "source": [
    "plt.plot(y_test, color = 'black', label = 'Real Price')\n",
    "plt.plot(pred_BiLSTM2, color = 'red', label = 'Predicted Price')\n",
    "plt.title('Close ETH Price Prediction - Bi-LSTM', fontsize=18)\n",
    "plt.xlabel('DateTime')\n",
    "plt.ylabel('Close Price')\n",
    "plt.legend(fontsize=18)\n",
    "plt.show()"
   ]
  },
  {
   "cell_type": "code",
   "execution_count": 45,
   "id": "145982e7",
   "metadata": {},
   "outputs": [
    {
     "name": "stdout",
     "output_type": "stream",
     "text": [
      "169/169 [==============================] - 15s 90ms/step - loss: 0.0060 - MAPE: 14.1623\n",
      "\n",
      "The error of the model with 1 layer BiLSTM is: [0.00595131004229188, 14.162280082702637]\n"
     ]
    }
   ],
   "source": [
    "import math\n",
    "\n",
    "BiLSTM2_loss = regressor2.evaluate(X_test, y_test, verbose=1)\n",
    "print('\\nThe error of the model with 1 layer BiLSTM is:',BiLSTM2_loss)"
   ]
  },
  {
   "cell_type": "code",
   "execution_count": 46,
   "id": "2d9e5794",
   "metadata": {},
   "outputs": [
    {
     "name": "stdout",
     "output_type": "stream",
     "text": [
      "0.005951309826361551 0.7942546265067572\n"
     ]
    }
   ],
   "source": [
    "from sklearn.metrics import mean_squared_error\n",
    "MAE=mean_squared_error(pred_BiLSTM2, y_test)\n",
    "from sklearn.metrics import r2_score\n",
    "R2=r2_score(y_test, pred_BiLSTM2)\n",
    "print (MAE,R2)"
   ]
  },
  {
   "cell_type": "code",
   "execution_count": null,
   "id": "11523604",
   "metadata": {},
   "outputs": [],
   "source": []
  },
  {
   "cell_type": "code",
   "execution_count": null,
   "id": "1bfebf5a",
   "metadata": {},
   "outputs": [],
   "source": []
  }
 ],
 "metadata": {
  "kernelspec": {
   "display_name": "Python 3 (ipykernel)",
   "language": "python",
   "name": "python3"
  },
  "language_info": {
   "codemirror_mode": {
    "name": "ipython",
    "version": 3
   },
   "file_extension": ".py",
   "mimetype": "text/x-python",
   "name": "python",
   "nbconvert_exporter": "python",
   "pygments_lexer": "ipython3",
   "version": "3.9.7"
  }
 },
 "nbformat": 4,
 "nbformat_minor": 5
}
