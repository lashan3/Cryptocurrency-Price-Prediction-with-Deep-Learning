{
 "cells": [
  {
   "cell_type": "code",
   "execution_count": 1,
   "id": "c14a17a0",
   "metadata": {},
   "outputs": [
    {
     "data": {
      "text/html": [
       "        <script type=\"text/javascript\">\n",
       "        window.PlotlyConfig = {MathJaxConfig: 'local'};\n",
       "        if (window.MathJax && window.MathJax.Hub && window.MathJax.Hub.Config) {window.MathJax.Hub.Config({SVG: {font: \"STIX-Web\"}});}\n",
       "        if (typeof require !== 'undefined') {\n",
       "        require.undef(\"plotly\");\n",
       "        requirejs.config({\n",
       "            paths: {\n",
       "                'plotly': ['https://cdn.plot.ly/plotly-2.12.1.min']\n",
       "            }\n",
       "        });\n",
       "        require(['plotly'], function(Plotly) {\n",
       "            window._Plotly = Plotly;\n",
       "        });\n",
       "        }\n",
       "        </script>\n",
       "        "
      ]
     },
     "metadata": {},
     "output_type": "display_data"
    }
   ],
   "source": [
    "# Ignore Warnings\n",
    "import warnings\n",
    "from warnings import simplefilter\n",
    "warnings.filterwarnings(\"ignore\")\n",
    "\n",
    "# Computational imports\n",
    "import numpy as np   # Library for n-dimensional arrays\n",
    "import pandas as pd  # Library for dataframes (structured data)\n",
    "\n",
    "# Helper imports\n",
    "import os \n",
    "import re\n",
    "import time\n",
    "import warnings\n",
    "from tqdm import tqdm\n",
    "import datetime as dt\n",
    "import pandas_datareader as web\n",
    "from datetime import datetime\n",
    "import scipy.stats as stats\n",
    "from pathlib import Path\n",
    "\n",
    "# ML/DL imports\n",
    "from sklearn.preprocessing import MinMaxScaler, OrdinalEncoder, LabelEncoder, RobustScaler\n",
    "from sklearn.metrics import mean_squared_error, mean_squared_log_error\n",
    "from sklearn.model_selection import train_test_split\n",
    "\n",
    "import tensorflow as tf\n",
    "from tensorflow import keras\n",
    "from tensorflow.keras import layers\n",
    "import tensorflow_probability as tfp\n",
    "from tensorflow.keras.models import Sequential\n",
    "from tensorflow.keras.layers import LSTM, Dense, Dropout, RepeatVector, TimeDistributed\n",
    "from tensorflow.keras.callbacks import ModelCheckpoint, EarlyStopping\n",
    "\n",
    "# Plotting imports\n",
    "import matplotlib.pyplot as plt\n",
    "import matplotlib.dates as dates\n",
    "import seaborn as sns\n",
    "import plotly.graph_objects as go\n",
    "from plotly.subplots import make_subplots\n",
    "from plotly.offline import init_notebook_mode, iplot\n",
    "\n",
    "%matplotlib inline\n",
    "init_notebook_mode(connected=True)\n",
    "\n",
    "# Set seeds to make the experiment more reproducible.\n",
    "from numpy.random import seed\n",
    "seed(1)\n",
    "\n",
    "# Allows us to see more information regarding the DataFrame\n",
    "pd.set_option(\"display.max_rows\", 500)\n",
    "pd.set_option(\"display.max_columns\", 500)"
   ]
  },
  {
   "cell_type": "markdown",
   "id": "f130e579",
   "metadata": {},
   "source": [
    "# BITCOIN"
   ]
  },
  {
   "cell_type": "code",
   "execution_count": 2,
   "id": "e6a44385",
   "metadata": {},
   "outputs": [
    {
     "data": {
      "text/html": [
       "<div>\n",
       "<style scoped>\n",
       "    .dataframe tbody tr th:only-of-type {\n",
       "        vertical-align: middle;\n",
       "    }\n",
       "\n",
       "    .dataframe tbody tr th {\n",
       "        vertical-align: top;\n",
       "    }\n",
       "\n",
       "    .dataframe thead th {\n",
       "        text-align: right;\n",
       "    }\n",
       "</style>\n",
       "<table border=\"1\" class=\"dataframe\">\n",
       "  <thead>\n",
       "    <tr style=\"text-align: right;\">\n",
       "      <th></th>\n",
       "      <th>unix</th>\n",
       "      <th>symbol</th>\n",
       "      <th>open</th>\n",
       "      <th>high</th>\n",
       "      <th>low</th>\n",
       "      <th>close</th>\n",
       "      <th>Volume BTC</th>\n",
       "      <th>Volume USD</th>\n",
       "    </tr>\n",
       "    <tr>\n",
       "      <th>date</th>\n",
       "      <th></th>\n",
       "      <th></th>\n",
       "      <th></th>\n",
       "      <th></th>\n",
       "      <th></th>\n",
       "      <th></th>\n",
       "      <th></th>\n",
       "      <th></th>\n",
       "    </tr>\n",
       "  </thead>\n",
       "  <tbody>\n",
       "    <tr>\n",
       "      <th>2022-08-25 00:00:00</th>\n",
       "      <td>1661385600000</td>\n",
       "      <td>BTC/USD</td>\n",
       "      <td>21368.63</td>\n",
       "      <td>21485.59</td>\n",
       "      <td>21314.24</td>\n",
       "      <td>21472.61</td>\n",
       "      <td>36.305121</td>\n",
       "      <td>7.795657e+05</td>\n",
       "    </tr>\n",
       "    <tr>\n",
       "      <th>2022-08-24 23:00:00</th>\n",
       "      <td>1661382000000</td>\n",
       "      <td>BTC/USD</td>\n",
       "      <td>21492.32</td>\n",
       "      <td>21535.44</td>\n",
       "      <td>21368.63</td>\n",
       "      <td>21368.63</td>\n",
       "      <td>30.155089</td>\n",
       "      <td>6.443729e+05</td>\n",
       "    </tr>\n",
       "    <tr>\n",
       "      <th>2022-08-24 22:00:00</th>\n",
       "      <td>1661378400000</td>\n",
       "      <td>BTC/USD</td>\n",
       "      <td>21589.19</td>\n",
       "      <td>21660.58</td>\n",
       "      <td>21459.95</td>\n",
       "      <td>21492.32</td>\n",
       "      <td>77.126443</td>\n",
       "      <td>1.657626e+06</td>\n",
       "    </tr>\n",
       "    <tr>\n",
       "      <th>2022-08-24 21:00:00</th>\n",
       "      <td>1661374800000</td>\n",
       "      <td>BTC/USD</td>\n",
       "      <td>21691.95</td>\n",
       "      <td>21730.10</td>\n",
       "      <td>21560.65</td>\n",
       "      <td>21589.19</td>\n",
       "      <td>36.171399</td>\n",
       "      <td>7.809112e+05</td>\n",
       "    </tr>\n",
       "    <tr>\n",
       "      <th>2022-08-24 20:00:00</th>\n",
       "      <td>1661371200000</td>\n",
       "      <td>BTC/USD</td>\n",
       "      <td>21710.70</td>\n",
       "      <td>21767.00</td>\n",
       "      <td>21682.75</td>\n",
       "      <td>21691.95</td>\n",
       "      <td>35.872016</td>\n",
       "      <td>7.781340e+05</td>\n",
       "    </tr>\n",
       "  </tbody>\n",
       "</table>\n",
       "</div>"
      ],
      "text/plain": [
       "                              unix   symbol      open      high       low  \\\n",
       "date                                                                        \n",
       "2022-08-25 00:00:00  1661385600000  BTC/USD  21368.63  21485.59  21314.24   \n",
       "2022-08-24 23:00:00  1661382000000  BTC/USD  21492.32  21535.44  21368.63   \n",
       "2022-08-24 22:00:00  1661378400000  BTC/USD  21589.19  21660.58  21459.95   \n",
       "2022-08-24 21:00:00  1661374800000  BTC/USD  21691.95  21730.10  21560.65   \n",
       "2022-08-24 20:00:00  1661371200000  BTC/USD  21710.70  21767.00  21682.75   \n",
       "\n",
       "                        close  Volume BTC    Volume USD  \n",
       "date                                                     \n",
       "2022-08-25 00:00:00  21472.61   36.305121  7.795657e+05  \n",
       "2022-08-24 23:00:00  21368.63   30.155089  6.443729e+05  \n",
       "2022-08-24 22:00:00  21492.32   77.126443  1.657626e+06  \n",
       "2022-08-24 21:00:00  21589.19   36.171399  7.809112e+05  \n",
       "2022-08-24 20:00:00  21691.95   35.872016  7.781340e+05  "
      ]
     },
     "execution_count": 2,
     "metadata": {},
     "output_type": "execute_result"
    }
   ],
   "source": [
    "url = 'https://www.cryptodatadownload.com/cdd/Gemini_BTCUSD_1h.csv'\n",
    "dataset = pd.read_csv(url, index_col=\"date\", skiprows=1)\n",
    "#dataset = pd.read_csv('Gemini_BTCUSD_1h.csv', index_col=\"date\", skiprows=1)\n",
    "dataset.head()"
   ]
  },
  {
   "cell_type": "code",
   "execution_count": 3,
   "id": "ee5a9225",
   "metadata": {},
   "outputs": [
    {
     "data": {
      "text/html": [
       "<div>\n",
       "<style scoped>\n",
       "    .dataframe tbody tr th:only-of-type {\n",
       "        vertical-align: middle;\n",
       "    }\n",
       "\n",
       "    .dataframe tbody tr th {\n",
       "        vertical-align: top;\n",
       "    }\n",
       "\n",
       "    .dataframe thead th {\n",
       "        text-align: right;\n",
       "    }\n",
       "</style>\n",
       "<table border=\"1\" class=\"dataframe\">\n",
       "  <thead>\n",
       "    <tr style=\"text-align: right;\">\n",
       "      <th></th>\n",
       "      <th>unix</th>\n",
       "      <th>symbol</th>\n",
       "      <th>open</th>\n",
       "      <th>high</th>\n",
       "      <th>low</th>\n",
       "      <th>close</th>\n",
       "      <th>Volume BTC</th>\n",
       "      <th>Volume USD</th>\n",
       "    </tr>\n",
       "    <tr>\n",
       "      <th>date</th>\n",
       "      <th></th>\n",
       "      <th></th>\n",
       "      <th></th>\n",
       "      <th></th>\n",
       "      <th></th>\n",
       "      <th></th>\n",
       "      <th></th>\n",
       "      <th></th>\n",
       "    </tr>\n",
       "  </thead>\n",
       "  <tbody>\n",
       "    <tr>\n",
       "      <th>2015-10-08 13:00:00</th>\n",
       "      <td>1444309200</td>\n",
       "      <td>BTC/USD</td>\n",
       "      <td>0.00</td>\n",
       "      <td>245.00</td>\n",
       "      <td>0.00</td>\n",
       "      <td>245.00</td>\n",
       "      <td>0.606654</td>\n",
       "      <td>148.630323</td>\n",
       "    </tr>\n",
       "    <tr>\n",
       "      <th>2015-10-08 14:00:00</th>\n",
       "      <td>1444312800</td>\n",
       "      <td>BTC/USD</td>\n",
       "      <td>245.00</td>\n",
       "      <td>245.00</td>\n",
       "      <td>244.50</td>\n",
       "      <td>245.00</td>\n",
       "      <td>4.453649</td>\n",
       "      <td>1091.143988</td>\n",
       "    </tr>\n",
       "    <tr>\n",
       "      <th>2015-10-08 15:00:00</th>\n",
       "      <td>1444316400</td>\n",
       "      <td>BTC/USD</td>\n",
       "      <td>245.00</td>\n",
       "      <td>245.00</td>\n",
       "      <td>244.92</td>\n",
       "      <td>244.92</td>\n",
       "      <td>3.016926</td>\n",
       "      <td>738.905474</td>\n",
       "    </tr>\n",
       "    <tr>\n",
       "      <th>2015-10-08 16:00:00</th>\n",
       "      <td>1444320000</td>\n",
       "      <td>BTC/USD</td>\n",
       "      <td>244.92</td>\n",
       "      <td>244.92</td>\n",
       "      <td>244.25</td>\n",
       "      <td>244.25</td>\n",
       "      <td>3.895252</td>\n",
       "      <td>951.415413</td>\n",
       "    </tr>\n",
       "    <tr>\n",
       "      <th>2015-10-08 17:00:00</th>\n",
       "      <td>1444323600</td>\n",
       "      <td>BTC/USD</td>\n",
       "      <td>244.25</td>\n",
       "      <td>244.99</td>\n",
       "      <td>244.02</td>\n",
       "      <td>244.99</td>\n",
       "      <td>3.920632</td>\n",
       "      <td>960.515634</td>\n",
       "    </tr>\n",
       "  </tbody>\n",
       "</table>\n",
       "</div>"
      ],
      "text/plain": [
       "                           unix   symbol    open    high     low   close  \\\n",
       "date                                                                       \n",
       "2015-10-08 13:00:00  1444309200  BTC/USD    0.00  245.00    0.00  245.00   \n",
       "2015-10-08 14:00:00  1444312800  BTC/USD  245.00  245.00  244.50  245.00   \n",
       "2015-10-08 15:00:00  1444316400  BTC/USD  245.00  245.00  244.92  244.92   \n",
       "2015-10-08 16:00:00  1444320000  BTC/USD  244.92  244.92  244.25  244.25   \n",
       "2015-10-08 17:00:00  1444323600  BTC/USD  244.25  244.99  244.02  244.99   \n",
       "\n",
       "                     Volume BTC   Volume USD  \n",
       "date                                          \n",
       "2015-10-08 13:00:00    0.606654   148.630323  \n",
       "2015-10-08 14:00:00    4.453649  1091.143988  \n",
       "2015-10-08 15:00:00    3.016926   738.905474  \n",
       "2015-10-08 16:00:00    3.895252   951.415413  \n",
       "2015-10-08 17:00:00    3.920632   960.515634  "
      ]
     },
     "execution_count": 3,
     "metadata": {},
     "output_type": "execute_result"
    }
   ],
   "source": [
    "dataset = dataset.iloc[::-1]\n",
    "\n",
    "dataset.head()\n",
    "\n"
   ]
  },
  {
   "cell_type": "code",
   "execution_count": 4,
   "id": "a6d774dd",
   "metadata": {},
   "outputs": [
    {
     "data": {
      "text/html": [
       "<div>\n",
       "<style scoped>\n",
       "    .dataframe tbody tr th:only-of-type {\n",
       "        vertical-align: middle;\n",
       "    }\n",
       "\n",
       "    .dataframe tbody tr th {\n",
       "        vertical-align: top;\n",
       "    }\n",
       "\n",
       "    .dataframe thead th {\n",
       "        text-align: right;\n",
       "    }\n",
       "</style>\n",
       "<table border=\"1\" class=\"dataframe\">\n",
       "  <thead>\n",
       "    <tr style=\"text-align: right;\">\n",
       "      <th></th>\n",
       "      <th>date</th>\n",
       "      <th>unix</th>\n",
       "      <th>symbol</th>\n",
       "      <th>open</th>\n",
       "      <th>high</th>\n",
       "      <th>low</th>\n",
       "      <th>close</th>\n",
       "      <th>Volume BTC</th>\n",
       "      <th>Volume USD</th>\n",
       "    </tr>\n",
       "  </thead>\n",
       "  <tbody>\n",
       "    <tr>\n",
       "      <th>0</th>\n",
       "      <td>2015-10-08 13:00:00</td>\n",
       "      <td>1444309200</td>\n",
       "      <td>BTC/USD</td>\n",
       "      <td>0.00</td>\n",
       "      <td>245.00</td>\n",
       "      <td>0.00</td>\n",
       "      <td>245.00</td>\n",
       "      <td>0.606654</td>\n",
       "      <td>1.486303e+02</td>\n",
       "    </tr>\n",
       "    <tr>\n",
       "      <th>1</th>\n",
       "      <td>2015-10-08 14:00:00</td>\n",
       "      <td>1444312800</td>\n",
       "      <td>BTC/USD</td>\n",
       "      <td>245.00</td>\n",
       "      <td>245.00</td>\n",
       "      <td>244.50</td>\n",
       "      <td>245.00</td>\n",
       "      <td>4.453649</td>\n",
       "      <td>1.091144e+03</td>\n",
       "    </tr>\n",
       "    <tr>\n",
       "      <th>2</th>\n",
       "      <td>2015-10-08 15:00:00</td>\n",
       "      <td>1444316400</td>\n",
       "      <td>BTC/USD</td>\n",
       "      <td>245.00</td>\n",
       "      <td>245.00</td>\n",
       "      <td>244.92</td>\n",
       "      <td>244.92</td>\n",
       "      <td>3.016926</td>\n",
       "      <td>7.389055e+02</td>\n",
       "    </tr>\n",
       "    <tr>\n",
       "      <th>3</th>\n",
       "      <td>2015-10-08 16:00:00</td>\n",
       "      <td>1444320000</td>\n",
       "      <td>BTC/USD</td>\n",
       "      <td>244.92</td>\n",
       "      <td>244.92</td>\n",
       "      <td>244.25</td>\n",
       "      <td>244.25</td>\n",
       "      <td>3.895252</td>\n",
       "      <td>9.514154e+02</td>\n",
       "    </tr>\n",
       "    <tr>\n",
       "      <th>4</th>\n",
       "      <td>2015-10-08 17:00:00</td>\n",
       "      <td>1444323600</td>\n",
       "      <td>BTC/USD</td>\n",
       "      <td>244.25</td>\n",
       "      <td>244.99</td>\n",
       "      <td>244.02</td>\n",
       "      <td>244.99</td>\n",
       "      <td>3.920632</td>\n",
       "      <td>9.605156e+02</td>\n",
       "    </tr>\n",
       "    <tr>\n",
       "      <th>...</th>\n",
       "      <td>...</td>\n",
       "      <td>...</td>\n",
       "      <td>...</td>\n",
       "      <td>...</td>\n",
       "      <td>...</td>\n",
       "      <td>...</td>\n",
       "      <td>...</td>\n",
       "      <td>...</td>\n",
       "      <td>...</td>\n",
       "    </tr>\n",
       "    <tr>\n",
       "      <th>60292</th>\n",
       "      <td>2022-08-24 20:00:00</td>\n",
       "      <td>1661371200000</td>\n",
       "      <td>BTC/USD</td>\n",
       "      <td>21710.70</td>\n",
       "      <td>21767.00</td>\n",
       "      <td>21682.75</td>\n",
       "      <td>21691.95</td>\n",
       "      <td>35.872016</td>\n",
       "      <td>7.781340e+05</td>\n",
       "    </tr>\n",
       "    <tr>\n",
       "      <th>60293</th>\n",
       "      <td>2022-08-24 21:00:00</td>\n",
       "      <td>1661374800000</td>\n",
       "      <td>BTC/USD</td>\n",
       "      <td>21691.95</td>\n",
       "      <td>21730.10</td>\n",
       "      <td>21560.65</td>\n",
       "      <td>21589.19</td>\n",
       "      <td>36.171399</td>\n",
       "      <td>7.809112e+05</td>\n",
       "    </tr>\n",
       "    <tr>\n",
       "      <th>60294</th>\n",
       "      <td>2022-08-24 22:00:00</td>\n",
       "      <td>1661378400000</td>\n",
       "      <td>BTC/USD</td>\n",
       "      <td>21589.19</td>\n",
       "      <td>21660.58</td>\n",
       "      <td>21459.95</td>\n",
       "      <td>21492.32</td>\n",
       "      <td>77.126443</td>\n",
       "      <td>1.657626e+06</td>\n",
       "    </tr>\n",
       "    <tr>\n",
       "      <th>60295</th>\n",
       "      <td>2022-08-24 23:00:00</td>\n",
       "      <td>1661382000000</td>\n",
       "      <td>BTC/USD</td>\n",
       "      <td>21492.32</td>\n",
       "      <td>21535.44</td>\n",
       "      <td>21368.63</td>\n",
       "      <td>21368.63</td>\n",
       "      <td>30.155089</td>\n",
       "      <td>6.443729e+05</td>\n",
       "    </tr>\n",
       "    <tr>\n",
       "      <th>60296</th>\n",
       "      <td>2022-08-25 00:00:00</td>\n",
       "      <td>1661385600000</td>\n",
       "      <td>BTC/USD</td>\n",
       "      <td>21368.63</td>\n",
       "      <td>21485.59</td>\n",
       "      <td>21314.24</td>\n",
       "      <td>21472.61</td>\n",
       "      <td>36.305121</td>\n",
       "      <td>7.795657e+05</td>\n",
       "    </tr>\n",
       "  </tbody>\n",
       "</table>\n",
       "<p>60297 rows × 9 columns</p>\n",
       "</div>"
      ],
      "text/plain": [
       "                      date           unix   symbol      open      high  \\\n",
       "0      2015-10-08 13:00:00     1444309200  BTC/USD      0.00    245.00   \n",
       "1      2015-10-08 14:00:00     1444312800  BTC/USD    245.00    245.00   \n",
       "2      2015-10-08 15:00:00     1444316400  BTC/USD    245.00    245.00   \n",
       "3      2015-10-08 16:00:00     1444320000  BTC/USD    244.92    244.92   \n",
       "4      2015-10-08 17:00:00     1444323600  BTC/USD    244.25    244.99   \n",
       "...                    ...            ...      ...       ...       ...   \n",
       "60292  2022-08-24 20:00:00  1661371200000  BTC/USD  21710.70  21767.00   \n",
       "60293  2022-08-24 21:00:00  1661374800000  BTC/USD  21691.95  21730.10   \n",
       "60294  2022-08-24 22:00:00  1661378400000  BTC/USD  21589.19  21660.58   \n",
       "60295  2022-08-24 23:00:00  1661382000000  BTC/USD  21492.32  21535.44   \n",
       "60296  2022-08-25 00:00:00  1661385600000  BTC/USD  21368.63  21485.59   \n",
       "\n",
       "            low     close  Volume BTC    Volume USD  \n",
       "0          0.00    245.00    0.606654  1.486303e+02  \n",
       "1        244.50    245.00    4.453649  1.091144e+03  \n",
       "2        244.92    244.92    3.016926  7.389055e+02  \n",
       "3        244.25    244.25    3.895252  9.514154e+02  \n",
       "4        244.02    244.99    3.920632  9.605156e+02  \n",
       "...         ...       ...         ...           ...  \n",
       "60292  21682.75  21691.95   35.872016  7.781340e+05  \n",
       "60293  21560.65  21589.19   36.171399  7.809112e+05  \n",
       "60294  21459.95  21492.32   77.126443  1.657626e+06  \n",
       "60295  21368.63  21368.63   30.155089  6.443729e+05  \n",
       "60296  21314.24  21472.61   36.305121  7.795657e+05  \n",
       "\n",
       "[60297 rows x 9 columns]"
      ]
     },
     "execution_count": 4,
     "metadata": {},
     "output_type": "execute_result"
    }
   ],
   "source": [
    "df = dataset.reset_index()\n",
    "df"
   ]
  },
  {
   "cell_type": "code",
   "execution_count": 5,
   "id": "17f74d09",
   "metadata": {},
   "outputs": [
    {
     "data": {
      "text/html": [
       "<div>\n",
       "<style scoped>\n",
       "    .dataframe tbody tr th:only-of-type {\n",
       "        vertical-align: middle;\n",
       "    }\n",
       "\n",
       "    .dataframe tbody tr th {\n",
       "        vertical-align: top;\n",
       "    }\n",
       "\n",
       "    .dataframe thead th {\n",
       "        text-align: right;\n",
       "    }\n",
       "</style>\n",
       "<table border=\"1\" class=\"dataframe\">\n",
       "  <thead>\n",
       "    <tr style=\"text-align: right;\">\n",
       "      <th></th>\n",
       "      <th>date</th>\n",
       "      <th>unix</th>\n",
       "      <th>symbol</th>\n",
       "      <th>open</th>\n",
       "      <th>high</th>\n",
       "      <th>low</th>\n",
       "      <th>close</th>\n",
       "      <th>Volume BTC</th>\n",
       "      <th>Volume USD</th>\n",
       "    </tr>\n",
       "  </thead>\n",
       "  <tbody>\n",
       "    <tr>\n",
       "      <th>0</th>\n",
       "      <td>2015-10-08 13:00:00</td>\n",
       "      <td>1444309200</td>\n",
       "      <td>BTC/USD</td>\n",
       "      <td>0.00</td>\n",
       "      <td>245.00</td>\n",
       "      <td>0.00</td>\n",
       "      <td>245.00</td>\n",
       "      <td>0.606654</td>\n",
       "      <td>1.486303e+02</td>\n",
       "    </tr>\n",
       "    <tr>\n",
       "      <th>1</th>\n",
       "      <td>2015-10-08 14:00:00</td>\n",
       "      <td>1444312800</td>\n",
       "      <td>BTC/USD</td>\n",
       "      <td>245.00</td>\n",
       "      <td>245.00</td>\n",
       "      <td>244.50</td>\n",
       "      <td>245.00</td>\n",
       "      <td>4.453649</td>\n",
       "      <td>1.091144e+03</td>\n",
       "    </tr>\n",
       "    <tr>\n",
       "      <th>2</th>\n",
       "      <td>2015-10-08 15:00:00</td>\n",
       "      <td>1444316400</td>\n",
       "      <td>BTC/USD</td>\n",
       "      <td>245.00</td>\n",
       "      <td>245.00</td>\n",
       "      <td>244.92</td>\n",
       "      <td>244.92</td>\n",
       "      <td>3.016926</td>\n",
       "      <td>7.389055e+02</td>\n",
       "    </tr>\n",
       "    <tr>\n",
       "      <th>3</th>\n",
       "      <td>2015-10-08 16:00:00</td>\n",
       "      <td>1444320000</td>\n",
       "      <td>BTC/USD</td>\n",
       "      <td>244.92</td>\n",
       "      <td>244.92</td>\n",
       "      <td>244.25</td>\n",
       "      <td>244.25</td>\n",
       "      <td>3.895252</td>\n",
       "      <td>9.514154e+02</td>\n",
       "    </tr>\n",
       "    <tr>\n",
       "      <th>4</th>\n",
       "      <td>2015-10-08 17:00:00</td>\n",
       "      <td>1444323600</td>\n",
       "      <td>BTC/USD</td>\n",
       "      <td>244.25</td>\n",
       "      <td>244.99</td>\n",
       "      <td>244.02</td>\n",
       "      <td>244.99</td>\n",
       "      <td>3.920632</td>\n",
       "      <td>9.605156e+02</td>\n",
       "    </tr>\n",
       "    <tr>\n",
       "      <th>...</th>\n",
       "      <td>...</td>\n",
       "      <td>...</td>\n",
       "      <td>...</td>\n",
       "      <td>...</td>\n",
       "      <td>...</td>\n",
       "      <td>...</td>\n",
       "      <td>...</td>\n",
       "      <td>...</td>\n",
       "      <td>...</td>\n",
       "    </tr>\n",
       "    <tr>\n",
       "      <th>60292</th>\n",
       "      <td>2022-08-24 20:00:00</td>\n",
       "      <td>1661371200000</td>\n",
       "      <td>BTC/USD</td>\n",
       "      <td>21710.70</td>\n",
       "      <td>21767.00</td>\n",
       "      <td>21682.75</td>\n",
       "      <td>21691.95</td>\n",
       "      <td>35.872016</td>\n",
       "      <td>7.781340e+05</td>\n",
       "    </tr>\n",
       "    <tr>\n",
       "      <th>60293</th>\n",
       "      <td>2022-08-24 21:00:00</td>\n",
       "      <td>1661374800000</td>\n",
       "      <td>BTC/USD</td>\n",
       "      <td>21691.95</td>\n",
       "      <td>21730.10</td>\n",
       "      <td>21560.65</td>\n",
       "      <td>21589.19</td>\n",
       "      <td>36.171399</td>\n",
       "      <td>7.809112e+05</td>\n",
       "    </tr>\n",
       "    <tr>\n",
       "      <th>60294</th>\n",
       "      <td>2022-08-24 22:00:00</td>\n",
       "      <td>1661378400000</td>\n",
       "      <td>BTC/USD</td>\n",
       "      <td>21589.19</td>\n",
       "      <td>21660.58</td>\n",
       "      <td>21459.95</td>\n",
       "      <td>21492.32</td>\n",
       "      <td>77.126443</td>\n",
       "      <td>1.657626e+06</td>\n",
       "    </tr>\n",
       "    <tr>\n",
       "      <th>60295</th>\n",
       "      <td>2022-08-24 23:00:00</td>\n",
       "      <td>1661382000000</td>\n",
       "      <td>BTC/USD</td>\n",
       "      <td>21492.32</td>\n",
       "      <td>21535.44</td>\n",
       "      <td>21368.63</td>\n",
       "      <td>21368.63</td>\n",
       "      <td>30.155089</td>\n",
       "      <td>6.443729e+05</td>\n",
       "    </tr>\n",
       "    <tr>\n",
       "      <th>60296</th>\n",
       "      <td>2022-08-25 00:00:00</td>\n",
       "      <td>1661385600000</td>\n",
       "      <td>BTC/USD</td>\n",
       "      <td>21368.63</td>\n",
       "      <td>21485.59</td>\n",
       "      <td>21314.24</td>\n",
       "      <td>21472.61</td>\n",
       "      <td>36.305121</td>\n",
       "      <td>7.795657e+05</td>\n",
       "    </tr>\n",
       "  </tbody>\n",
       "</table>\n",
       "<p>60297 rows × 9 columns</p>\n",
       "</div>"
      ],
      "text/plain": [
       "                      date           unix   symbol      open      high  \\\n",
       "0      2015-10-08 13:00:00     1444309200  BTC/USD      0.00    245.00   \n",
       "1      2015-10-08 14:00:00     1444312800  BTC/USD    245.00    245.00   \n",
       "2      2015-10-08 15:00:00     1444316400  BTC/USD    245.00    245.00   \n",
       "3      2015-10-08 16:00:00     1444320000  BTC/USD    244.92    244.92   \n",
       "4      2015-10-08 17:00:00     1444323600  BTC/USD    244.25    244.99   \n",
       "...                    ...            ...      ...       ...       ...   \n",
       "60292  2022-08-24 20:00:00  1661371200000  BTC/USD  21710.70  21767.00   \n",
       "60293  2022-08-24 21:00:00  1661374800000  BTC/USD  21691.95  21730.10   \n",
       "60294  2022-08-24 22:00:00  1661378400000  BTC/USD  21589.19  21660.58   \n",
       "60295  2022-08-24 23:00:00  1661382000000  BTC/USD  21492.32  21535.44   \n",
       "60296  2022-08-25 00:00:00  1661385600000  BTC/USD  21368.63  21485.59   \n",
       "\n",
       "            low     close  Volume BTC    Volume USD  \n",
       "0          0.00    245.00    0.606654  1.486303e+02  \n",
       "1        244.50    245.00    4.453649  1.091144e+03  \n",
       "2        244.92    244.92    3.016926  7.389055e+02  \n",
       "3        244.25    244.25    3.895252  9.514154e+02  \n",
       "4        244.02    244.99    3.920632  9.605156e+02  \n",
       "...         ...       ...         ...           ...  \n",
       "60292  21682.75  21691.95   35.872016  7.781340e+05  \n",
       "60293  21560.65  21589.19   36.171399  7.809112e+05  \n",
       "60294  21459.95  21492.32   77.126443  1.657626e+06  \n",
       "60295  21368.63  21368.63   30.155089  6.443729e+05  \n",
       "60296  21314.24  21472.61   36.305121  7.795657e+05  \n",
       "\n",
       "[60297 rows x 9 columns]"
      ]
     },
     "execution_count": 5,
     "metadata": {},
     "output_type": "execute_result"
    }
   ],
   "source": [
    "#plt.figure(figsize=(12,6))\n",
    "#sns.lineplot(x='date', y='close', data=df).set_title(\"Price of Bitcoin\")\n",
    "df"
   ]
  },
  {
   "cell_type": "code",
   "execution_count": 6,
   "id": "98c788b0",
   "metadata": {
    "scrolled": true
   },
   "outputs": [
    {
     "data": {
      "text/html": [
       "<div>\n",
       "<style scoped>\n",
       "    .dataframe tbody tr th:only-of-type {\n",
       "        vertical-align: middle;\n",
       "    }\n",
       "\n",
       "    .dataframe tbody tr th {\n",
       "        vertical-align: top;\n",
       "    }\n",
       "\n",
       "    .dataframe thead th {\n",
       "        text-align: right;\n",
       "    }\n",
       "</style>\n",
       "<table border=\"1\" class=\"dataframe\">\n",
       "  <thead>\n",
       "    <tr style=\"text-align: right;\">\n",
       "      <th></th>\n",
       "      <th>open</th>\n",
       "      <th>high</th>\n",
       "      <th>low</th>\n",
       "      <th>close</th>\n",
       "      <th>Volume BTC</th>\n",
       "      <th>Volume USD</th>\n",
       "    </tr>\n",
       "  </thead>\n",
       "  <tbody>\n",
       "    <tr>\n",
       "      <th>0</th>\n",
       "      <td>0.00</td>\n",
       "      <td>245.00</td>\n",
       "      <td>0.00</td>\n",
       "      <td>245.00</td>\n",
       "      <td>0.606654</td>\n",
       "      <td>1.486303e+02</td>\n",
       "    </tr>\n",
       "    <tr>\n",
       "      <th>1</th>\n",
       "      <td>245.00</td>\n",
       "      <td>245.00</td>\n",
       "      <td>244.50</td>\n",
       "      <td>245.00</td>\n",
       "      <td>4.453649</td>\n",
       "      <td>1.091144e+03</td>\n",
       "    </tr>\n",
       "    <tr>\n",
       "      <th>2</th>\n",
       "      <td>245.00</td>\n",
       "      <td>245.00</td>\n",
       "      <td>244.92</td>\n",
       "      <td>244.92</td>\n",
       "      <td>3.016926</td>\n",
       "      <td>7.389055e+02</td>\n",
       "    </tr>\n",
       "    <tr>\n",
       "      <th>3</th>\n",
       "      <td>244.92</td>\n",
       "      <td>244.92</td>\n",
       "      <td>244.25</td>\n",
       "      <td>244.25</td>\n",
       "      <td>3.895252</td>\n",
       "      <td>9.514154e+02</td>\n",
       "    </tr>\n",
       "    <tr>\n",
       "      <th>4</th>\n",
       "      <td>244.25</td>\n",
       "      <td>244.99</td>\n",
       "      <td>244.02</td>\n",
       "      <td>244.99</td>\n",
       "      <td>3.920632</td>\n",
       "      <td>9.605156e+02</td>\n",
       "    </tr>\n",
       "    <tr>\n",
       "      <th>...</th>\n",
       "      <td>...</td>\n",
       "      <td>...</td>\n",
       "      <td>...</td>\n",
       "      <td>...</td>\n",
       "      <td>...</td>\n",
       "      <td>...</td>\n",
       "    </tr>\n",
       "    <tr>\n",
       "      <th>60292</th>\n",
       "      <td>21710.70</td>\n",
       "      <td>21767.00</td>\n",
       "      <td>21682.75</td>\n",
       "      <td>21691.95</td>\n",
       "      <td>35.872016</td>\n",
       "      <td>7.781340e+05</td>\n",
       "    </tr>\n",
       "    <tr>\n",
       "      <th>60293</th>\n",
       "      <td>21691.95</td>\n",
       "      <td>21730.10</td>\n",
       "      <td>21560.65</td>\n",
       "      <td>21589.19</td>\n",
       "      <td>36.171399</td>\n",
       "      <td>7.809112e+05</td>\n",
       "    </tr>\n",
       "    <tr>\n",
       "      <th>60294</th>\n",
       "      <td>21589.19</td>\n",
       "      <td>21660.58</td>\n",
       "      <td>21459.95</td>\n",
       "      <td>21492.32</td>\n",
       "      <td>77.126443</td>\n",
       "      <td>1.657626e+06</td>\n",
       "    </tr>\n",
       "    <tr>\n",
       "      <th>60295</th>\n",
       "      <td>21492.32</td>\n",
       "      <td>21535.44</td>\n",
       "      <td>21368.63</td>\n",
       "      <td>21368.63</td>\n",
       "      <td>30.155089</td>\n",
       "      <td>6.443729e+05</td>\n",
       "    </tr>\n",
       "    <tr>\n",
       "      <th>60296</th>\n",
       "      <td>21368.63</td>\n",
       "      <td>21485.59</td>\n",
       "      <td>21314.24</td>\n",
       "      <td>21472.61</td>\n",
       "      <td>36.305121</td>\n",
       "      <td>7.795657e+05</td>\n",
       "    </tr>\n",
       "  </tbody>\n",
       "</table>\n",
       "<p>60297 rows × 6 columns</p>\n",
       "</div>"
      ],
      "text/plain": [
       "           open      high       low     close  Volume BTC    Volume USD\n",
       "0          0.00    245.00      0.00    245.00    0.606654  1.486303e+02\n",
       "1        245.00    245.00    244.50    245.00    4.453649  1.091144e+03\n",
       "2        245.00    245.00    244.92    244.92    3.016926  7.389055e+02\n",
       "3        244.92    244.92    244.25    244.25    3.895252  9.514154e+02\n",
       "4        244.25    244.99    244.02    244.99    3.920632  9.605156e+02\n",
       "...         ...       ...       ...       ...         ...           ...\n",
       "60292  21710.70  21767.00  21682.75  21691.95   35.872016  7.781340e+05\n",
       "60293  21691.95  21730.10  21560.65  21589.19   36.171399  7.809112e+05\n",
       "60294  21589.19  21660.58  21459.95  21492.32   77.126443  1.657626e+06\n",
       "60295  21492.32  21535.44  21368.63  21368.63   30.155089  6.443729e+05\n",
       "60296  21368.63  21485.59  21314.24  21472.61   36.305121  7.795657e+05\n",
       "\n",
       "[60297 rows x 6 columns]"
      ]
     },
     "execution_count": 6,
     "metadata": {},
     "output_type": "execute_result"
    }
   ],
   "source": [
    "df = df[[\"open\", \"high\", \"low\", \"close\",\"Volume BTC\", \"Volume USD\"]]\n",
    "#df = df[['Close']]\n",
    "df.head()\n",
    "SEQ_LEN = 120\n",
    "FUTURE_PERIOD = 10\n",
    "\n",
    "RATIO_TO_PREDICT = \"Close\"\n",
    "df"
   ]
  },
  {
   "cell_type": "code",
   "execution_count": 7,
   "id": "1d20b88b",
   "metadata": {},
   "outputs": [],
   "source": [
    "times = sorted(df.index.values)  # get the times\n",
    "last_10 = times[-int(0.1*len(times))] \n",
    "last_20 = times[-int(0.2*len(times))]\n",
    "\n",
    "test_df = df[(df.index >= last_10)]\n",
    "validation_df = df[(df.index >= last_20) & (df.index < last_10)]  \n",
    "train_df = df[(df.index < last_20)]"
   ]
  },
  {
   "cell_type": "code",
   "execution_count": 8,
   "id": "a5b93dc5",
   "metadata": {},
   "outputs": [
    {
     "data": {
      "text/html": [
       "<div>\n",
       "<style scoped>\n",
       "    .dataframe tbody tr th:only-of-type {\n",
       "        vertical-align: middle;\n",
       "    }\n",
       "\n",
       "    .dataframe tbody tr th {\n",
       "        vertical-align: top;\n",
       "    }\n",
       "\n",
       "    .dataframe thead th {\n",
       "        text-align: right;\n",
       "    }\n",
       "</style>\n",
       "<table border=\"1\" class=\"dataframe\">\n",
       "  <thead>\n",
       "    <tr style=\"text-align: right;\">\n",
       "      <th></th>\n",
       "      <th>open</th>\n",
       "      <th>high</th>\n",
       "      <th>low</th>\n",
       "      <th>close</th>\n",
       "      <th>Volume BTC</th>\n",
       "      <th>Volume USD</th>\n",
       "    </tr>\n",
       "  </thead>\n",
       "  <tbody>\n",
       "    <tr>\n",
       "      <th>0</th>\n",
       "      <td>0.00</td>\n",
       "      <td>245.00</td>\n",
       "      <td>0.00</td>\n",
       "      <td>245.00</td>\n",
       "      <td>0.606654</td>\n",
       "      <td>1.486303e+02</td>\n",
       "    </tr>\n",
       "    <tr>\n",
       "      <th>1</th>\n",
       "      <td>245.00</td>\n",
       "      <td>245.00</td>\n",
       "      <td>244.50</td>\n",
       "      <td>245.00</td>\n",
       "      <td>4.453649</td>\n",
       "      <td>1.091144e+03</td>\n",
       "    </tr>\n",
       "    <tr>\n",
       "      <th>2</th>\n",
       "      <td>245.00</td>\n",
       "      <td>245.00</td>\n",
       "      <td>244.92</td>\n",
       "      <td>244.92</td>\n",
       "      <td>3.016926</td>\n",
       "      <td>7.389055e+02</td>\n",
       "    </tr>\n",
       "    <tr>\n",
       "      <th>3</th>\n",
       "      <td>244.92</td>\n",
       "      <td>244.92</td>\n",
       "      <td>244.25</td>\n",
       "      <td>244.25</td>\n",
       "      <td>3.895252</td>\n",
       "      <td>9.514154e+02</td>\n",
       "    </tr>\n",
       "    <tr>\n",
       "      <th>4</th>\n",
       "      <td>244.25</td>\n",
       "      <td>244.99</td>\n",
       "      <td>244.02</td>\n",
       "      <td>244.99</td>\n",
       "      <td>3.920632</td>\n",
       "      <td>9.605156e+02</td>\n",
       "    </tr>\n",
       "    <tr>\n",
       "      <th>...</th>\n",
       "      <td>...</td>\n",
       "      <td>...</td>\n",
       "      <td>...</td>\n",
       "      <td>...</td>\n",
       "      <td>...</td>\n",
       "      <td>...</td>\n",
       "    </tr>\n",
       "    <tr>\n",
       "      <th>60292</th>\n",
       "      <td>21710.70</td>\n",
       "      <td>21767.00</td>\n",
       "      <td>21682.75</td>\n",
       "      <td>21691.95</td>\n",
       "      <td>35.872016</td>\n",
       "      <td>7.781340e+05</td>\n",
       "    </tr>\n",
       "    <tr>\n",
       "      <th>60293</th>\n",
       "      <td>21691.95</td>\n",
       "      <td>21730.10</td>\n",
       "      <td>21560.65</td>\n",
       "      <td>21589.19</td>\n",
       "      <td>36.171399</td>\n",
       "      <td>7.809112e+05</td>\n",
       "    </tr>\n",
       "    <tr>\n",
       "      <th>60294</th>\n",
       "      <td>21589.19</td>\n",
       "      <td>21660.58</td>\n",
       "      <td>21459.95</td>\n",
       "      <td>21492.32</td>\n",
       "      <td>77.126443</td>\n",
       "      <td>1.657626e+06</td>\n",
       "    </tr>\n",
       "    <tr>\n",
       "      <th>60295</th>\n",
       "      <td>21492.32</td>\n",
       "      <td>21535.44</td>\n",
       "      <td>21368.63</td>\n",
       "      <td>21368.63</td>\n",
       "      <td>30.155089</td>\n",
       "      <td>6.443729e+05</td>\n",
       "    </tr>\n",
       "    <tr>\n",
       "      <th>60296</th>\n",
       "      <td>21368.63</td>\n",
       "      <td>21485.59</td>\n",
       "      <td>21314.24</td>\n",
       "      <td>21472.61</td>\n",
       "      <td>36.305121</td>\n",
       "      <td>7.795657e+05</td>\n",
       "    </tr>\n",
       "  </tbody>\n",
       "</table>\n",
       "<p>60297 rows × 6 columns</p>\n",
       "</div>"
      ],
      "text/plain": [
       "           open      high       low     close  Volume BTC    Volume USD\n",
       "0          0.00    245.00      0.00    245.00    0.606654  1.486303e+02\n",
       "1        245.00    245.00    244.50    245.00    4.453649  1.091144e+03\n",
       "2        245.00    245.00    244.92    244.92    3.016926  7.389055e+02\n",
       "3        244.92    244.92    244.25    244.25    3.895252  9.514154e+02\n",
       "4        244.25    244.99    244.02    244.99    3.920632  9.605156e+02\n",
       "...         ...       ...       ...       ...         ...           ...\n",
       "60292  21710.70  21767.00  21682.75  21691.95   35.872016  7.781340e+05\n",
       "60293  21691.95  21730.10  21560.65  21589.19   36.171399  7.809112e+05\n",
       "60294  21589.19  21660.58  21459.95  21492.32   77.126443  1.657626e+06\n",
       "60295  21492.32  21535.44  21368.63  21368.63   30.155089  6.443729e+05\n",
       "60296  21368.63  21485.59  21314.24  21472.61   36.305121  7.795657e+05\n",
       "\n",
       "[60297 rows x 6 columns]"
      ]
     },
     "execution_count": 8,
     "metadata": {},
     "output_type": "execute_result"
    }
   ],
   "source": [
    "train_ = train_df.values\n",
    "valid_ = validation_df.values\n",
    "test_ = test_df.values\n",
    "df"
   ]
  },
  {
   "cell_type": "code",
   "execution_count": 9,
   "id": "775c2142",
   "metadata": {},
   "outputs": [
    {
     "name": "stdout",
     "output_type": "stream",
     "text": [
      "train shape (48238, 6)\n",
      "valid shape (6030, 6)\n",
      "test shape (6029, 6)\n"
     ]
    }
   ],
   "source": [
    "print(\"train shape {0}\".format(train_.shape))\n",
    "print(\"valid shape {0}\".format(valid_.shape))\n",
    "print(\"test shape {0}\".format(test_.shape))\n"
   ]
  },
  {
   "cell_type": "code",
   "execution_count": 10,
   "id": "6d8f3a26",
   "metadata": {},
   "outputs": [],
   "source": [
    "def line_plot(line1, line2,line3, label1=None, label2=None, label3=None, title='', lw=2):\n",
    "    fig, ax = plt.subplots(1, figsize=(13, 7))\n",
    "    ax.plot(line1, label=label1, linewidth=lw)\n",
    "    ax.plot(line2, label=label2, linewidth=lw)\n",
    "    ax.plot(line3, label=label3, linewidth=lw)\n",
    "    ax.set_ylabel('price [USD]', fontsize=14)\n",
    "    ax.set_title(title, fontsize=16)\n",
    "    ax.legend(loc='best', fontsize=16);"
   ]
  },
  {
   "cell_type": "code",
   "execution_count": 11,
   "id": "71eac9e8",
   "metadata": {},
   "outputs": [
    {
     "data": {
      "image/png": "[encoded data removed]",
      "text/plain": [
       "<Figure size 936x504 with 1 Axes>"
      ]
     },
     "metadata": {
      "needs_background": "light"
     },
     "output_type": "display_data"
    }
   ],
   "source": [
    "line_plot(train_df['close'], test_df['close'], validation_df['close'], 'training', 'test','validation', title='Data Splitting for BTC')"
   ]
  },
  {
   "cell_type": "code",
   "execution_count": 12,
   "id": "6c951965",
   "metadata": {},
   "outputs": [],
   "source": [
    "from sklearn.preprocessing import MinMaxScaler\n",
    "scaler = MinMaxScaler()\n",
    "scale_close = MinMaxScaler()"
   ]
  },
  {
   "cell_type": "code",
   "execution_count": 13,
   "id": "b7651c05",
   "metadata": {},
   "outputs": [
    {
     "data": {
      "text/plain": [
       "MinMaxScaler()"
      ]
     },
     "execution_count": 13,
     "metadata": {},
     "output_type": "execute_result"
    }
   ],
   "source": [
    "x = train_[:,3].copy()\n",
    "scale_close.fit(x.reshape(-1, 1))"
   ]
  },
  {
   "cell_type": "code",
   "execution_count": 14,
   "id": "58c0e19e",
   "metadata": {},
   "outputs": [],
   "source": [
    "scaler.fit(train_)\n",
    "\n",
    "train_ = scaler.transform(train_)\n",
    "\n",
    "valid_ = scaler.transform(valid_)\n",
    "test_ = scaler.transform(test_)"
   ]
  },
  {
   "cell_type": "code",
   "execution_count": 15,
   "id": "b4797b93",
   "metadata": {},
   "outputs": [],
   "source": [
    "# Now perform exponential moving average smoothing for smooth curve of data\n",
    "EMA = 0.0\n",
    "gamma = 0.165\n",
    "for ti in range(train_.shape[0]):\n",
    "    EMA = gamma*train_[ti] + (1-gamma)*EMA\n",
    "    train_[ti] = EMA\n",
    "\n",
    "# Used for visualization and test purposes\n",
    "all_mid_data = np.concatenate([train_,valid_, test_],axis=0)"
   ]
  },
  {
   "cell_type": "code",
   "execution_count": 16,
   "id": "83653f0c",
   "metadata": {},
   "outputs": [],
   "source": [
    "#data splitting\n",
    "\n",
    "def split_data(data):\n",
    "    X = []\n",
    "    Y = []\n",
    "    for i in range(SEQ_LEN, len(data)-FUTURE_PERIOD+1):\n",
    "        X.append(data[i-SEQ_LEN:i])\n",
    "        Y.append(data[i+(FUTURE_PERIOD-1), 3])\n",
    "    return np.array(X), np.array(Y)"
   ]
  },
  {
   "cell_type": "code",
   "execution_count": 17,
   "id": "75fe26a7",
   "metadata": {},
   "outputs": [],
   "source": [
    "X_train, y_train = split_data(train_)\n",
    "X_test, y_test = split_data(test_)\n",
    "X_valid, y_valid = split_data(valid_)\n"
   ]
  },
  {
   "cell_type": "code",
   "execution_count": 18,
   "id": "6482c371",
   "metadata": {},
   "outputs": [],
   "source": [
    "X_train = np.reshape(X_train, (X_train.shape[0], X_train.shape[1], 6))\n",
    "X_valid = np.reshape(X_valid, (X_valid.shape[0], X_valid.shape[1], 6))\n",
    "X_test = np.reshape(X_test, (X_test.shape[0], X_test.shape[1], 6))"
   ]
  },
  {
   "cell_type": "code",
   "execution_count": 19,
   "id": "4b94815b",
   "metadata": {},
   "outputs": [
    {
     "name": "stdout",
     "output_type": "stream",
     "text": [
      "train shape (48109, 120, 6)\n",
      "valid shape (5901, 120, 6)\n",
      "test shape (5900, 120, 6)\n"
     ]
    }
   ],
   "source": [
    "print(\"train shape {0}\".format(X_train.shape))\n",
    "print(\"valid shape {0}\".format(X_valid.shape))\n",
    "print(\"test shape {0}\".format(X_test.shape))"
   ]
  },
  {
   "cell_type": "code",
   "execution_count": 20,
   "id": "5c754208",
   "metadata": {},
   "outputs": [],
   "source": [
    "X_train_2, y_train_2 = split_data(train_)\n",
    "X_train_2 = np.reshape(X_train_2, (X_train_2.shape[0], X_train_2.shape[1], 6))"
   ]
  },
  {
   "cell_type": "code",
   "execution_count": 21,
   "id": "d41fbf79",
   "metadata": {},
   "outputs": [
    {
     "name": "stdout",
     "output_type": "stream",
     "text": [
      "Model: \"sequential\"\n",
      "_________________________________________________________________\n",
      " Layer (type)                Output Shape              Param #   \n",
      "=================================================================\n",
      " lstm (LSTM)                 (None, 120)               60960     \n",
      "                                                                 \n",
      " leaky_re_lu (LeakyReLU)     (None, 120)               0         \n",
      "                                                                 \n",
      " dropout (Dropout)           (None, 120)               0         \n",
      "                                                                 \n",
      " batch_normalization (BatchN  (None, 120)              480       \n",
      " ormalization)                                                   \n",
      "                                                                 \n",
      " dense (Dense)               (None, 1)                 121       \n",
      "                                                                 \n",
      "=================================================================\n",
      "Total params: 61,561\n",
      "Trainable params: 61,321\n",
      "Non-trainable params: 240\n",
      "_________________________________________________________________\n"
     ]
    }
   ],
   "source": [
    "#LSTM model\n",
    "\n",
    "import tensorflow as tf\n",
    "from tensorflow.keras import layers\n",
    "from keras.models import Sequential\n",
    "from tensorflow.keras.optimizers import Adam\n",
    "from keras.layers import Dense, LSTM, LeakyReLU, Dropout, BatchNormalization\n",
    "\n",
    "# Initialize the RNN\n",
    "model_LSTM1 = Sequential()\n",
    "model_LSTM1.add(LSTM(units = 120, input_shape=(120, 6)))\n",
    "model_LSTM1.add(LeakyReLU(alpha=0.5))\n",
    "model_LSTM1.add(Dropout(0.5))\n",
    "model_LSTM1.add(BatchNormalization())\n",
    "model_LSTM1.add(Dense(1))\n",
    "model_LSTM1.summary()"
   ]
  },
  {
   "cell_type": "code",
   "execution_count": 22,
   "id": "0b443d42",
   "metadata": {},
   "outputs": [],
   "source": [
    "model_LSTM1.compile(optimizer='adam', loss='mean_squared_error', metrics = ('MAPE'))"
   ]
  },
  {
   "cell_type": "code",
   "execution_count": 23,
   "id": "1f11ddfa",
   "metadata": {},
   "outputs": [
    {
     "name": "stdout",
     "output_type": "stream",
     "text": [
      "Epoch 1/10\n",
      "376/376 [==============================] - 159s 409ms/step - loss: 0.0490 - MAPE: 703.6752 - val_loss: 0.2751 - val_MAPE: 65.2686\n",
      "Epoch 2/10\n",
      "376/376 [==============================] - 149s 397ms/step - loss: 0.0019 - MAPE: 223.0942 - val_loss: 0.0224 - val_MAPE: 18.1761\n",
      "Epoch 3/10\n",
      "376/376 [==============================] - 155s 414ms/step - loss: 0.0014 - MAPE: 196.3655 - val_loss: 0.0016 - val_MAPE: 3.9651\n",
      "Epoch 4/10\n",
      "376/376 [==============================] - 192s 508ms/step - loss: 0.0013 - MAPE: 197.5495 - val_loss: 0.0011 - val_MAPE: 3.5205\n",
      "Epoch 5/10\n",
      "376/376 [==============================] - 175s 465ms/step - loss: 0.0015 - MAPE: 211.6348 - val_loss: 0.0062 - val_MAPE: 9.5642\n",
      "Epoch 6/10\n",
      "376/376 [==============================] - 162s 430ms/step - loss: 0.0011 - MAPE: 191.0901 - val_loss: 7.7927e-04 - val_MAPE: 2.7630\n",
      "Epoch 7/10\n",
      "376/376 [==============================] - 165s 439ms/step - loss: 0.0011 - MAPE: 186.2559 - val_loss: 9.2973e-04 - val_MAPE: 3.1847\n",
      "Epoch 8/10\n",
      "376/376 [==============================] - 114s 302ms/step - loss: 0.0012 - MAPE: 192.8499 - val_loss: 0.0022 - val_MAPE: 5.1884\n",
      "Epoch 9/10\n",
      "376/376 [==============================] - 101s 268ms/step - loss: 9.6567e-04 - MAPE: 183.8036 - val_loss: 5.5996e-04 - val_MAPE: 2.4106\n",
      "Epoch 10/10\n",
      "376/376 [==============================] - 119s 317ms/step - loss: 0.0010 - MAPE: 186.4096 - val_loss: 5.5819e-04 - val_MAPE: 2.3951\n"
     ]
    }
   ],
   "source": [
    "history_LSTM1 = model_LSTM1.fit(X_train, y_train,validation_data=(X_valid, y_valid), epochs=10, batch_size=128)"
   ]
  },
  {
   "cell_type": "code",
   "execution_count": 24,
   "id": "61c7169f",
   "metadata": {},
   "outputs": [
    {
     "data": {
      "image/png": "[encoded data removed]",
      "text/plain": [
       "<Figure size 432x288 with 1 Axes>"
      ]
     },
     "metadata": {
      "needs_background": "light"
     },
     "output_type": "display_data"
    }
   ],
   "source": [
    "loss = history_LSTM1.history['loss']\n",
    "val_loss = history_LSTM1.history['val_loss']\n",
    "\n",
    "epochs = range(len(loss))\n",
    "\n",
    "plt.figure()\n",
    "\n",
    "plt.plot(epochs, loss, 'b', label='Training loss')\n",
    "plt.plot(epochs, val_loss, 'r', label='Validation loss')\n",
    "plt.title(\"LSTM losses (BTC)\")\n",
    "plt.xlabel('Epochs')\n",
    "plt.ylabel('Loss')\n",
    "plt.legend()\n",
    "\n",
    "plt.show()"
   ]
  },
  {
   "cell_type": "code",
   "execution_count": 25,
   "id": "8dca641a",
   "metadata": {},
   "outputs": [
    {
     "data": {
      "image/png": "[encoded data removed]",
      "text/plain": [
       "<Figure size 432x288 with 1 Axes>"
      ]
     },
     "metadata": {
      "needs_background": "light"
     },
     "output_type": "display_data"
    }
   ],
   "source": [
    "mape = history_LSTM1.history['MAPE']\n",
    "val_mape = history_LSTM1.history['val_MAPE']\n",
    "\n",
    "epochs = range(len(mape))\n",
    "\n",
    "plt.figure()\n",
    "\n",
    "plt.plot(epochs, mape, 'b', label='Training MAPE')\n",
    "plt.plot(epochs, val_mape, 'r', label='Validation MAPE')\n",
    "plt.title(\"LSTM MAPE (BTC)\")\n",
    "plt.xlabel('Epochs')\n",
    "plt.ylabel('MAPE')\n",
    "plt.legend()\n",
    "\n",
    "plt.show()"
   ]
  },
  {
   "cell_type": "code",
   "execution_count": 26,
   "id": "08af6b8f",
   "metadata": {},
   "outputs": [],
   "source": [
    "pred_LSTM1 = model_LSTM1.predict(X_test)\n"
   ]
  },
  {
   "cell_type": "code",
   "execution_count": 27,
   "id": "86adaf94",
   "metadata": {},
   "outputs": [
    {
     "data": {
      "image/png": "[encoded data removed]",
      "text/plain": [
       "<Figure size 432x288 with 1 Axes>"
      ]
     },
     "metadata": {
      "needs_background": "light"
     },
     "output_type": "display_data"
    }
   ],
   "source": [
    "plt.plot(y_test, color = 'black', label = 'Real Price')\n",
    "plt.plot(pred_LSTM1, color = 'red', label = 'Predicted Price')\n",
    "plt.title('Close BTC Price Prediction - LSTM', fontsize=18)\n",
    "plt.xlabel('DateTime')\n",
    "plt.ylabel('Close Price')\n",
    "plt.legend(fontsize=18)\n",
    "plt.show()"
   ]
  },
  {
   "cell_type": "code",
   "execution_count": 28,
   "id": "df5335f0",
   "metadata": {},
   "outputs": [
    {
     "name": "stdout",
     "output_type": "stream",
     "text": [
      "185/185 [==============================] - 7s 37ms/step - loss: 3.0479e-04 - MAPE: 2.6099\n",
      "\n",
      "The error of the model with 1 layer LSTM is: [0.0003047852369491011, 2.609872817993164]\n"
     ]
    }
   ],
   "source": [
    "import math\n",
    "\n",
    "LSTM1_loss = model_LSTM1.evaluate(X_test, y_test, verbose=1)\n",
    "\n",
    "#Err_LSTM1 = LSTM1_loss[0]\n",
    "#Err_LSTM1 = math.sqrt(LSTM1_loss)\n",
    "print('\\nThe error of the model with 1 layer LSTM is:',LSTM1_loss)"
   ]
  },
  {
   "cell_type": "code",
   "execution_count": 29,
   "id": "29f15ff4",
   "metadata": {},
   "outputs": [
    {
     "name": "stdout",
     "output_type": "stream",
     "text": [
      "0.00030478523871327654 0.9869150285775621\n"
     ]
    }
   ],
   "source": [
    "from sklearn.metrics import mean_squared_error\n",
    "MAE=mean_squared_error(pred_LSTM1, y_test)\n",
    "from sklearn.metrics import r2_score\n",
    "R2=r2_score(y_test, pred_LSTM1)\n",
    "print (MAE,R2)"
   ]
  },
  {
   "cell_type": "code",
   "execution_count": 30,
   "id": "a878e11b",
   "metadata": {},
   "outputs": [
    {
     "name": "stdout",
     "output_type": "stream",
     "text": [
      "Model: \"sequential_1\"\n",
      "_________________________________________________________________\n",
      " Layer (type)                Output Shape              Param #   \n",
      "=================================================================\n",
      " gru (GRU)                   (None, 50)                8700      \n",
      "                                                                 \n",
      " activation (Activation)     (None, 50)                0         \n",
      "                                                                 \n",
      " dropout_1 (Dropout)         (None, 50)                0         \n",
      "                                                                 \n",
      " dense_1 (Dense)             (None, 1)                 51        \n",
      "                                                                 \n",
      " activation_1 (Activation)   (None, 1)                 0         \n",
      "                                                                 \n",
      "=================================================================\n",
      "Total params: 8,751\n",
      "Trainable params: 8,751\n",
      "Non-trainable params: 0\n",
      "_________________________________________________________________\n"
     ]
    }
   ],
   "source": [
    "#GRU\n",
    "from keras.models import Sequential\n",
    "from keras.layers import Dense, Dropout, Activation, Flatten,Reshape\n",
    "from keras.layers import Conv1D, MaxPooling1D, LeakyReLU\n",
    "from keras.utils import np_utils\n",
    "from keras.layers import GRU,CuDNNGRU\n",
    "model_GRU = Sequential()\n",
    "\n",
    "model_GRU.add(GRU(units=50, input_shape=(120,6),return_sequences=False))\n",
    "model_GRU.add(Activation('tanh'))\n",
    "model_GRU.add(Dropout(0.3))\n",
    "model_GRU.add(Dense(1))\n",
    "model_GRU.add(Activation('relu'))\n",
    "model_GRU.compile(loss='mse', optimizer='adam', metrics = ('MAPE'))\n",
    "model_GRU.summary()"
   ]
  },
  {
   "cell_type": "code",
   "execution_count": 31,
   "id": "c0e84b93",
   "metadata": {},
   "outputs": [
    {
     "name": "stdout",
     "output_type": "stream",
     "text": [
      "Epoch 1/10\n",
      "376/376 [==============================] - 78s 195ms/step - loss: 0.0011 - MAPE: 55.6439 - val_loss: 4.9223e-04 - val_MAPE: 2.3015\n",
      "Epoch 2/10\n",
      "376/376 [==============================] - 100s 266ms/step - loss: 3.8664e-04 - MAPE: 34.2880 - val_loss: 5.3675e-04 - val_MAPE: 2.3868\n",
      "Epoch 3/10\n",
      "376/376 [==============================] - 93s 247ms/step - loss: 3.2261e-04 - MAPE: 37.8920 - val_loss: 6.3255e-04 - val_MAPE: 2.5709\n",
      "Epoch 4/10\n",
      "376/376 [==============================] - 111s 296ms/step - loss: 2.7350e-04 - MAPE: 41.3545 - val_loss: 5.0426e-04 - val_MAPE: 2.3333\n",
      "Epoch 5/10\n",
      "376/376 [==============================] - 103s 273ms/step - loss: 2.9255e-04 - MAPE: 46.6297 - val_loss: 5.2061e-04 - val_MAPE: 2.2284\n",
      "Epoch 6/10\n",
      "376/376 [==============================] - 100s 266ms/step - loss: 2.6061e-04 - MAPE: 44.8427 - val_loss: 8.2097e-04 - val_MAPE: 2.8472\n",
      "Epoch 7/10\n",
      "376/376 [==============================] - 100s 267ms/step - loss: 2.6548e-04 - MAPE: 46.8879 - val_loss: 6.8610e-04 - val_MAPE: 2.6091\n",
      "Epoch 8/10\n",
      "376/376 [==============================] - 144s 382ms/step - loss: 2.6867e-04 - MAPE: 48.1375 - val_loss: 8.4623e-04 - val_MAPE: 2.8906\n",
      "Epoch 9/10\n",
      "376/376 [==============================] - 160s 426ms/step - loss: 2.6615e-04 - MAPE: 49.1531 - val_loss: 4.4887e-04 - val_MAPE: 2.0877\n",
      "Epoch 10/10\n",
      "376/376 [==============================] - 201s 527ms/step - loss: 2.5197e-04 - MAPE: 47.1383 - val_loss: 7.3502e-04 - val_MAPE: 2.6973\n"
     ]
    }
   ],
   "source": [
    "history_GRU = model_GRU.fit(X_train, y_train, validation_data=(X_valid, y_valid), batch_size = 128, epochs = 10)"
   ]
  },
  {
   "cell_type": "code",
   "execution_count": 32,
   "id": "6d7e751d",
   "metadata": {},
   "outputs": [
    {
     "data": {
      "image/png": "[encoded data removed]",
      "text/plain": [
       "<Figure size 432x288 with 1 Axes>"
      ]
     },
     "metadata": {
      "needs_background": "light"
     },
     "output_type": "display_data"
    }
   ],
   "source": [
    "loss_GRU = history_GRU.history['loss']\n",
    "val_loss_GRU = history_GRU.history['val_loss']\n",
    "\n",
    "epochs = range(len(loss_GRU))\n",
    "\n",
    "plt.figure()\n",
    "\n",
    "plt.plot(epochs, loss_GRU, 'b', label='Training loss')\n",
    "plt.plot(epochs, val_loss_GRU, 'r', label='Validation loss')\n",
    "plt.title(\"GRU losses (BTC)\")\n",
    "plt.xlabel('Epochs')\n",
    "plt.ylabel('Loss')\n",
    "plt.legend()\n",
    "\n",
    "plt.show()"
   ]
  },
  {
   "cell_type": "code",
   "execution_count": 33,
   "id": "e890794e",
   "metadata": {},
   "outputs": [
    {
     "data": {
      "image/png": "[encoded data removed]",
      "text/plain": [
       "<Figure size 432x288 with 1 Axes>"
      ]
     },
     "metadata": {
      "needs_background": "light"
     },
     "output_type": "display_data"
    }
   ],
   "source": [
    "mape = history_GRU.history['MAPE']\n",
    "val_mape = history_GRU.history['val_MAPE']\n",
    "\n",
    "epochs = range(len(mape))\n",
    "\n",
    "plt.figure()\n",
    "\n",
    "plt.plot(epochs, mape, 'b', label='Training MAPE')\n",
    "plt.plot(epochs, val_mape, 'r', label='Validation MAPE')\n",
    "plt.title(\"GRU MAPE (BTC)\")\n",
    "plt.xlabel('Epochs')\n",
    "plt.ylabel('MAPE')\n",
    "plt.legend()\n",
    "\n",
    "plt.show()"
   ]
  },
  {
   "cell_type": "code",
   "execution_count": null,
   "id": "9b793743",
   "metadata": {},
   "outputs": [],
   "source": [
    "pred_GRU = model_GRU.predict(X_test)"
   ]
  },
  {
   "cell_type": "code",
   "execution_count": 51,
   "id": "0a0841f8",
   "metadata": {},
   "outputs": [
    {
     "data": {
      "image/png": "[encoded data removed]",
      "text/plain": [
       "<Figure size 432x288 with 1 Axes>"
      ]
     },
     "metadata": {
      "needs_background": "light"
     },
     "output_type": "display_data"
    }
   ],
   "source": [
    "plt.plot(y_test, color = 'black', label = 'Real Price')\n",
    "plt.plot(pred_GRU, color = 'red', label = 'Predicted Price')\n",
    "plt.title('Close BTC Price Prediction - GRU', fontsize=18)\n",
    "#plt.xticks(range(0,df.shape[0],50),df['Date'].loc[::50],rotation=45)\n",
    "plt.xlabel('DateTime')\n",
    "plt.ylabel('Close Price')\n",
    "plt.legend(fontsize=18)\n",
    "plt.show()"
   ]
  },
  {
   "cell_type": "code",
   "execution_count": 36,
   "id": "e0ef8f58",
   "metadata": {
    "scrolled": true
   },
   "outputs": [
    {
     "name": "stdout",
     "output_type": "stream",
     "text": [
      "185/185 [==============================] - 30s 165ms/step - loss: 1.9779e-04 - MAPE: 1.8374\n",
      "\n",
      "The error of the model with a GRU layer is: [0.00019779166905209422, 1.8373764753341675]\n"
     ]
    }
   ],
   "source": [
    "\n",
    "\n",
    "import math\n",
    "\n",
    "GRU_loss = model_GRU.evaluate(X_test, y_test, verbose=1)\n",
    "\n",
    "#Err_GRU = math.sqrt(GRU_loss)\n",
    "print('\\nThe error of the model with a GRU layer is:',GRU_loss)"
   ]
  },
  {
   "cell_type": "code",
   "execution_count": 37,
   "id": "84f9b4b4",
   "metadata": {},
   "outputs": [
    {
     "name": "stdout",
     "output_type": "stream",
     "text": [
      "0.00019779170789103133 0.9915084508151523\n"
     ]
    }
   ],
   "source": [
    "from sklearn.metrics import mean_squared_error\n",
    "MAE=mean_squared_error(pred_GRU, y_test)\n",
    "from sklearn.metrics import r2_score\n",
    "R2=r2_score(y_test, pred_GRU)\n",
    "print (MAE,R2)"
   ]
  },
  {
   "cell_type": "code",
   "execution_count": 38,
   "id": "0257667c",
   "metadata": {},
   "outputs": [],
   "source": [
    "#Bi-LSTM\n",
    "import tensorflow as tf\n",
    "from tensorflow.keras import layers\n",
    "from keras.models import Sequential\n",
    "from tensorflow.keras.optimizers import Adam\n",
    "from keras.layers import Dense, LSTM, LeakyReLU, Dropout, BatchNormalization\n",
    "from keras.layers import Bidirectional\n",
    "\n",
    "num_units = 128\n",
    "activation_function = 'relu'\n",
    "optimizer = 'adam'\n",
    "loss_function = 'mean_squared_error'\n",
    "batch_size = 128\n",
    "num_epochs = 10\n",
    "\n",
    "# Initialize the RNN\n",
    "regressor2 = Sequential()\n",
    "\n",
    "# Adding the input layer and the LSTM layer\n",
    "#regressor2.add(tf.keras.layers.Conv1D(120, 3, activation=\"relu\",input_shape=(120, 5)))\n",
    "#regressor2.add(tf.keras.layers.AveragePooling1D(4))\n",
    "regressor2.add(Bidirectional(LSTM(units = num_units, input_shape=(120, 6))))#activation = activation_function,\n",
    "regressor2.add(LeakyReLU(alpha= 0.5))\n",
    "regressor2.add(BatchNormalization())\n",
    "regressor2.add(Dropout(0.5))\n",
    "# Adding the output layer\n",
    "regressor2.add(Dense(units = 1))\n",
    "# Compiling the RNN\n",
    "regressor2.compile(optimizer = optimizer, loss = loss_function, metrics = ('MAPE'))"
   ]
  },
  {
   "cell_type": "code",
   "execution_count": 39,
   "id": "e890e127",
   "metadata": {},
   "outputs": [
    {
     "name": "stdout",
     "output_type": "stream",
     "text": [
      "Epoch 1/10\n",
      "376/376 [==============================] - 354s 907ms/step - loss: 0.0428 - MAPE: 861.1832 - val_loss: 0.2898 - val_MAPE: 67.2097\n",
      "Epoch 2/10\n",
      "376/376 [==============================] - 275s 731ms/step - loss: 0.0020 - MAPE: 226.7015 - val_loss: 0.0061 - val_MAPE: 8.6389\n",
      "Epoch 3/10\n",
      "376/376 [==============================] - 204s 543ms/step - loss: 0.0010 - MAPE: 163.6756 - val_loss: 0.0102 - val_MAPE: 12.2169\n",
      "Epoch 4/10\n",
      "376/376 [==============================] - 224s 595ms/step - loss: 9.3990e-04 - MAPE: 163.4554 - val_loss: 8.9312e-04 - val_MAPE: 3.0126\n",
      "Epoch 5/10\n",
      "376/376 [==============================] - 268s 712ms/step - loss: 0.0010 - MAPE: 178.3982 - val_loss: 7.9492e-04 - val_MAPE: 2.8495\n",
      "Epoch 6/10\n",
      "376/376 [==============================] - 227s 605ms/step - loss: 8.7513e-04 - MAPE: 160.9424 - val_loss: 0.0055 - val_MAPE: 9.0410\n",
      "Epoch 7/10\n",
      "376/376 [==============================] - 240s 637ms/step - loss: 8.5945e-04 - MAPE: 164.6934 - val_loss: 0.0034 - val_MAPE: 6.8401\n",
      "Epoch 8/10\n",
      "376/376 [==============================] - 192s 508ms/step - loss: 7.6246e-04 - MAPE: 148.6284 - val_loss: 0.0011 - val_MAPE: 3.2861\n",
      "Epoch 9/10\n",
      "376/376 [==============================] - 123s 327ms/step - loss: 7.5886e-04 - MAPE: 151.0105 - val_loss: 8.4488e-04 - val_MAPE: 3.0559\n",
      "Epoch 10/10\n",
      "376/376 [==============================] - 109s 291ms/step - loss: 8.3781e-04 - MAPE: 159.5693 - val_loss: 0.0100 - val_MAPE: 12.3370\n"
     ]
    }
   ],
   "source": [
    "# Using the training set to train the model\n",
    "history_BiLSTM2 = regressor2.fit(X_train, y_train, validation_data=(X_valid, y_valid), batch_size = batch_size, epochs = num_epochs)"
   ]
  },
  {
   "cell_type": "code",
   "execution_count": 40,
   "id": "102765fa",
   "metadata": {},
   "outputs": [
    {
     "name": "stdout",
     "output_type": "stream",
     "text": [
      "Model: \"sequential_2\"\n",
      "_________________________________________________________________\n",
      " Layer (type)                Output Shape              Param #   \n",
      "=================================================================\n",
      " bidirectional (Bidirectiona  (None, 256)              138240    \n",
      " l)                                                              \n",
      "                                                                 \n",
      " leaky_re_lu_1 (LeakyReLU)   (None, 256)               0         \n",
      "                                                                 \n",
      " batch_normalization_1 (Batc  (None, 256)              1024      \n",
      " hNormalization)                                                 \n",
      "                                                                 \n",
      " dropout_2 (Dropout)         (None, 256)               0         \n",
      "                                                                 \n",
      " dense_2 (Dense)             (None, 1)                 257       \n",
      "                                                                 \n",
      "=================================================================\n",
      "Total params: 139,521\n",
      "Trainable params: 139,009\n",
      "Non-trainable params: 512\n",
      "_________________________________________________________________\n"
     ]
    }
   ],
   "source": [
    "regressor2.summary()\n"
   ]
  },
  {
   "cell_type": "code",
   "execution_count": 41,
   "id": "bcc87c26",
   "metadata": {},
   "outputs": [
    {
     "data": {
      "image/png": "[encoded data removed]",
      "text/plain": [
       "<Figure size 432x288 with 1 Axes>"
      ]
     },
     "metadata": {
      "needs_background": "light"
     },
     "output_type": "display_data"
    }
   ],
   "source": [
    "loss_BiLSTM2 = history_BiLSTM2.history['loss']\n",
    "val_loss_BiLSTM2 = history_BiLSTM2.history['val_loss']\n",
    "\n",
    "epochs = range(len(loss_BiLSTM2))\n",
    "\n",
    "plt.figure()\n",
    "\n",
    "plt.plot(epochs, loss_BiLSTM2, 'b', label='Training loss')\n",
    "plt.plot(epochs, val_loss_BiLSTM2, 'r', label='Validation loss')\n",
    "plt.title(\"Bi-LSTM losses (BTC)\")\n",
    "plt.xlabel('Epochs')\n",
    "plt.ylabel('Loss')\n",
    "\n",
    "plt.legend()\n",
    "plt.show()"
   ]
  },
  {
   "cell_type": "code",
   "execution_count": 42,
   "id": "30db57c8",
   "metadata": {},
   "outputs": [
    {
     "data": {
      "image/png": "[encoded data removed]",
      "text/plain": [
       "<Figure size 432x288 with 1 Axes>"
      ]
     },
     "metadata": {
      "needs_background": "light"
     },
     "output_type": "display_data"
    }
   ],
   "source": [
    "mape = history_BiLSTM2.history['MAPE']\n",
    "val_mape = history_BiLSTM2.history['val_MAPE']\n",
    "\n",
    "epochs = range(len(mape))\n",
    "\n",
    "plt.figure()\n",
    "\n",
    "plt.plot(epochs, mape, 'b', label='Training MAPE')\n",
    "plt.plot(epochs, val_mape, 'r', label='Validation MAPE')\n",
    "plt.title(\"Bi-LSTM MAPE (BTC)\")\n",
    "plt.xlabel('Epochs')\n",
    "plt.ylabel('MAPE')\n",
    "plt.legend()\n",
    "\n",
    "plt.show()"
   ]
  },
  {
   "cell_type": "code",
   "execution_count": 43,
   "id": "91615606",
   "metadata": {},
   "outputs": [],
   "source": [
    "pred_BiLSTM2 = regressor2.predict(X_test)"
   ]
  },
  {
   "cell_type": "code",
   "execution_count": 44,
   "id": "92b0959a",
   "metadata": {},
   "outputs": [
    {
     "data": {
      "image/png": "[encoded data removed]",
      "text/plain": [
       "<Figure size 432x288 with 1 Axes>"
      ]
     },
     "metadata": {
      "needs_background": "light"
     },
     "output_type": "display_data"
    }
   ],
   "source": [
    "plt.plot(y_test, color = 'black', label = 'Real Price')\n",
    "plt.plot(pred_BiLSTM2, color = 'red', label = 'Predicted Price')\n",
    "plt.title('Close BTC Price Prediction - Bi-LSTM', fontsize=18)\n",
    "plt.xlabel('DateTime')\n",
    "plt.ylabel('Close Price')\n",
    "plt.legend(fontsize=18)\n",
    "plt.show()"
   ]
  },
  {
   "cell_type": "code",
   "execution_count": 45,
   "id": "1fab9ec2",
   "metadata": {},
   "outputs": [
    {
     "name": "stdout",
     "output_type": "stream",
     "text": [
      "185/185 [==============================] - 6s 34ms/step - loss: 0.0051 - MAPE: 11.5204\n",
      "\n",
      "The error of the model with 1 layer BiLSTM is: [0.005087385885417461, 11.520392417907715]\n"
     ]
    }
   ],
   "source": [
    "import math\n",
    "\n",
    "BiLSTM2_loss = regressor2.evaluate(X_test, y_test, verbose=1)\n",
    "print('\\nThe error of the model with 1 layer BiLSTM is:',BiLSTM2_loss)"
   ]
  },
  {
   "cell_type": "code",
   "execution_count": 46,
   "id": "1d6f1031",
   "metadata": {},
   "outputs": [
    {
     "name": "stdout",
     "output_type": "stream",
     "text": [
      "0.005087385470241495 0.7815895094720798\n"
     ]
    }
   ],
   "source": [
    "from sklearn.metrics import mean_squared_error\n",
    "MAE=mean_squared_error(pred_BiLSTM2, y_test)\n",
    "from sklearn.metrics import r2_score\n",
    "R2=r2_score(y_test, pred_BiLSTM2)\n",
    "print (MAE,R2)"
   ]
  },
  {
   "cell_type": "markdown",
   "id": "64e5b2c0",
   "metadata": {},
   "source": [
    "# ethereum"
   ]
  },
  {
   "cell_type": "code",
   "execution_count": 47,
   "id": "6d14af3e",
   "metadata": {},
   "outputs": [
    {
     "data": {
      "text/html": [
       "<div>\n",
       "<style scoped>\n",
       "    .dataframe tbody tr th:only-of-type {\n",
       "        vertical-align: middle;\n",
       "    }\n",
       "\n",
       "    .dataframe tbody tr th {\n",
       "        vertical-align: top;\n",
       "    }\n",
       "\n",
       "    .dataframe thead th {\n",
       "        text-align: right;\n",
       "    }\n",
       "</style>\n",
       "<table border=\"1\" class=\"dataframe\">\n",
       "  <thead>\n",
       "    <tr style=\"text-align: right;\">\n",
       "      <th></th>\n",
       "      <th>unix</th>\n",
       "      <th>symbol</th>\n",
       "      <th>open</th>\n",
       "      <th>high</th>\n",
       "      <th>low</th>\n",
       "      <th>close</th>\n",
       "      <th>Volume ETH</th>\n",
       "      <th>Volume USD</th>\n",
       "    </tr>\n",
       "    <tr>\n",
       "      <th>date</th>\n",
       "      <th></th>\n",
       "      <th></th>\n",
       "      <th></th>\n",
       "      <th></th>\n",
       "      <th></th>\n",
       "      <th></th>\n",
       "      <th></th>\n",
       "      <th></th>\n",
       "    </tr>\n",
       "  </thead>\n",
       "  <tbody>\n",
       "    <tr>\n",
       "      <th>2022-08-25 00:00:00</th>\n",
       "      <td>1661385600000</td>\n",
       "      <td>ETH/USD</td>\n",
       "      <td>1656.40</td>\n",
       "      <td>1672.51</td>\n",
       "      <td>1655.12</td>\n",
       "      <td>1669.66</td>\n",
       "      <td>400.576414</td>\n",
       "      <td>6.688264e+05</td>\n",
       "    </tr>\n",
       "    <tr>\n",
       "      <th>2022-08-24 23:00:00</th>\n",
       "      <td>1661382000000</td>\n",
       "      <td>ETH/USD</td>\n",
       "      <td>1661.01</td>\n",
       "      <td>1668.55</td>\n",
       "      <td>1651.59</td>\n",
       "      <td>1656.40</td>\n",
       "      <td>265.951014</td>\n",
       "      <td>4.405213e+05</td>\n",
       "    </tr>\n",
       "    <tr>\n",
       "      <th>2022-08-24 22:00:00</th>\n",
       "      <td>1661378400000</td>\n",
       "      <td>ETH/USD</td>\n",
       "      <td>1670.70</td>\n",
       "      <td>1677.74</td>\n",
       "      <td>1657.51</td>\n",
       "      <td>1661.01</td>\n",
       "      <td>898.363296</td>\n",
       "      <td>1.492190e+06</td>\n",
       "    </tr>\n",
       "    <tr>\n",
       "      <th>2022-08-24 21:00:00</th>\n",
       "      <td>1661374800000</td>\n",
       "      <td>ETH/USD</td>\n",
       "      <td>1684.93</td>\n",
       "      <td>1685.92</td>\n",
       "      <td>1669.94</td>\n",
       "      <td>1670.70</td>\n",
       "      <td>775.933763</td>\n",
       "      <td>1.296353e+06</td>\n",
       "    </tr>\n",
       "    <tr>\n",
       "      <th>2022-08-24 20:00:00</th>\n",
       "      <td>1661371200000</td>\n",
       "      <td>ETH/USD</td>\n",
       "      <td>1678.45</td>\n",
       "      <td>1686.46</td>\n",
       "      <td>1678.45</td>\n",
       "      <td>1684.93</td>\n",
       "      <td>127.979835</td>\n",
       "      <td>2.156371e+05</td>\n",
       "    </tr>\n",
       "  </tbody>\n",
       "</table>\n",
       "</div>"
      ],
      "text/plain": [
       "                              unix   symbol     open     high      low  \\\n",
       "date                                                                     \n",
       "2022-08-25 00:00:00  1661385600000  ETH/USD  1656.40  1672.51  1655.12   \n",
       "2022-08-24 23:00:00  1661382000000  ETH/USD  1661.01  1668.55  1651.59   \n",
       "2022-08-24 22:00:00  1661378400000  ETH/USD  1670.70  1677.74  1657.51   \n",
       "2022-08-24 21:00:00  1661374800000  ETH/USD  1684.93  1685.92  1669.94   \n",
       "2022-08-24 20:00:00  1661371200000  ETH/USD  1678.45  1686.46  1678.45   \n",
       "\n",
       "                       close  Volume ETH    Volume USD  \n",
       "date                                                    \n",
       "2022-08-25 00:00:00  1669.66  400.576414  6.688264e+05  \n",
       "2022-08-24 23:00:00  1656.40  265.951014  4.405213e+05  \n",
       "2022-08-24 22:00:00  1661.01  898.363296  1.492190e+06  \n",
       "2022-08-24 21:00:00  1670.70  775.933763  1.296353e+06  \n",
       "2022-08-24 20:00:00  1684.93  127.979835  2.156371e+05  "
      ]
     },
     "execution_count": 47,
     "metadata": {},
     "output_type": "execute_result"
    }
   ],
   "source": [
    "url = 'https://www.cryptodatadownload.com/cdd/Gemini_ETHUSD_1h.csv'\n",
    "dataset = pd.read_csv(url, index_col=\"date\", skiprows=1)\n",
    "#dataset = pd.read_csv('Gemini_ETHUSD_1h.csv', index_col=\"date\", skiprows=1)\n",
    "dataset.head()"
   ]
  },
  {
   "cell_type": "code",
   "execution_count": 48,
   "id": "b3d0764a",
   "metadata": {},
   "outputs": [
    {
     "data": {
      "text/html": [
       "<div>\n",
       "<style scoped>\n",
       "    .dataframe tbody tr th:only-of-type {\n",
       "        vertical-align: middle;\n",
       "    }\n",
       "\n",
       "    .dataframe tbody tr th {\n",
       "        vertical-align: top;\n",
       "    }\n",
       "\n",
       "    .dataframe thead th {\n",
       "        text-align: right;\n",
       "    }\n",
       "</style>\n",
       "<table border=\"1\" class=\"dataframe\">\n",
       "  <thead>\n",
       "    <tr style=\"text-align: right;\">\n",
       "      <th></th>\n",
       "      <th>unix</th>\n",
       "      <th>symbol</th>\n",
       "      <th>open</th>\n",
       "      <th>high</th>\n",
       "      <th>low</th>\n",
       "      <th>close</th>\n",
       "      <th>Volume ETH</th>\n",
       "      <th>Volume USD</th>\n",
       "    </tr>\n",
       "    <tr>\n",
       "      <th>date</th>\n",
       "      <th></th>\n",
       "      <th></th>\n",
       "      <th></th>\n",
       "      <th></th>\n",
       "      <th></th>\n",
       "      <th></th>\n",
       "      <th></th>\n",
       "      <th></th>\n",
       "    </tr>\n",
       "  </thead>\n",
       "  <tbody>\n",
       "    <tr>\n",
       "      <th>2016-05-09 13:00:00</th>\n",
       "      <td>1462798800</td>\n",
       "      <td>ETH/USD</td>\n",
       "      <td>0.00</td>\n",
       "      <td>12.00</td>\n",
       "      <td>0.00</td>\n",
       "      <td>9.55</td>\n",
       "      <td>432.562115</td>\n",
       "      <td>4130.968200</td>\n",
       "    </tr>\n",
       "    <tr>\n",
       "      <th>2016-05-09 14:00:00</th>\n",
       "      <td>1462802400</td>\n",
       "      <td>ETH/USD</td>\n",
       "      <td>9.55</td>\n",
       "      <td>10.00</td>\n",
       "      <td>9.55</td>\n",
       "      <td>10.00</td>\n",
       "      <td>235.774075</td>\n",
       "      <td>2357.740748</td>\n",
       "    </tr>\n",
       "    <tr>\n",
       "      <th>2016-05-09 15:00:00</th>\n",
       "      <td>1462806000</td>\n",
       "      <td>ETH/USD</td>\n",
       "      <td>10.00</td>\n",
       "      <td>10.00</td>\n",
       "      <td>9.99</td>\n",
       "      <td>9.99</td>\n",
       "      <td>10.973567</td>\n",
       "      <td>109.625935</td>\n",
       "    </tr>\n",
       "    <tr>\n",
       "      <th>2016-05-09 16:00:00</th>\n",
       "      <td>1462809600</td>\n",
       "      <td>ETH/USD</td>\n",
       "      <td>9.99</td>\n",
       "      <td>9.99</td>\n",
       "      <td>9.79</td>\n",
       "      <td>9.83</td>\n",
       "      <td>62.379450</td>\n",
       "      <td>613.189994</td>\n",
       "    </tr>\n",
       "    <tr>\n",
       "      <th>2016-05-09 17:00:00</th>\n",
       "      <td>1462813200</td>\n",
       "      <td>ETH/USD</td>\n",
       "      <td>9.83</td>\n",
       "      <td>9.83</td>\n",
       "      <td>9.48</td>\n",
       "      <td>9.49</td>\n",
       "      <td>329.553213</td>\n",
       "      <td>3127.459991</td>\n",
       "    </tr>\n",
       "  </tbody>\n",
       "</table>\n",
       "</div>"
      ],
      "text/plain": [
       "                           unix   symbol   open   high   low  close  \\\n",
       "date                                                                  \n",
       "2016-05-09 13:00:00  1462798800  ETH/USD   0.00  12.00  0.00   9.55   \n",
       "2016-05-09 14:00:00  1462802400  ETH/USD   9.55  10.00  9.55  10.00   \n",
       "2016-05-09 15:00:00  1462806000  ETH/USD  10.00  10.00  9.99   9.99   \n",
       "2016-05-09 16:00:00  1462809600  ETH/USD   9.99   9.99  9.79   9.83   \n",
       "2016-05-09 17:00:00  1462813200  ETH/USD   9.83   9.83  9.48   9.49   \n",
       "\n",
       "                     Volume ETH   Volume USD  \n",
       "date                                          \n",
       "2016-05-09 13:00:00  432.562115  4130.968200  \n",
       "2016-05-09 14:00:00  235.774075  2357.740748  \n",
       "2016-05-09 15:00:00   10.973567   109.625935  \n",
       "2016-05-09 16:00:00   62.379450   613.189994  \n",
       "2016-05-09 17:00:00  329.553213  3127.459991  "
      ]
     },
     "execution_count": 48,
     "metadata": {},
     "output_type": "execute_result"
    }
   ],
   "source": [
    "dataset = dataset.iloc[::-1]\n",
    "\n",
    "dataset.head()\n",
    "\n"
   ]
  },
  {
   "cell_type": "code",
   "execution_count": 49,
   "id": "aac54364",
   "metadata": {},
   "outputs": [
    {
     "data": {
      "text/html": [
       "<div>\n",
       "<style scoped>\n",
       "    .dataframe tbody tr th:only-of-type {\n",
       "        vertical-align: middle;\n",
       "    }\n",
       "\n",
       "    .dataframe tbody tr th {\n",
       "        vertical-align: top;\n",
       "    }\n",
       "\n",
       "    .dataframe thead th {\n",
       "        text-align: right;\n",
       "    }\n",
       "</style>\n",
       "<table border=\"1\" class=\"dataframe\">\n",
       "  <thead>\n",
       "    <tr style=\"text-align: right;\">\n",
       "      <th></th>\n",
       "      <th>date</th>\n",
       "      <th>unix</th>\n",
       "      <th>symbol</th>\n",
       "      <th>open</th>\n",
       "      <th>high</th>\n",
       "      <th>low</th>\n",
       "      <th>close</th>\n",
       "      <th>Volume ETH</th>\n",
       "      <th>Volume USD</th>\n",
       "    </tr>\n",
       "  </thead>\n",
       "  <tbody>\n",
       "    <tr>\n",
       "      <th>0</th>\n",
       "      <td>2016-05-09 13:00:00</td>\n",
       "      <td>1462798800</td>\n",
       "      <td>ETH/USD</td>\n",
       "      <td>0.00</td>\n",
       "      <td>12.00</td>\n",
       "      <td>0.00</td>\n",
       "      <td>9.55</td>\n",
       "      <td>432.562115</td>\n",
       "      <td>4.130968e+03</td>\n",
       "    </tr>\n",
       "    <tr>\n",
       "      <th>1</th>\n",
       "      <td>2016-05-09 14:00:00</td>\n",
       "      <td>1462802400</td>\n",
       "      <td>ETH/USD</td>\n",
       "      <td>9.55</td>\n",
       "      <td>10.00</td>\n",
       "      <td>9.55</td>\n",
       "      <td>10.00</td>\n",
       "      <td>235.774075</td>\n",
       "      <td>2.357741e+03</td>\n",
       "    </tr>\n",
       "    <tr>\n",
       "      <th>2</th>\n",
       "      <td>2016-05-09 15:00:00</td>\n",
       "      <td>1462806000</td>\n",
       "      <td>ETH/USD</td>\n",
       "      <td>10.00</td>\n",
       "      <td>10.00</td>\n",
       "      <td>9.99</td>\n",
       "      <td>9.99</td>\n",
       "      <td>10.973567</td>\n",
       "      <td>1.096259e+02</td>\n",
       "    </tr>\n",
       "    <tr>\n",
       "      <th>3</th>\n",
       "      <td>2016-05-09 16:00:00</td>\n",
       "      <td>1462809600</td>\n",
       "      <td>ETH/USD</td>\n",
       "      <td>9.99</td>\n",
       "      <td>9.99</td>\n",
       "      <td>9.79</td>\n",
       "      <td>9.83</td>\n",
       "      <td>62.379450</td>\n",
       "      <td>6.131900e+02</td>\n",
       "    </tr>\n",
       "    <tr>\n",
       "      <th>4</th>\n",
       "      <td>2016-05-09 17:00:00</td>\n",
       "      <td>1462813200</td>\n",
       "      <td>ETH/USD</td>\n",
       "      <td>9.83</td>\n",
       "      <td>9.83</td>\n",
       "      <td>9.48</td>\n",
       "      <td>9.49</td>\n",
       "      <td>329.553213</td>\n",
       "      <td>3.127460e+03</td>\n",
       "    </tr>\n",
       "    <tr>\n",
       "      <th>...</th>\n",
       "      <td>...</td>\n",
       "      <td>...</td>\n",
       "      <td>...</td>\n",
       "      <td>...</td>\n",
       "      <td>...</td>\n",
       "      <td>...</td>\n",
       "      <td>...</td>\n",
       "      <td>...</td>\n",
       "      <td>...</td>\n",
       "    </tr>\n",
       "    <tr>\n",
       "      <th>55156</th>\n",
       "      <td>2022-08-24 20:00:00</td>\n",
       "      <td>1661371200000</td>\n",
       "      <td>ETH/USD</td>\n",
       "      <td>1678.45</td>\n",
       "      <td>1686.46</td>\n",
       "      <td>1678.45</td>\n",
       "      <td>1684.93</td>\n",
       "      <td>127.979835</td>\n",
       "      <td>2.156371e+05</td>\n",
       "    </tr>\n",
       "    <tr>\n",
       "      <th>55157</th>\n",
       "      <td>2022-08-24 21:00:00</td>\n",
       "      <td>1661374800000</td>\n",
       "      <td>ETH/USD</td>\n",
       "      <td>1684.93</td>\n",
       "      <td>1685.92</td>\n",
       "      <td>1669.94</td>\n",
       "      <td>1670.70</td>\n",
       "      <td>775.933763</td>\n",
       "      <td>1.296353e+06</td>\n",
       "    </tr>\n",
       "    <tr>\n",
       "      <th>55158</th>\n",
       "      <td>2022-08-24 22:00:00</td>\n",
       "      <td>1661378400000</td>\n",
       "      <td>ETH/USD</td>\n",
       "      <td>1670.70</td>\n",
       "      <td>1677.74</td>\n",
       "      <td>1657.51</td>\n",
       "      <td>1661.01</td>\n",
       "      <td>898.363296</td>\n",
       "      <td>1.492190e+06</td>\n",
       "    </tr>\n",
       "    <tr>\n",
       "      <th>55159</th>\n",
       "      <td>2022-08-24 23:00:00</td>\n",
       "      <td>1661382000000</td>\n",
       "      <td>ETH/USD</td>\n",
       "      <td>1661.01</td>\n",
       "      <td>1668.55</td>\n",
       "      <td>1651.59</td>\n",
       "      <td>1656.40</td>\n",
       "      <td>265.951014</td>\n",
       "      <td>4.405213e+05</td>\n",
       "    </tr>\n",
       "    <tr>\n",
       "      <th>55160</th>\n",
       "      <td>2022-08-25 00:00:00</td>\n",
       "      <td>1661385600000</td>\n",
       "      <td>ETH/USD</td>\n",
       "      <td>1656.40</td>\n",
       "      <td>1672.51</td>\n",
       "      <td>1655.12</td>\n",
       "      <td>1669.66</td>\n",
       "      <td>400.576414</td>\n",
       "      <td>6.688264e+05</td>\n",
       "    </tr>\n",
       "  </tbody>\n",
       "</table>\n",
       "<p>55161 rows × 9 columns</p>\n",
       "</div>"
      ],
      "text/plain": [
       "                      date           unix   symbol     open     high      low  \\\n",
       "0      2016-05-09 13:00:00     1462798800  ETH/USD     0.00    12.00     0.00   \n",
       "1      2016-05-09 14:00:00     1462802400  ETH/USD     9.55    10.00     9.55   \n",
       "2      2016-05-09 15:00:00     1462806000  ETH/USD    10.00    10.00     9.99   \n",
       "3      2016-05-09 16:00:00     1462809600  ETH/USD     9.99     9.99     9.79   \n",
       "4      2016-05-09 17:00:00     1462813200  ETH/USD     9.83     9.83     9.48   \n",
       "...                    ...            ...      ...      ...      ...      ...   \n",
       "55156  2022-08-24 20:00:00  1661371200000  ETH/USD  1678.45  1686.46  1678.45   \n",
       "55157  2022-08-24 21:00:00  1661374800000  ETH/USD  1684.93  1685.92  1669.94   \n",
       "55158  2022-08-24 22:00:00  1661378400000  ETH/USD  1670.70  1677.74  1657.51   \n",
       "55159  2022-08-24 23:00:00  1661382000000  ETH/USD  1661.01  1668.55  1651.59   \n",
       "55160  2022-08-25 00:00:00  1661385600000  ETH/USD  1656.40  1672.51  1655.12   \n",
       "\n",
       "         close  Volume ETH    Volume USD  \n",
       "0         9.55  432.562115  4.130968e+03  \n",
       "1        10.00  235.774075  2.357741e+03  \n",
       "2         9.99   10.973567  1.096259e+02  \n",
       "3         9.83   62.379450  6.131900e+02  \n",
       "4         9.49  329.553213  3.127460e+03  \n",
       "...        ...         ...           ...  \n",
       "55156  1684.93  127.979835  2.156371e+05  \n",
       "55157  1670.70  775.933763  1.296353e+06  \n",
       "55158  1661.01  898.363296  1.492190e+06  \n",
       "55159  1656.40  265.951014  4.405213e+05  \n",
       "55160  1669.66  400.576414  6.688264e+05  \n",
       "\n",
       "[55161 rows x 9 columns]"
      ]
     },
     "execution_count": 49,
     "metadata": {},
     "output_type": "execute_result"
    }
   ],
   "source": [
    "df = dataset.reset_index()\n",
    "df"
   ]
  },
  {
   "cell_type": "code",
   "execution_count": 50,
   "id": "5014fdea",
   "metadata": {},
   "outputs": [
    {
     "ename": "KeyboardInterrupt",
     "evalue": "",
     "output_type": "error",
     "traceback": [
      "\u001b[1;31m---------------------------------------------------------------------------\u001b[0m",
      "\u001b[1;31mKeyboardInterrupt\u001b[0m                         Traceback (most recent call last)",
      "Input \u001b[1;32mIn [50]\u001b[0m, in \u001b[0;36m<cell line: 2>\u001b[1;34m()\u001b[0m\n\u001b[0;32m      1\u001b[0m plt\u001b[38;5;241m.\u001b[39mfigure(figsize\u001b[38;5;241m=\u001b[39m(\u001b[38;5;241m12\u001b[39m,\u001b[38;5;241m6\u001b[39m))\n\u001b[1;32m----> 2\u001b[0m \u001b[43msns\u001b[49m\u001b[38;5;241;43m.\u001b[39;49m\u001b[43mlineplot\u001b[49m\u001b[43m(\u001b[49m\u001b[43mx\u001b[49m\u001b[38;5;241;43m=\u001b[39;49m\u001b[38;5;124;43m'\u001b[39;49m\u001b[38;5;124;43mdate\u001b[39;49m\u001b[38;5;124;43m'\u001b[39;49m\u001b[43m,\u001b[49m\u001b[43m \u001b[49m\u001b[43my\u001b[49m\u001b[38;5;241;43m=\u001b[39;49m\u001b[38;5;124;43m'\u001b[39;49m\u001b[38;5;124;43mclose\u001b[39;49m\u001b[38;5;124;43m'\u001b[39;49m\u001b[43m,\u001b[49m\u001b[43m \u001b[49m\u001b[43mdata\u001b[49m\u001b[38;5;241;43m=\u001b[39;49m\u001b[43mdf\u001b[49m\u001b[43m)\u001b[49m\u001b[38;5;241m.\u001b[39mset_title(\u001b[38;5;124m\"\u001b[39m\u001b[38;5;124mPrice of Ethereum\u001b[39m\u001b[38;5;124m\"\u001b[39m)\n\u001b[0;32m      3\u001b[0m df\n",
      "File \u001b[1;32mC:\\Anaconda\\envs\\new\\lib\\site-packages\\seaborn\\_decorators.py:46\u001b[0m, in \u001b[0;36m_deprecate_positional_args.<locals>.inner_f\u001b[1;34m(*args, **kwargs)\u001b[0m\n\u001b[0;32m     36\u001b[0m     warnings\u001b[38;5;241m.\u001b[39mwarn(\n\u001b[0;32m     37\u001b[0m         \u001b[38;5;124m\"\u001b[39m\u001b[38;5;124mPass the following variable\u001b[39m\u001b[38;5;132;01m{}\u001b[39;00m\u001b[38;5;124m as \u001b[39m\u001b[38;5;132;01m{}\u001b[39;00m\u001b[38;5;124mkeyword arg\u001b[39m\u001b[38;5;132;01m{}\u001b[39;00m\u001b[38;5;124m: \u001b[39m\u001b[38;5;132;01m{}\u001b[39;00m\u001b[38;5;124m. \u001b[39m\u001b[38;5;124m\"\u001b[39m\n\u001b[0;32m     38\u001b[0m         \u001b[38;5;124m\"\u001b[39m\u001b[38;5;124mFrom version 0.12, the only valid positional argument \u001b[39m\u001b[38;5;124m\"\u001b[39m\n\u001b[1;32m   (...)\u001b[0m\n\u001b[0;32m     43\u001b[0m         \u001b[38;5;167;01mFutureWarning\u001b[39;00m\n\u001b[0;32m     44\u001b[0m     )\n\u001b[0;32m     45\u001b[0m kwargs\u001b[38;5;241m.\u001b[39mupdate({k: arg \u001b[38;5;28;01mfor\u001b[39;00m k, arg \u001b[38;5;129;01min\u001b[39;00m \u001b[38;5;28mzip\u001b[39m(sig\u001b[38;5;241m.\u001b[39mparameters, args)})\n\u001b[1;32m---> 46\u001b[0m \u001b[38;5;28;01mreturn\u001b[39;00m f(\u001b[38;5;241m*\u001b[39m\u001b[38;5;241m*\u001b[39mkwargs)\n",
      "File \u001b[1;32mC:\\Anaconda\\envs\\new\\lib\\site-packages\\seaborn\\relational.py:710\u001b[0m, in \u001b[0;36mlineplot\u001b[1;34m(x, y, hue, size, style, data, palette, hue_order, hue_norm, sizes, size_order, size_norm, dashes, markers, style_order, units, estimator, ci, n_boot, seed, sort, err_style, err_kws, legend, ax, **kwargs)\u001b[0m\n\u001b[0;32m    706\u001b[0m     \u001b[38;5;28;01mreturn\u001b[39;00m ax\n\u001b[0;32m    708\u001b[0m p\u001b[38;5;241m.\u001b[39m_attach(ax)\n\u001b[1;32m--> 710\u001b[0m \u001b[43mp\u001b[49m\u001b[38;5;241;43m.\u001b[39;49m\u001b[43mplot\u001b[49m\u001b[43m(\u001b[49m\u001b[43max\u001b[49m\u001b[43m,\u001b[49m\u001b[43m \u001b[49m\u001b[43mkwargs\u001b[49m\u001b[43m)\u001b[49m\n\u001b[0;32m    711\u001b[0m \u001b[38;5;28;01mreturn\u001b[39;00m ax\n",
      "File \u001b[1;32mC:\\Anaconda\\envs\\new\\lib\\site-packages\\seaborn\\relational.py:557\u001b[0m, in \u001b[0;36m_LinePlotter.plot\u001b[1;34m(self, ax, kws)\u001b[0m\n\u001b[0;32m    554\u001b[0m                     \u001b[38;5;28;01mpass\u001b[39;00m\n\u001b[0;32m    556\u001b[0m \u001b[38;5;66;03m# Finalize the axes details\u001b[39;00m\n\u001b[1;32m--> 557\u001b[0m \u001b[38;5;28;43mself\u001b[39;49m\u001b[38;5;241;43m.\u001b[39;49m\u001b[43m_add_axis_labels\u001b[49m\u001b[43m(\u001b[49m\u001b[43max\u001b[49m\u001b[43m)\u001b[49m\n\u001b[0;32m    558\u001b[0m \u001b[38;5;28;01mif\u001b[39;00m \u001b[38;5;28mself\u001b[39m\u001b[38;5;241m.\u001b[39mlegend:\n\u001b[0;32m    559\u001b[0m     \u001b[38;5;28mself\u001b[39m\u001b[38;5;241m.\u001b[39madd_legend_data(ax)\n",
      "File \u001b[1;32mC:\\Anaconda\\envs\\new\\lib\\site-packages\\seaborn\\_core.py:1194\u001b[0m, in \u001b[0;36mVectorPlotter._add_axis_labels\u001b[1;34m(self, ax, default_x, default_y)\u001b[0m\n\u001b[0;32m   1189\u001b[0m \u001b[38;5;66;03m# TODO ax could default to None and use attached axes if present\u001b[39;00m\n\u001b[0;32m   1190\u001b[0m \u001b[38;5;66;03m# but what to do about the case of facets? Currently using FacetGrid's\u001b[39;00m\n\u001b[0;32m   1191\u001b[0m \u001b[38;5;66;03m# set_axis_labels method, which doesn't add labels to the interior even\u001b[39;00m\n\u001b[0;32m   1192\u001b[0m \u001b[38;5;66;03m# when the axes are not shared. Maybe that makes sense?\u001b[39;00m\n\u001b[0;32m   1193\u001b[0m \u001b[38;5;28;01mif\u001b[39;00m \u001b[38;5;129;01mnot\u001b[39;00m ax\u001b[38;5;241m.\u001b[39mget_xlabel():\n\u001b[1;32m-> 1194\u001b[0m     x_visible \u001b[38;5;241m=\u001b[39m \u001b[38;5;28many\u001b[39m(t\u001b[38;5;241m.\u001b[39mget_visible() \u001b[38;5;28;01mfor\u001b[39;00m t \u001b[38;5;129;01min\u001b[39;00m \u001b[43max\u001b[49m\u001b[38;5;241;43m.\u001b[39;49m\u001b[43mget_xticklabels\u001b[49m\u001b[43m(\u001b[49m\u001b[43m)\u001b[49m)\n\u001b[0;32m   1195\u001b[0m     ax\u001b[38;5;241m.\u001b[39mset_xlabel(\u001b[38;5;28mself\u001b[39m\u001b[38;5;241m.\u001b[39mvariables\u001b[38;5;241m.\u001b[39mget(\u001b[38;5;124m\"\u001b[39m\u001b[38;5;124mx\u001b[39m\u001b[38;5;124m\"\u001b[39m, default_x), visible\u001b[38;5;241m=\u001b[39mx_visible)\n\u001b[0;32m   1196\u001b[0m \u001b[38;5;28;01mif\u001b[39;00m \u001b[38;5;129;01mnot\u001b[39;00m ax\u001b[38;5;241m.\u001b[39mget_ylabel():\n",
      "File \u001b[1;32mC:\\Anaconda\\envs\\new\\lib\\site-packages\\matplotlib\\axes\\_base.py:75\u001b[0m, in \u001b[0;36m_axis_method_wrapper.__set_name__.<locals>.wrapper\u001b[1;34m(self, *args, **kwargs)\u001b[0m\n\u001b[0;32m     74\u001b[0m \u001b[38;5;28;01mdef\u001b[39;00m \u001b[38;5;21mwrapper\u001b[39m(\u001b[38;5;28mself\u001b[39m, \u001b[38;5;241m*\u001b[39margs, \u001b[38;5;241m*\u001b[39m\u001b[38;5;241m*\u001b[39mkwargs):\n\u001b[1;32m---> 75\u001b[0m     \u001b[38;5;28;01mreturn\u001b[39;00m get_method(\u001b[38;5;28mself\u001b[39m)(\u001b[38;5;241m*\u001b[39margs, \u001b[38;5;241m*\u001b[39m\u001b[38;5;241m*\u001b[39mkwargs)\n",
      "File \u001b[1;32mC:\\Anaconda\\envs\\new\\lib\\site-packages\\matplotlib\\axis.py:1249\u001b[0m, in \u001b[0;36mAxis.get_ticklabels\u001b[1;34m(self, minor, which)\u001b[0m\n\u001b[0;32m   1247\u001b[0m \u001b[38;5;28;01mif\u001b[39;00m minor:\n\u001b[0;32m   1248\u001b[0m     \u001b[38;5;28;01mreturn\u001b[39;00m \u001b[38;5;28mself\u001b[39m\u001b[38;5;241m.\u001b[39mget_minorticklabels()\n\u001b[1;32m-> 1249\u001b[0m \u001b[38;5;28;01mreturn\u001b[39;00m \u001b[38;5;28;43mself\u001b[39;49m\u001b[38;5;241;43m.\u001b[39;49m\u001b[43mget_majorticklabels\u001b[49m\u001b[43m(\u001b[49m\u001b[43m)\u001b[49m\n",
      "File \u001b[1;32mC:\\Anaconda\\envs\\new\\lib\\site-packages\\matplotlib\\axis.py:1201\u001b[0m, in \u001b[0;36mAxis.get_majorticklabels\u001b[1;34m(self)\u001b[0m\n\u001b[0;32m   1199\u001b[0m \u001b[38;5;28;01mdef\u001b[39;00m \u001b[38;5;21mget_majorticklabels\u001b[39m(\u001b[38;5;28mself\u001b[39m):\n\u001b[0;32m   1200\u001b[0m     \u001b[38;5;124;03m\"\"\"Return this Axis' major tick labels, as a list of `~.text.Text`.\"\"\"\u001b[39;00m\n\u001b[1;32m-> 1201\u001b[0m     ticks \u001b[38;5;241m=\u001b[39m \u001b[38;5;28;43mself\u001b[39;49m\u001b[38;5;241;43m.\u001b[39;49m\u001b[43mget_major_ticks\u001b[49m\u001b[43m(\u001b[49m\u001b[43m)\u001b[49m\n\u001b[0;32m   1202\u001b[0m     labels1 \u001b[38;5;241m=\u001b[39m [tick\u001b[38;5;241m.\u001b[39mlabel1 \u001b[38;5;28;01mfor\u001b[39;00m tick \u001b[38;5;129;01min\u001b[39;00m ticks \u001b[38;5;28;01mif\u001b[39;00m tick\u001b[38;5;241m.\u001b[39mlabel1\u001b[38;5;241m.\u001b[39mget_visible()]\n\u001b[0;32m   1203\u001b[0m     labels2 \u001b[38;5;241m=\u001b[39m [tick\u001b[38;5;241m.\u001b[39mlabel2 \u001b[38;5;28;01mfor\u001b[39;00m tick \u001b[38;5;129;01min\u001b[39;00m ticks \u001b[38;5;28;01mif\u001b[39;00m tick\u001b[38;5;241m.\u001b[39mlabel2\u001b[38;5;241m.\u001b[39mget_visible()]\n",
      "File \u001b[1;32mC:\\Anaconda\\envs\\new\\lib\\site-packages\\matplotlib\\axis.py:1375\u001b[0m, in \u001b[0;36mAxis.get_major_ticks\u001b[1;34m(self, numticks)\u001b[0m\n\u001b[0;32m   1371\u001b[0m     numticks \u001b[38;5;241m=\u001b[39m \u001b[38;5;28mlen\u001b[39m(\u001b[38;5;28mself\u001b[39m\u001b[38;5;241m.\u001b[39mget_majorticklocs())\n\u001b[0;32m   1373\u001b[0m \u001b[38;5;28;01mwhile\u001b[39;00m \u001b[38;5;28mlen\u001b[39m(\u001b[38;5;28mself\u001b[39m\u001b[38;5;241m.\u001b[39mmajorTicks) \u001b[38;5;241m<\u001b[39m numticks:\n\u001b[0;32m   1374\u001b[0m     \u001b[38;5;66;03m# Update the new tick label properties from the old.\u001b[39;00m\n\u001b[1;32m-> 1375\u001b[0m     tick \u001b[38;5;241m=\u001b[39m \u001b[38;5;28;43mself\u001b[39;49m\u001b[38;5;241;43m.\u001b[39;49m\u001b[43m_get_tick\u001b[49m\u001b[43m(\u001b[49m\u001b[43mmajor\u001b[49m\u001b[38;5;241;43m=\u001b[39;49m\u001b[38;5;28;43;01mTrue\u001b[39;49;00m\u001b[43m)\u001b[49m\n\u001b[0;32m   1376\u001b[0m     \u001b[38;5;28mself\u001b[39m\u001b[38;5;241m.\u001b[39mmajorTicks\u001b[38;5;241m.\u001b[39mappend(tick)\n\u001b[0;32m   1377\u001b[0m     \u001b[38;5;28mself\u001b[39m\u001b[38;5;241m.\u001b[39m_copy_tick_props(\u001b[38;5;28mself\u001b[39m\u001b[38;5;241m.\u001b[39mmajorTicks[\u001b[38;5;241m0\u001b[39m], tick)\n",
      "File \u001b[1;32mC:\\Anaconda\\envs\\new\\lib\\site-packages\\matplotlib\\axis.py:2057\u001b[0m, in \u001b[0;36mXAxis._get_tick\u001b[1;34m(self, major)\u001b[0m\n\u001b[0;32m   2055\u001b[0m \u001b[38;5;28;01melse\u001b[39;00m:\n\u001b[0;32m   2056\u001b[0m     tick_kw \u001b[38;5;241m=\u001b[39m \u001b[38;5;28mself\u001b[39m\u001b[38;5;241m.\u001b[39m_minor_tick_kw\n\u001b[1;32m-> 2057\u001b[0m \u001b[38;5;28;01mreturn\u001b[39;00m XTick(\u001b[38;5;28mself\u001b[39m\u001b[38;5;241m.\u001b[39maxes, \u001b[38;5;241m0\u001b[39m, major\u001b[38;5;241m=\u001b[39mmajor, \u001b[38;5;241m*\u001b[39m\u001b[38;5;241m*\u001b[39mtick_kw)\n",
      "File \u001b[1;32mC:\\Anaconda\\envs\\new\\lib\\site-packages\\matplotlib\\axis.py:415\u001b[0m, in \u001b[0;36mXTick.__init__\u001b[1;34m(self, *args, **kwargs)\u001b[0m\n\u001b[0;32m    414\u001b[0m \u001b[38;5;28;01mdef\u001b[39;00m \u001b[38;5;21m__init__\u001b[39m(\u001b[38;5;28mself\u001b[39m, \u001b[38;5;241m*\u001b[39margs, \u001b[38;5;241m*\u001b[39m\u001b[38;5;241m*\u001b[39mkwargs):\n\u001b[1;32m--> 415\u001b[0m     \u001b[38;5;28msuper\u001b[39m()\u001b[38;5;241m.\u001b[39m\u001b[38;5;21m__init__\u001b[39m(\u001b[38;5;241m*\u001b[39margs, \u001b[38;5;241m*\u001b[39m\u001b[38;5;241m*\u001b[39mkwargs)\n\u001b[0;32m    416\u001b[0m     \u001b[38;5;66;03m# x in data coords, y in axes coords\u001b[39;00m\n\u001b[0;32m    417\u001b[0m     ax \u001b[38;5;241m=\u001b[39m \u001b[38;5;28mself\u001b[39m\u001b[38;5;241m.\u001b[39maxes\n",
      "File \u001b[1;32mC:\\Anaconda\\envs\\new\\lib\\site-packages\\matplotlib\\axis.py:166\u001b[0m, in \u001b[0;36mTick.__init__\u001b[1;34m(self, axes, loc, size, width, color, tickdir, pad, labelsize, labelcolor, zorder, gridOn, tick1On, tick2On, label1On, label2On, major, labelrotation, grid_color, grid_linestyle, grid_linewidth, grid_alpha, **kw)\u001b[0m\n\u001b[0;32m    155\u001b[0m \u001b[38;5;28mself\u001b[39m\u001b[38;5;241m.\u001b[39mtick2line \u001b[38;5;241m=\u001b[39m mlines\u001b[38;5;241m.\u001b[39mLine2D(\n\u001b[0;32m    156\u001b[0m     [], [],\n\u001b[0;32m    157\u001b[0m     color\u001b[38;5;241m=\u001b[39mcolor, linestyle\u001b[38;5;241m=\u001b[39m\u001b[38;5;124m\"\u001b[39m\u001b[38;5;124mnone\u001b[39m\u001b[38;5;124m\"\u001b[39m, zorder\u001b[38;5;241m=\u001b[39mzorder, visible\u001b[38;5;241m=\u001b[39mtick2On,\n\u001b[0;32m    158\u001b[0m     markeredgecolor\u001b[38;5;241m=\u001b[39mcolor, markersize\u001b[38;5;241m=\u001b[39msize, markeredgewidth\u001b[38;5;241m=\u001b[39mwidth,\n\u001b[0;32m    159\u001b[0m )\n\u001b[0;32m    160\u001b[0m \u001b[38;5;28mself\u001b[39m\u001b[38;5;241m.\u001b[39mgridline \u001b[38;5;241m=\u001b[39m mlines\u001b[38;5;241m.\u001b[39mLine2D(\n\u001b[0;32m    161\u001b[0m     [], [],\n\u001b[0;32m    162\u001b[0m     color\u001b[38;5;241m=\u001b[39mgrid_color, alpha\u001b[38;5;241m=\u001b[39mgrid_alpha, visible\u001b[38;5;241m=\u001b[39mgridOn,\n\u001b[0;32m    163\u001b[0m     linestyle\u001b[38;5;241m=\u001b[39mgrid_linestyle, linewidth\u001b[38;5;241m=\u001b[39mgrid_linewidth, marker\u001b[38;5;241m=\u001b[39m\u001b[38;5;124m\"\u001b[39m\u001b[38;5;124m\"\u001b[39m,\n\u001b[0;32m    164\u001b[0m     \u001b[38;5;241m*\u001b[39m\u001b[38;5;241m*\u001b[39mgrid_kw,\n\u001b[0;32m    165\u001b[0m )\n\u001b[1;32m--> 166\u001b[0m \u001b[38;5;28;43mself\u001b[39;49m\u001b[38;5;241;43m.\u001b[39;49m\u001b[43mgridline\u001b[49m\u001b[38;5;241;43m.\u001b[39;49m\u001b[43mget_path\u001b[49m\u001b[43m(\u001b[49m\u001b[43m)\u001b[49m\u001b[38;5;241m.\u001b[39m_interpolation_steps \u001b[38;5;241m=\u001b[39m \\\n\u001b[0;32m    167\u001b[0m     GRIDLINE_INTERPOLATION_STEPS\n\u001b[0;32m    168\u001b[0m \u001b[38;5;28mself\u001b[39m\u001b[38;5;241m.\u001b[39mlabel1 \u001b[38;5;241m=\u001b[39m mtext\u001b[38;5;241m.\u001b[39mText(\n\u001b[0;32m    169\u001b[0m     np\u001b[38;5;241m.\u001b[39mnan, np\u001b[38;5;241m.\u001b[39mnan,\n\u001b[0;32m    170\u001b[0m     fontsize\u001b[38;5;241m=\u001b[39mlabelsize, color\u001b[38;5;241m=\u001b[39mlabelcolor, visible\u001b[38;5;241m=\u001b[39mlabel1On,\n\u001b[0;32m    171\u001b[0m     rotation\u001b[38;5;241m=\u001b[39m\u001b[38;5;28mself\u001b[39m\u001b[38;5;241m.\u001b[39m_labelrotation[\u001b[38;5;241m1\u001b[39m])\n\u001b[0;32m    172\u001b[0m \u001b[38;5;28mself\u001b[39m\u001b[38;5;241m.\u001b[39mlabel2 \u001b[38;5;241m=\u001b[39m mtext\u001b[38;5;241m.\u001b[39mText(\n\u001b[0;32m    173\u001b[0m     np\u001b[38;5;241m.\u001b[39mnan, np\u001b[38;5;241m.\u001b[39mnan,\n\u001b[0;32m    174\u001b[0m     fontsize\u001b[38;5;241m=\u001b[39mlabelsize, color\u001b[38;5;241m=\u001b[39mlabelcolor, visible\u001b[38;5;241m=\u001b[39mlabel2On,\n\u001b[0;32m    175\u001b[0m     rotation\u001b[38;5;241m=\u001b[39m\u001b[38;5;28mself\u001b[39m\u001b[38;5;241m.\u001b[39m_labelrotation[\u001b[38;5;241m1\u001b[39m])\n",
      "File \u001b[1;32mC:\\Anaconda\\envs\\new\\lib\\site-packages\\matplotlib\\lines.py:999\u001b[0m, in \u001b[0;36mLine2D.get_path\u001b[1;34m(self)\u001b[0m\n\u001b[0;32m    997\u001b[0m \u001b[38;5;124;03m\"\"\"Return the `~matplotlib.path.Path` associated with this line.\"\"\"\u001b[39;00m\n\u001b[0;32m    998\u001b[0m \u001b[38;5;28;01mif\u001b[39;00m \u001b[38;5;28mself\u001b[39m\u001b[38;5;241m.\u001b[39m_invalidy \u001b[38;5;129;01mor\u001b[39;00m \u001b[38;5;28mself\u001b[39m\u001b[38;5;241m.\u001b[39m_invalidx:\n\u001b[1;32m--> 999\u001b[0m     \u001b[38;5;28;43mself\u001b[39;49m\u001b[38;5;241;43m.\u001b[39;49m\u001b[43mrecache\u001b[49m\u001b[43m(\u001b[49m\u001b[43m)\u001b[49m\n\u001b[0;32m   1000\u001b[0m \u001b[38;5;28;01mreturn\u001b[39;00m \u001b[38;5;28mself\u001b[39m\u001b[38;5;241m.\u001b[39m_path\n",
      "File \u001b[1;32mC:\\Anaconda\\envs\\new\\lib\\site-packages\\matplotlib\\lines.py:661\u001b[0m, in \u001b[0;36mLine2D.recache\u001b[1;34m(self, always)\u001b[0m\n\u001b[0;32m    658\u001b[0m \u001b[38;5;28;01melse\u001b[39;00m:\n\u001b[0;32m    659\u001b[0m     y \u001b[38;5;241m=\u001b[39m \u001b[38;5;28mself\u001b[39m\u001b[38;5;241m.\u001b[39m_y\n\u001b[1;32m--> 661\u001b[0m \u001b[38;5;28mself\u001b[39m\u001b[38;5;241m.\u001b[39m_xy \u001b[38;5;241m=\u001b[39m \u001b[43mnp\u001b[49m\u001b[38;5;241;43m.\u001b[39;49m\u001b[43mcolumn_stack\u001b[49m\u001b[43m(\u001b[49m\u001b[43mnp\u001b[49m\u001b[38;5;241;43m.\u001b[39;49m\u001b[43mbroadcast_arrays\u001b[49m\u001b[43m(\u001b[49m\u001b[43mx\u001b[49m\u001b[43m,\u001b[49m\u001b[43m \u001b[49m\u001b[43my\u001b[49m\u001b[43m)\u001b[49m\u001b[43m)\u001b[49m\u001b[38;5;241m.\u001b[39mastype(\u001b[38;5;28mfloat\u001b[39m)\n\u001b[0;32m    662\u001b[0m \u001b[38;5;28mself\u001b[39m\u001b[38;5;241m.\u001b[39m_x, \u001b[38;5;28mself\u001b[39m\u001b[38;5;241m.\u001b[39m_y \u001b[38;5;241m=\u001b[39m \u001b[38;5;28mself\u001b[39m\u001b[38;5;241m.\u001b[39m_xy\u001b[38;5;241m.\u001b[39mT  \u001b[38;5;66;03m# views\u001b[39;00m\n\u001b[0;32m    664\u001b[0m \u001b[38;5;28mself\u001b[39m\u001b[38;5;241m.\u001b[39m_subslice \u001b[38;5;241m=\u001b[39m \u001b[38;5;28;01mFalse\u001b[39;00m\n",
      "File \u001b[1;32m<__array_function__ internals>:180\u001b[0m, in \u001b[0;36mcolumn_stack\u001b[1;34m(*args, **kwargs)\u001b[0m\n",
      "File \u001b[1;32mC:\\Anaconda\\envs\\new\\lib\\site-packages\\numpy\\lib\\shape_base.py:656\u001b[0m, in \u001b[0;36mcolumn_stack\u001b[1;34m(tup)\u001b[0m\n\u001b[0;32m    654\u001b[0m         arr \u001b[38;5;241m=\u001b[39m array(arr, copy\u001b[38;5;241m=\u001b[39m\u001b[38;5;28;01mFalse\u001b[39;00m, subok\u001b[38;5;241m=\u001b[39m\u001b[38;5;28;01mTrue\u001b[39;00m, ndmin\u001b[38;5;241m=\u001b[39m\u001b[38;5;241m2\u001b[39m)\u001b[38;5;241m.\u001b[39mT\n\u001b[0;32m    655\u001b[0m     arrays\u001b[38;5;241m.\u001b[39mappend(arr)\n\u001b[1;32m--> 656\u001b[0m \u001b[38;5;28;01mreturn\u001b[39;00m \u001b[43m_nx\u001b[49m\u001b[38;5;241;43m.\u001b[39;49m\u001b[43mconcatenate\u001b[49m\u001b[43m(\u001b[49m\u001b[43marrays\u001b[49m\u001b[43m,\u001b[49m\u001b[43m \u001b[49m\u001b[38;5;241;43m1\u001b[39;49m\u001b[43m)\u001b[49m\n",
      "File \u001b[1;32m<__array_function__ internals>:180\u001b[0m, in \u001b[0;36mconcatenate\u001b[1;34m(*args, **kwargs)\u001b[0m\n",
      "\u001b[1;31mKeyboardInterrupt\u001b[0m: "
     ]
    },
    {
     "name": "stdout",
     "output_type": "stream",
     "text": [
      "Error in callback <function flush_figures at 0x0000018310D174C0> (for post_execute):\n"
     ]
    },
    {
     "ename": "KeyboardInterrupt",
     "evalue": "",
     "output_type": "error",
     "traceback": [
      "\u001b[1;31m---------------------------------------------------------------------------\u001b[0m",
      "\u001b[1;31mKeyboardInterrupt\u001b[0m                         Traceback (most recent call last)",
      "File \u001b[1;32mC:\\Anaconda\\envs\\new\\lib\\site-packages\\matplotlib_inline\\backend_inline.py:121\u001b[0m, in \u001b[0;36mflush_figures\u001b[1;34m()\u001b[0m\n\u001b[0;32m    118\u001b[0m \u001b[38;5;28;01mif\u001b[39;00m InlineBackend\u001b[38;5;241m.\u001b[39minstance()\u001b[38;5;241m.\u001b[39mclose_figures:\n\u001b[0;32m    119\u001b[0m     \u001b[38;5;66;03m# ignore the tracking, just draw and close all figures\u001b[39;00m\n\u001b[0;32m    120\u001b[0m     \u001b[38;5;28;01mtry\u001b[39;00m:\n\u001b[1;32m--> 121\u001b[0m         \u001b[38;5;28;01mreturn\u001b[39;00m \u001b[43mshow\u001b[49m\u001b[43m(\u001b[49m\u001b[38;5;28;43;01mTrue\u001b[39;49;00m\u001b[43m)\u001b[49m\n\u001b[0;32m    122\u001b[0m     \u001b[38;5;28;01mexcept\u001b[39;00m \u001b[38;5;167;01mException\u001b[39;00m \u001b[38;5;28;01mas\u001b[39;00m e:\n\u001b[0;32m    123\u001b[0m         \u001b[38;5;66;03m# safely show traceback if in IPython, else raise\u001b[39;00m\n\u001b[0;32m    124\u001b[0m         ip \u001b[38;5;241m=\u001b[39m get_ipython()\n",
      "File \u001b[1;32mC:\\Anaconda\\envs\\new\\lib\\site-packages\\matplotlib_inline\\backend_inline.py:41\u001b[0m, in \u001b[0;36mshow\u001b[1;34m(close, block)\u001b[0m\n\u001b[0;32m     39\u001b[0m \u001b[38;5;28;01mtry\u001b[39;00m:\n\u001b[0;32m     40\u001b[0m     \u001b[38;5;28;01mfor\u001b[39;00m figure_manager \u001b[38;5;129;01min\u001b[39;00m Gcf\u001b[38;5;241m.\u001b[39mget_all_fig_managers():\n\u001b[1;32m---> 41\u001b[0m         \u001b[43mdisplay\u001b[49m\u001b[43m(\u001b[49m\n\u001b[0;32m     42\u001b[0m \u001b[43m            \u001b[49m\u001b[43mfigure_manager\u001b[49m\u001b[38;5;241;43m.\u001b[39;49m\u001b[43mcanvas\u001b[49m\u001b[38;5;241;43m.\u001b[39;49m\u001b[43mfigure\u001b[49m\u001b[43m,\u001b[49m\n\u001b[0;32m     43\u001b[0m \u001b[43m            \u001b[49m\u001b[43mmetadata\u001b[49m\u001b[38;5;241;43m=\u001b[39;49m\u001b[43m_fetch_figure_metadata\u001b[49m\u001b[43m(\u001b[49m\u001b[43mfigure_manager\u001b[49m\u001b[38;5;241;43m.\u001b[39;49m\u001b[43mcanvas\u001b[49m\u001b[38;5;241;43m.\u001b[39;49m\u001b[43mfigure\u001b[49m\u001b[43m)\u001b[49m\n\u001b[0;32m     44\u001b[0m \u001b[43m        \u001b[49m\u001b[43m)\u001b[49m\n\u001b[0;32m     45\u001b[0m \u001b[38;5;28;01mfinally\u001b[39;00m:\n\u001b[0;32m     46\u001b[0m     show\u001b[38;5;241m.\u001b[39m_to_draw \u001b[38;5;241m=\u001b[39m []\n",
      "File \u001b[1;32mC:\\Anaconda\\envs\\new\\lib\\site-packages\\IPython\\core\\display_functions.py:298\u001b[0m, in \u001b[0;36mdisplay\u001b[1;34m(include, exclude, metadata, transient, display_id, raw, clear, *objs, **kwargs)\u001b[0m\n\u001b[0;32m    296\u001b[0m     publish_display_data(data\u001b[38;5;241m=\u001b[39mobj, metadata\u001b[38;5;241m=\u001b[39mmetadata, \u001b[38;5;241m*\u001b[39m\u001b[38;5;241m*\u001b[39mkwargs)\n\u001b[0;32m    297\u001b[0m \u001b[38;5;28;01melse\u001b[39;00m:\n\u001b[1;32m--> 298\u001b[0m     format_dict, md_dict \u001b[38;5;241m=\u001b[39m \u001b[38;5;28;43mformat\u001b[39;49m\u001b[43m(\u001b[49m\u001b[43mobj\u001b[49m\u001b[43m,\u001b[49m\u001b[43m \u001b[49m\u001b[43minclude\u001b[49m\u001b[38;5;241;43m=\u001b[39;49m\u001b[43minclude\u001b[49m\u001b[43m,\u001b[49m\u001b[43m \u001b[49m\u001b[43mexclude\u001b[49m\u001b[38;5;241;43m=\u001b[39;49m\u001b[43mexclude\u001b[49m\u001b[43m)\u001b[49m\n\u001b[0;32m    299\u001b[0m     \u001b[38;5;28;01mif\u001b[39;00m \u001b[38;5;129;01mnot\u001b[39;00m format_dict:\n\u001b[0;32m    300\u001b[0m         \u001b[38;5;66;03m# nothing to display (e.g. _ipython_display_ took over)\u001b[39;00m\n\u001b[0;32m    301\u001b[0m         \u001b[38;5;28;01mcontinue\u001b[39;00m\n",
      "File \u001b[1;32mC:\\Anaconda\\envs\\new\\lib\\site-packages\\IPython\\core\\formatters.py:178\u001b[0m, in \u001b[0;36mDisplayFormatter.format\u001b[1;34m(self, obj, include, exclude)\u001b[0m\n\u001b[0;32m    176\u001b[0m md \u001b[38;5;241m=\u001b[39m \u001b[38;5;28;01mNone\u001b[39;00m\n\u001b[0;32m    177\u001b[0m \u001b[38;5;28;01mtry\u001b[39;00m:\n\u001b[1;32m--> 178\u001b[0m     data \u001b[38;5;241m=\u001b[39m \u001b[43mformatter\u001b[49m\u001b[43m(\u001b[49m\u001b[43mobj\u001b[49m\u001b[43m)\u001b[49m\n\u001b[0;32m    179\u001b[0m \u001b[38;5;28;01mexcept\u001b[39;00m:\n\u001b[0;32m    180\u001b[0m     \u001b[38;5;66;03m# FIXME: log the exception\u001b[39;00m\n\u001b[0;32m    181\u001b[0m     \u001b[38;5;28;01mraise\u001b[39;00m\n",
      "File \u001b[1;32mC:\\Anaconda\\envs\\new\\lib\\site-packages\\decorator.py:232\u001b[0m, in \u001b[0;36mdecorate.<locals>.fun\u001b[1;34m(*args, **kw)\u001b[0m\n\u001b[0;32m    230\u001b[0m \u001b[38;5;28;01mif\u001b[39;00m \u001b[38;5;129;01mnot\u001b[39;00m kwsyntax:\n\u001b[0;32m    231\u001b[0m     args, kw \u001b[38;5;241m=\u001b[39m fix(args, kw, sig)\n\u001b[1;32m--> 232\u001b[0m \u001b[38;5;28;01mreturn\u001b[39;00m caller(func, \u001b[38;5;241m*\u001b[39m(extras \u001b[38;5;241m+\u001b[39m args), \u001b[38;5;241m*\u001b[39m\u001b[38;5;241m*\u001b[39mkw)\n",
      "File \u001b[1;32mC:\\Anaconda\\envs\\new\\lib\\site-packages\\IPython\\core\\formatters.py:222\u001b[0m, in \u001b[0;36mcatch_format_error\u001b[1;34m(method, self, *args, **kwargs)\u001b[0m\n\u001b[0;32m    220\u001b[0m \u001b[38;5;124;03m\"\"\"show traceback on failed format call\"\"\"\u001b[39;00m\n\u001b[0;32m    221\u001b[0m \u001b[38;5;28;01mtry\u001b[39;00m:\n\u001b[1;32m--> 222\u001b[0m     r \u001b[38;5;241m=\u001b[39m method(\u001b[38;5;28mself\u001b[39m, \u001b[38;5;241m*\u001b[39margs, \u001b[38;5;241m*\u001b[39m\u001b[38;5;241m*\u001b[39mkwargs)\n\u001b[0;32m    223\u001b[0m \u001b[38;5;28;01mexcept\u001b[39;00m \u001b[38;5;167;01mNotImplementedError\u001b[39;00m:\n\u001b[0;32m    224\u001b[0m     \u001b[38;5;66;03m# don't warn on NotImplementedErrors\u001b[39;00m\n\u001b[0;32m    225\u001b[0m     \u001b[38;5;28;01mreturn\u001b[39;00m \u001b[38;5;28mself\u001b[39m\u001b[38;5;241m.\u001b[39m_check_return(\u001b[38;5;28;01mNone\u001b[39;00m, args[\u001b[38;5;241m0\u001b[39m])\n",
      "File \u001b[1;32mC:\\Anaconda\\envs\\new\\lib\\site-packages\\IPython\\core\\formatters.py:339\u001b[0m, in \u001b[0;36mBaseFormatter.__call__\u001b[1;34m(self, obj)\u001b[0m\n\u001b[0;32m    337\u001b[0m     \u001b[38;5;28;01mpass\u001b[39;00m\n\u001b[0;32m    338\u001b[0m \u001b[38;5;28;01melse\u001b[39;00m:\n\u001b[1;32m--> 339\u001b[0m     \u001b[38;5;28;01mreturn\u001b[39;00m \u001b[43mprinter\u001b[49m\u001b[43m(\u001b[49m\u001b[43mobj\u001b[49m\u001b[43m)\u001b[49m\n\u001b[0;32m    340\u001b[0m \u001b[38;5;66;03m# Finally look for special method names\u001b[39;00m\n\u001b[0;32m    341\u001b[0m method \u001b[38;5;241m=\u001b[39m get_real_method(obj, \u001b[38;5;28mself\u001b[39m\u001b[38;5;241m.\u001b[39mprint_method)\n",
      "File \u001b[1;32mC:\\Anaconda\\envs\\new\\lib\\site-packages\\IPython\\core\\pylabtools.py:151\u001b[0m, in \u001b[0;36mprint_figure\u001b[1;34m(fig, fmt, bbox_inches, base64, **kwargs)\u001b[0m\n\u001b[0;32m    148\u001b[0m     \u001b[38;5;28;01mfrom\u001b[39;00m \u001b[38;5;21;01mmatplotlib\u001b[39;00m\u001b[38;5;21;01m.\u001b[39;00m\u001b[38;5;21;01mbackend_bases\u001b[39;00m \u001b[38;5;28;01mimport\u001b[39;00m FigureCanvasBase\n\u001b[0;32m    149\u001b[0m     FigureCanvasBase(fig)\n\u001b[1;32m--> 151\u001b[0m fig\u001b[38;5;241m.\u001b[39mcanvas\u001b[38;5;241m.\u001b[39mprint_figure(bytes_io, \u001b[38;5;241m*\u001b[39m\u001b[38;5;241m*\u001b[39mkw)\n\u001b[0;32m    152\u001b[0m data \u001b[38;5;241m=\u001b[39m bytes_io\u001b[38;5;241m.\u001b[39mgetvalue()\n\u001b[0;32m    153\u001b[0m \u001b[38;5;28;01mif\u001b[39;00m fmt \u001b[38;5;241m==\u001b[39m \u001b[38;5;124m'\u001b[39m\u001b[38;5;124msvg\u001b[39m\u001b[38;5;124m'\u001b[39m:\n",
      "File \u001b[1;32mC:\\Anaconda\\envs\\new\\lib\\site-packages\\matplotlib\\backend_bases.py:2295\u001b[0m, in \u001b[0;36mFigureCanvasBase.print_figure\u001b[1;34m(self, filename, dpi, facecolor, edgecolor, orientation, format, bbox_inches, pad_inches, bbox_extra_artists, backend, **kwargs)\u001b[0m\n\u001b[0;32m   2289\u001b[0m     renderer \u001b[38;5;241m=\u001b[39m _get_renderer(\n\u001b[0;32m   2290\u001b[0m         \u001b[38;5;28mself\u001b[39m\u001b[38;5;241m.\u001b[39mfigure,\n\u001b[0;32m   2291\u001b[0m         functools\u001b[38;5;241m.\u001b[39mpartial(\n\u001b[0;32m   2292\u001b[0m             print_method, orientation\u001b[38;5;241m=\u001b[39morientation)\n\u001b[0;32m   2293\u001b[0m     )\n\u001b[0;32m   2294\u001b[0m     \u001b[38;5;28;01mwith\u001b[39;00m \u001b[38;5;28mgetattr\u001b[39m(renderer, \u001b[38;5;124m\"\u001b[39m\u001b[38;5;124m_draw_disabled\u001b[39m\u001b[38;5;124m\"\u001b[39m, nullcontext)():\n\u001b[1;32m-> 2295\u001b[0m         \u001b[38;5;28;43mself\u001b[39;49m\u001b[38;5;241;43m.\u001b[39;49m\u001b[43mfigure\u001b[49m\u001b[38;5;241;43m.\u001b[39;49m\u001b[43mdraw\u001b[49m\u001b[43m(\u001b[49m\u001b[43mrenderer\u001b[49m\u001b[43m)\u001b[49m\n\u001b[0;32m   2297\u001b[0m \u001b[38;5;28;01mif\u001b[39;00m bbox_inches:\n\u001b[0;32m   2298\u001b[0m     \u001b[38;5;28;01mif\u001b[39;00m bbox_inches \u001b[38;5;241m==\u001b[39m \u001b[38;5;124m\"\u001b[39m\u001b[38;5;124mtight\u001b[39m\u001b[38;5;124m\"\u001b[39m:\n",
      "File \u001b[1;32mC:\\Anaconda\\envs\\new\\lib\\site-packages\\matplotlib\\artist.py:73\u001b[0m, in \u001b[0;36m_finalize_rasterization.<locals>.draw_wrapper\u001b[1;34m(artist, renderer, *args, **kwargs)\u001b[0m\n\u001b[0;32m     71\u001b[0m \u001b[38;5;129m@wraps\u001b[39m(draw)\n\u001b[0;32m     72\u001b[0m \u001b[38;5;28;01mdef\u001b[39;00m \u001b[38;5;21mdraw_wrapper\u001b[39m(artist, renderer, \u001b[38;5;241m*\u001b[39margs, \u001b[38;5;241m*\u001b[39m\u001b[38;5;241m*\u001b[39mkwargs):\n\u001b[1;32m---> 73\u001b[0m     result \u001b[38;5;241m=\u001b[39m draw(artist, renderer, \u001b[38;5;241m*\u001b[39margs, \u001b[38;5;241m*\u001b[39m\u001b[38;5;241m*\u001b[39mkwargs)\n\u001b[0;32m     74\u001b[0m     \u001b[38;5;28;01mif\u001b[39;00m renderer\u001b[38;5;241m.\u001b[39m_rasterizing:\n\u001b[0;32m     75\u001b[0m         renderer\u001b[38;5;241m.\u001b[39mstop_rasterizing()\n",
      "File \u001b[1;32mC:\\Anaconda\\envs\\new\\lib\\site-packages\\matplotlib\\artist.py:50\u001b[0m, in \u001b[0;36mallow_rasterization.<locals>.draw_wrapper\u001b[1;34m(artist, renderer)\u001b[0m\n\u001b[0;32m     47\u001b[0m     \u001b[38;5;28;01mif\u001b[39;00m artist\u001b[38;5;241m.\u001b[39mget_agg_filter() \u001b[38;5;129;01mis\u001b[39;00m \u001b[38;5;129;01mnot\u001b[39;00m \u001b[38;5;28;01mNone\u001b[39;00m:\n\u001b[0;32m     48\u001b[0m         renderer\u001b[38;5;241m.\u001b[39mstart_filter()\n\u001b[1;32m---> 50\u001b[0m     \u001b[38;5;28;01mreturn\u001b[39;00m \u001b[43mdraw\u001b[49m\u001b[43m(\u001b[49m\u001b[43martist\u001b[49m\u001b[43m,\u001b[49m\u001b[43m \u001b[49m\u001b[43mrenderer\u001b[49m\u001b[43m)\u001b[49m\n\u001b[0;32m     51\u001b[0m \u001b[38;5;28;01mfinally\u001b[39;00m:\n\u001b[0;32m     52\u001b[0m     \u001b[38;5;28;01mif\u001b[39;00m artist\u001b[38;5;241m.\u001b[39mget_agg_filter() \u001b[38;5;129;01mis\u001b[39;00m \u001b[38;5;129;01mnot\u001b[39;00m \u001b[38;5;28;01mNone\u001b[39;00m:\n",
      "File \u001b[1;32mC:\\Anaconda\\envs\\new\\lib\\site-packages\\matplotlib\\figure.py:2810\u001b[0m, in \u001b[0;36mFigure.draw\u001b[1;34m(self, renderer)\u001b[0m\n\u001b[0;32m   2807\u001b[0m         \u001b[38;5;66;03m# ValueError can occur when resizing a window.\u001b[39;00m\n\u001b[0;32m   2809\u001b[0m \u001b[38;5;28mself\u001b[39m\u001b[38;5;241m.\u001b[39mpatch\u001b[38;5;241m.\u001b[39mdraw(renderer)\n\u001b[1;32m-> 2810\u001b[0m \u001b[43mmimage\u001b[49m\u001b[38;5;241;43m.\u001b[39;49m\u001b[43m_draw_list_compositing_images\u001b[49m\u001b[43m(\u001b[49m\n\u001b[0;32m   2811\u001b[0m \u001b[43m    \u001b[49m\u001b[43mrenderer\u001b[49m\u001b[43m,\u001b[49m\u001b[43m \u001b[49m\u001b[38;5;28;43mself\u001b[39;49m\u001b[43m,\u001b[49m\u001b[43m \u001b[49m\u001b[43martists\u001b[49m\u001b[43m,\u001b[49m\u001b[43m \u001b[49m\u001b[38;5;28;43mself\u001b[39;49m\u001b[38;5;241;43m.\u001b[39;49m\u001b[43msuppressComposite\u001b[49m\u001b[43m)\u001b[49m\n\u001b[0;32m   2813\u001b[0m \u001b[38;5;28;01mfor\u001b[39;00m sfig \u001b[38;5;129;01min\u001b[39;00m \u001b[38;5;28mself\u001b[39m\u001b[38;5;241m.\u001b[39msubfigs:\n\u001b[0;32m   2814\u001b[0m     sfig\u001b[38;5;241m.\u001b[39mdraw(renderer)\n",
      "File \u001b[1;32mC:\\Anaconda\\envs\\new\\lib\\site-packages\\matplotlib\\image.py:132\u001b[0m, in \u001b[0;36m_draw_list_compositing_images\u001b[1;34m(renderer, parent, artists, suppress_composite)\u001b[0m\n\u001b[0;32m    130\u001b[0m \u001b[38;5;28;01mif\u001b[39;00m not_composite \u001b[38;5;129;01mor\u001b[39;00m \u001b[38;5;129;01mnot\u001b[39;00m has_images:\n\u001b[0;32m    131\u001b[0m     \u001b[38;5;28;01mfor\u001b[39;00m a \u001b[38;5;129;01min\u001b[39;00m artists:\n\u001b[1;32m--> 132\u001b[0m         \u001b[43ma\u001b[49m\u001b[38;5;241;43m.\u001b[39;49m\u001b[43mdraw\u001b[49m\u001b[43m(\u001b[49m\u001b[43mrenderer\u001b[49m\u001b[43m)\u001b[49m\n\u001b[0;32m    133\u001b[0m \u001b[38;5;28;01melse\u001b[39;00m:\n\u001b[0;32m    134\u001b[0m     \u001b[38;5;66;03m# Composite any adjacent images together\u001b[39;00m\n\u001b[0;32m    135\u001b[0m     image_group \u001b[38;5;241m=\u001b[39m []\n",
      "File \u001b[1;32mC:\\Anaconda\\envs\\new\\lib\\site-packages\\matplotlib\\artist.py:50\u001b[0m, in \u001b[0;36mallow_rasterization.<locals>.draw_wrapper\u001b[1;34m(artist, renderer)\u001b[0m\n\u001b[0;32m     47\u001b[0m     \u001b[38;5;28;01mif\u001b[39;00m artist\u001b[38;5;241m.\u001b[39mget_agg_filter() \u001b[38;5;129;01mis\u001b[39;00m \u001b[38;5;129;01mnot\u001b[39;00m \u001b[38;5;28;01mNone\u001b[39;00m:\n\u001b[0;32m     48\u001b[0m         renderer\u001b[38;5;241m.\u001b[39mstart_filter()\n\u001b[1;32m---> 50\u001b[0m     \u001b[38;5;28;01mreturn\u001b[39;00m \u001b[43mdraw\u001b[49m\u001b[43m(\u001b[49m\u001b[43martist\u001b[49m\u001b[43m,\u001b[49m\u001b[43m \u001b[49m\u001b[43mrenderer\u001b[49m\u001b[43m)\u001b[49m\n\u001b[0;32m     51\u001b[0m \u001b[38;5;28;01mfinally\u001b[39;00m:\n\u001b[0;32m     52\u001b[0m     \u001b[38;5;28;01mif\u001b[39;00m artist\u001b[38;5;241m.\u001b[39mget_agg_filter() \u001b[38;5;129;01mis\u001b[39;00m \u001b[38;5;129;01mnot\u001b[39;00m \u001b[38;5;28;01mNone\u001b[39;00m:\n",
      "File \u001b[1;32mC:\\Anaconda\\envs\\new\\lib\\site-packages\\matplotlib\\axes\\_base.py:3082\u001b[0m, in \u001b[0;36m_AxesBase.draw\u001b[1;34m(self, renderer)\u001b[0m\n\u001b[0;32m   3079\u001b[0m         a\u001b[38;5;241m.\u001b[39mdraw(renderer)\n\u001b[0;32m   3080\u001b[0m     renderer\u001b[38;5;241m.\u001b[39mstop_rasterizing()\n\u001b[1;32m-> 3082\u001b[0m \u001b[43mmimage\u001b[49m\u001b[38;5;241;43m.\u001b[39;49m\u001b[43m_draw_list_compositing_images\u001b[49m\u001b[43m(\u001b[49m\n\u001b[0;32m   3083\u001b[0m \u001b[43m    \u001b[49m\u001b[43mrenderer\u001b[49m\u001b[43m,\u001b[49m\u001b[43m \u001b[49m\u001b[38;5;28;43mself\u001b[39;49m\u001b[43m,\u001b[49m\u001b[43m \u001b[49m\u001b[43martists\u001b[49m\u001b[43m,\u001b[49m\u001b[43m \u001b[49m\u001b[38;5;28;43mself\u001b[39;49m\u001b[38;5;241;43m.\u001b[39;49m\u001b[43mfigure\u001b[49m\u001b[38;5;241;43m.\u001b[39;49m\u001b[43msuppressComposite\u001b[49m\u001b[43m)\u001b[49m\n\u001b[0;32m   3085\u001b[0m renderer\u001b[38;5;241m.\u001b[39mclose_group(\u001b[38;5;124m'\u001b[39m\u001b[38;5;124maxes\u001b[39m\u001b[38;5;124m'\u001b[39m)\n\u001b[0;32m   3086\u001b[0m \u001b[38;5;28mself\u001b[39m\u001b[38;5;241m.\u001b[39mstale \u001b[38;5;241m=\u001b[39m \u001b[38;5;28;01mFalse\u001b[39;00m\n",
      "File \u001b[1;32mC:\\Anaconda\\envs\\new\\lib\\site-packages\\matplotlib\\image.py:132\u001b[0m, in \u001b[0;36m_draw_list_compositing_images\u001b[1;34m(renderer, parent, artists, suppress_composite)\u001b[0m\n\u001b[0;32m    130\u001b[0m \u001b[38;5;28;01mif\u001b[39;00m not_composite \u001b[38;5;129;01mor\u001b[39;00m \u001b[38;5;129;01mnot\u001b[39;00m has_images:\n\u001b[0;32m    131\u001b[0m     \u001b[38;5;28;01mfor\u001b[39;00m a \u001b[38;5;129;01min\u001b[39;00m artists:\n\u001b[1;32m--> 132\u001b[0m         \u001b[43ma\u001b[49m\u001b[38;5;241;43m.\u001b[39;49m\u001b[43mdraw\u001b[49m\u001b[43m(\u001b[49m\u001b[43mrenderer\u001b[49m\u001b[43m)\u001b[49m\n\u001b[0;32m    133\u001b[0m \u001b[38;5;28;01melse\u001b[39;00m:\n\u001b[0;32m    134\u001b[0m     \u001b[38;5;66;03m# Composite any adjacent images together\u001b[39;00m\n\u001b[0;32m    135\u001b[0m     image_group \u001b[38;5;241m=\u001b[39m []\n",
      "File \u001b[1;32mC:\\Anaconda\\envs\\new\\lib\\site-packages\\matplotlib\\artist.py:50\u001b[0m, in \u001b[0;36mallow_rasterization.<locals>.draw_wrapper\u001b[1;34m(artist, renderer)\u001b[0m\n\u001b[0;32m     47\u001b[0m     \u001b[38;5;28;01mif\u001b[39;00m artist\u001b[38;5;241m.\u001b[39mget_agg_filter() \u001b[38;5;129;01mis\u001b[39;00m \u001b[38;5;129;01mnot\u001b[39;00m \u001b[38;5;28;01mNone\u001b[39;00m:\n\u001b[0;32m     48\u001b[0m         renderer\u001b[38;5;241m.\u001b[39mstart_filter()\n\u001b[1;32m---> 50\u001b[0m     \u001b[38;5;28;01mreturn\u001b[39;00m \u001b[43mdraw\u001b[49m\u001b[43m(\u001b[49m\u001b[43martist\u001b[49m\u001b[43m,\u001b[49m\u001b[43m \u001b[49m\u001b[43mrenderer\u001b[49m\u001b[43m)\u001b[49m\n\u001b[0;32m     51\u001b[0m \u001b[38;5;28;01mfinally\u001b[39;00m:\n\u001b[0;32m     52\u001b[0m     \u001b[38;5;28;01mif\u001b[39;00m artist\u001b[38;5;241m.\u001b[39mget_agg_filter() \u001b[38;5;129;01mis\u001b[39;00m \u001b[38;5;129;01mnot\u001b[39;00m \u001b[38;5;28;01mNone\u001b[39;00m:\n",
      "File \u001b[1;32mC:\\Anaconda\\envs\\new\\lib\\site-packages\\matplotlib\\axis.py:1159\u001b[0m, in \u001b[0;36mAxis.draw\u001b[1;34m(self, renderer, *args, **kwargs)\u001b[0m\n\u001b[0;32m   1156\u001b[0m renderer\u001b[38;5;241m.\u001b[39mopen_group(\u001b[38;5;18m__name__\u001b[39m, gid\u001b[38;5;241m=\u001b[39m\u001b[38;5;28mself\u001b[39m\u001b[38;5;241m.\u001b[39mget_gid())\n\u001b[0;32m   1158\u001b[0m ticks_to_draw \u001b[38;5;241m=\u001b[39m \u001b[38;5;28mself\u001b[39m\u001b[38;5;241m.\u001b[39m_update_ticks()\n\u001b[1;32m-> 1159\u001b[0m ticklabelBoxes, ticklabelBoxes2 \u001b[38;5;241m=\u001b[39m \u001b[38;5;28;43mself\u001b[39;49m\u001b[38;5;241;43m.\u001b[39;49m\u001b[43m_get_tick_bboxes\u001b[49m\u001b[43m(\u001b[49m\u001b[43mticks_to_draw\u001b[49m\u001b[43m,\u001b[49m\n\u001b[0;32m   1160\u001b[0m \u001b[43m                                                        \u001b[49m\u001b[43mrenderer\u001b[49m\u001b[43m)\u001b[49m\n\u001b[0;32m   1162\u001b[0m \u001b[38;5;28;01mfor\u001b[39;00m tick \u001b[38;5;129;01min\u001b[39;00m ticks_to_draw:\n\u001b[0;32m   1163\u001b[0m     tick\u001b[38;5;241m.\u001b[39mdraw(renderer)\n",
      "File \u001b[1;32mC:\\Anaconda\\envs\\new\\lib\\site-packages\\matplotlib\\axis.py:1085\u001b[0m, in \u001b[0;36mAxis._get_tick_bboxes\u001b[1;34m(self, ticks, renderer)\u001b[0m\n\u001b[0;32m   1083\u001b[0m \u001b[38;5;28;01mdef\u001b[39;00m \u001b[38;5;21m_get_tick_bboxes\u001b[39m(\u001b[38;5;28mself\u001b[39m, ticks, renderer):\n\u001b[0;32m   1084\u001b[0m     \u001b[38;5;124;03m\"\"\"Return lists of bboxes for ticks' label1's and label2's.\"\"\"\u001b[39;00m\n\u001b[1;32m-> 1085\u001b[0m     \u001b[38;5;28;01mreturn\u001b[39;00m ([tick\u001b[38;5;241m.\u001b[39mlabel1\u001b[38;5;241m.\u001b[39mget_window_extent(renderer)\n\u001b[0;32m   1086\u001b[0m              \u001b[38;5;28;01mfor\u001b[39;00m tick \u001b[38;5;129;01min\u001b[39;00m ticks \u001b[38;5;28;01mif\u001b[39;00m tick\u001b[38;5;241m.\u001b[39mlabel1\u001b[38;5;241m.\u001b[39mget_visible()],\n\u001b[0;32m   1087\u001b[0m             [tick\u001b[38;5;241m.\u001b[39mlabel2\u001b[38;5;241m.\u001b[39mget_window_extent(renderer)\n\u001b[0;32m   1088\u001b[0m              \u001b[38;5;28;01mfor\u001b[39;00m tick \u001b[38;5;129;01min\u001b[39;00m ticks \u001b[38;5;28;01mif\u001b[39;00m tick\u001b[38;5;241m.\u001b[39mlabel2\u001b[38;5;241m.\u001b[39mget_visible()])\n",
      "File \u001b[1;32mC:\\Anaconda\\envs\\new\\lib\\site-packages\\matplotlib\\axis.py:1085\u001b[0m, in \u001b[0;36m<listcomp>\u001b[1;34m(.0)\u001b[0m\n\u001b[0;32m   1083\u001b[0m \u001b[38;5;28;01mdef\u001b[39;00m \u001b[38;5;21m_get_tick_bboxes\u001b[39m(\u001b[38;5;28mself\u001b[39m, ticks, renderer):\n\u001b[0;32m   1084\u001b[0m     \u001b[38;5;124;03m\"\"\"Return lists of bboxes for ticks' label1's and label2's.\"\"\"\u001b[39;00m\n\u001b[1;32m-> 1085\u001b[0m     \u001b[38;5;28;01mreturn\u001b[39;00m ([\u001b[43mtick\u001b[49m\u001b[38;5;241;43m.\u001b[39;49m\u001b[43mlabel1\u001b[49m\u001b[38;5;241;43m.\u001b[39;49m\u001b[43mget_window_extent\u001b[49m\u001b[43m(\u001b[49m\u001b[43mrenderer\u001b[49m\u001b[43m)\u001b[49m\n\u001b[0;32m   1086\u001b[0m              \u001b[38;5;28;01mfor\u001b[39;00m tick \u001b[38;5;129;01min\u001b[39;00m ticks \u001b[38;5;28;01mif\u001b[39;00m tick\u001b[38;5;241m.\u001b[39mlabel1\u001b[38;5;241m.\u001b[39mget_visible()],\n\u001b[0;32m   1087\u001b[0m             [tick\u001b[38;5;241m.\u001b[39mlabel2\u001b[38;5;241m.\u001b[39mget_window_extent(renderer)\n\u001b[0;32m   1088\u001b[0m              \u001b[38;5;28;01mfor\u001b[39;00m tick \u001b[38;5;129;01min\u001b[39;00m ticks \u001b[38;5;28;01mif\u001b[39;00m tick\u001b[38;5;241m.\u001b[39mlabel2\u001b[38;5;241m.\u001b[39mget_visible()])\n",
      "File \u001b[1;32mC:\\Anaconda\\envs\\new\\lib\\site-packages\\matplotlib\\text.py:910\u001b[0m, in \u001b[0;36mText.get_window_extent\u001b[1;34m(self, renderer, dpi)\u001b[0m\n\u001b[0;32m    907\u001b[0m     \u001b[38;5;28;01mraise\u001b[39;00m \u001b[38;5;167;01mRuntimeError\u001b[39;00m(\u001b[38;5;124m'\u001b[39m\u001b[38;5;124mCannot get window extent w/o renderer\u001b[39m\u001b[38;5;124m'\u001b[39m)\n\u001b[0;32m    909\u001b[0m \u001b[38;5;28;01mwith\u001b[39;00m cbook\u001b[38;5;241m.\u001b[39m_setattr_cm(\u001b[38;5;28mself\u001b[39m\u001b[38;5;241m.\u001b[39mfigure, dpi\u001b[38;5;241m=\u001b[39mdpi):\n\u001b[1;32m--> 910\u001b[0m     bbox, info, descent \u001b[38;5;241m=\u001b[39m \u001b[38;5;28;43mself\u001b[39;49m\u001b[38;5;241;43m.\u001b[39;49m\u001b[43m_get_layout\u001b[49m\u001b[43m(\u001b[49m\u001b[38;5;28;43mself\u001b[39;49m\u001b[38;5;241;43m.\u001b[39;49m\u001b[43m_renderer\u001b[49m\u001b[43m)\u001b[49m\n\u001b[0;32m    911\u001b[0m     x, y \u001b[38;5;241m=\u001b[39m \u001b[38;5;28mself\u001b[39m\u001b[38;5;241m.\u001b[39mget_unitless_position()\n\u001b[0;32m    912\u001b[0m     x, y \u001b[38;5;241m=\u001b[39m \u001b[38;5;28mself\u001b[39m\u001b[38;5;241m.\u001b[39mget_transform()\u001b[38;5;241m.\u001b[39mtransform((x, y))\n",
      "File \u001b[1;32mC:\\Anaconda\\envs\\new\\lib\\site-packages\\matplotlib\\text.py:317\u001b[0m, in \u001b[0;36mText._get_layout\u001b[1;34m(self, renderer)\u001b[0m\n\u001b[0;32m    315\u001b[0m clean_line, ismath \u001b[38;5;241m=\u001b[39m \u001b[38;5;28mself\u001b[39m\u001b[38;5;241m.\u001b[39m_preprocess_math(line)\n\u001b[0;32m    316\u001b[0m \u001b[38;5;28;01mif\u001b[39;00m clean_line:\n\u001b[1;32m--> 317\u001b[0m     w, h, d \u001b[38;5;241m=\u001b[39m \u001b[43mrenderer\u001b[49m\u001b[38;5;241;43m.\u001b[39;49m\u001b[43mget_text_width_height_descent\u001b[49m\u001b[43m(\u001b[49m\n\u001b[0;32m    318\u001b[0m \u001b[43m        \u001b[49m\u001b[43mclean_line\u001b[49m\u001b[43m,\u001b[49m\u001b[43m \u001b[49m\u001b[38;5;28;43mself\u001b[39;49m\u001b[38;5;241;43m.\u001b[39;49m\u001b[43m_fontproperties\u001b[49m\u001b[43m,\u001b[49m\u001b[43m \u001b[49m\u001b[43mismath\u001b[49m\u001b[38;5;241;43m=\u001b[39;49m\u001b[43mismath\u001b[49m\u001b[43m)\u001b[49m\n\u001b[0;32m    319\u001b[0m \u001b[38;5;28;01melse\u001b[39;00m:\n\u001b[0;32m    320\u001b[0m     w \u001b[38;5;241m=\u001b[39m h \u001b[38;5;241m=\u001b[39m d \u001b[38;5;241m=\u001b[39m \u001b[38;5;241m0\u001b[39m\n",
      "File \u001b[1;32mC:\\Anaconda\\envs\\new\\lib\\site-packages\\matplotlib\\backends\\backend_agg.py:270\u001b[0m, in \u001b[0;36mRendererAgg.get_text_width_height_descent\u001b[1;34m(self, s, prop, ismath)\u001b[0m\n\u001b[0;32m    268\u001b[0m flags \u001b[38;5;241m=\u001b[39m get_hinting_flag()\n\u001b[0;32m    269\u001b[0m font \u001b[38;5;241m=\u001b[39m \u001b[38;5;28mself\u001b[39m\u001b[38;5;241m.\u001b[39m_get_agg_font(prop)\n\u001b[1;32m--> 270\u001b[0m \u001b[43mfont\u001b[49m\u001b[38;5;241;43m.\u001b[39;49m\u001b[43mset_text\u001b[49m\u001b[43m(\u001b[49m\u001b[43ms\u001b[49m\u001b[43m,\u001b[49m\u001b[43m \u001b[49m\u001b[38;5;241;43m0.0\u001b[39;49m\u001b[43m,\u001b[49m\u001b[43m \u001b[49m\u001b[43mflags\u001b[49m\u001b[38;5;241;43m=\u001b[39;49m\u001b[43mflags\u001b[49m\u001b[43m)\u001b[49m\n\u001b[0;32m    271\u001b[0m w, h \u001b[38;5;241m=\u001b[39m font\u001b[38;5;241m.\u001b[39mget_width_height()  \u001b[38;5;66;03m# width and height of unrotated string\u001b[39;00m\n\u001b[0;32m    272\u001b[0m d \u001b[38;5;241m=\u001b[39m font\u001b[38;5;241m.\u001b[39mget_descent()\n",
      "\u001b[1;31mKeyboardInterrupt\u001b[0m: "
     ]
    }
   ],
   "source": [
    "plt.figure(figsize=(12,6))\n",
    "sns.lineplot(x='date', y='close', data=df).set_title(\"Price of Ethereum\")\n",
    "df"
   ]
  },
  {
   "cell_type": "code",
   "execution_count": null,
   "id": "7d523f00",
   "metadata": {},
   "outputs": [],
   "source": [
    "df = df[[\"open\", \"high\", \"low\", \"close\",\"Volume ETH\", \"Volume USD\"]]\n",
    "#df = df[['Close']]\n",
    "df.head()\n",
    "SEQ_LEN = 120\n",
    "FUTURE_PERIOD = 10\n",
    "\n",
    "RATIO_TO_PREDICT = \"Close\"\n",
    "df"
   ]
  },
  {
   "cell_type": "code",
   "execution_count": null,
   "id": "64ec608d",
   "metadata": {},
   "outputs": [],
   "source": [
    "times = sorted(df.index.values)  # get the times\n",
    "last_10 = times[-int(0.1*len(times))] \n",
    "last_20 = times[-int(0.2*len(times))]\n",
    "\n",
    "test_df = df[(df.index >= last_10)]\n",
    "validation_df = df[(df.index >= last_20) & (df.index < last_10)]  \n",
    "train_df = df[(df.index < last_20)]"
   ]
  },
  {
   "cell_type": "code",
   "execution_count": null,
   "id": "f200500e",
   "metadata": {},
   "outputs": [],
   "source": [
    "train_ = train_df.values\n",
    "valid_ = validation_df.values\n",
    "test_ = test_df.values\n",
    "df"
   ]
  },
  {
   "cell_type": "code",
   "execution_count": null,
   "id": "964c28ca",
   "metadata": {},
   "outputs": [],
   "source": [
    "print(\"train shape {0}\".format(train_.shape))\n",
    "print(\"valid shape {0}\".format(valid_.shape))\n",
    "print(\"test shape {0}\".format(test_.shape))\n"
   ]
  },
  {
   "cell_type": "code",
   "execution_count": null,
   "id": "a709814e",
   "metadata": {},
   "outputs": [],
   "source": [
    "def line_plot(line1, line2,line3, label1=None, label2=None, label3=None, title='', lw=2):\n",
    "    fig, ax = plt.subplots(1, figsize=(13, 7))\n",
    "    ax.plot(line1, label=label1, linewidth=lw)\n",
    "    ax.plot(line2, label=label2, linewidth=lw)\n",
    "    ax.plot(line3, label=label3, linewidth=lw)\n",
    "    ax.set_ylabel('price [USD]', fontsize=14)\n",
    "    ax.set_title(title, fontsize=16)\n",
    "    ax.legend(loc='best', fontsize=16);"
   ]
  },
  {
   "cell_type": "code",
   "execution_count": null,
   "id": "7ead68f8",
   "metadata": {
    "scrolled": true
   },
   "outputs": [],
   "source": [
    "line_plot(train_df['close'], test_df['close'], validation_df['close'], 'training', 'test','validation', title='')"
   ]
  },
  {
   "cell_type": "code",
   "execution_count": null,
   "id": "f69c5806",
   "metadata": {},
   "outputs": [],
   "source": [
    "from sklearn.preprocessing import MinMaxScaler\n",
    "scaler = MinMaxScaler()\n",
    "scale_close = MinMaxScaler()"
   ]
  },
  {
   "cell_type": "code",
   "execution_count": null,
   "id": "9c5f91a0",
   "metadata": {},
   "outputs": [],
   "source": [
    "x = train_[:,3].copy()\n",
    "scale_close.fit(x.reshape(-1, 1))"
   ]
  },
  {
   "cell_type": "code",
   "execution_count": null,
   "id": "bedba740",
   "metadata": {},
   "outputs": [],
   "source": [
    "scaler.fit(train_)\n",
    "\n",
    "train_ = scaler.transform(train_)\n",
    "\n",
    "valid_ = scaler.transform(valid_)\n",
    "test_ = scaler.transform(test_)"
   ]
  },
  {
   "cell_type": "code",
   "execution_count": null,
   "id": "00ed4b12",
   "metadata": {},
   "outputs": [],
   "source": [
    "# Now perform exponential moving average smoothing for smooth curve of data\n",
    "EMA = 0.0\n",
    "gamma = 0.165\n",
    "for ti in range(train_.shape[0]):\n",
    "    EMA = gamma*train_[ti] + (1-gamma)*EMA\n",
    "    train_[ti] = EMA\n",
    "\n",
    "# Used for visualization and test purposes\n",
    "all_mid_data = np.concatenate([train_,valid_, test_],axis=0)"
   ]
  },
  {
   "cell_type": "code",
   "execution_count": null,
   "id": "402ba923",
   "metadata": {},
   "outputs": [],
   "source": [
    "#data splitting\n",
    "\n",
    "def split_data(data):\n",
    "    X = []\n",
    "    Y = []\n",
    "    for i in range(SEQ_LEN, len(data)-FUTURE_PERIOD+1):\n",
    "        X.append(data[i-SEQ_LEN:i])\n",
    "        Y.append(data[i+(FUTURE_PERIOD-1), 3])\n",
    "    return np.array(X), np.array(Y)"
   ]
  },
  {
   "cell_type": "code",
   "execution_count": null,
   "id": "c95ce051",
   "metadata": {},
   "outputs": [],
   "source": [
    "X_train, y_train = split_data(train_)\n",
    "X_test, y_test = split_data(test_)\n",
    "X_valid, y_valid = split_data(valid_)\n"
   ]
  },
  {
   "cell_type": "code",
   "execution_count": null,
   "id": "11ac4431",
   "metadata": {},
   "outputs": [],
   "source": [
    "X_train = np.reshape(X_train, (X_train.shape[0], X_train.shape[1], 6))\n",
    "X_valid = np.reshape(X_valid, (X_valid.shape[0], X_valid.shape[1], 6))\n",
    "X_test = np.reshape(X_test, (X_test.shape[0], X_test.shape[1], 6))"
   ]
  },
  {
   "cell_type": "code",
   "execution_count": null,
   "id": "14284a51",
   "metadata": {},
   "outputs": [],
   "source": [
    "print(\"train shape {0}\".format(X_train.shape))\n",
    "print(\"valid shape {0}\".format(X_valid.shape))\n",
    "print(\"test shape {0}\".format(X_test.shape))"
   ]
  },
  {
   "cell_type": "code",
   "execution_count": null,
   "id": "0d6191b3",
   "metadata": {},
   "outputs": [],
   "source": [
    "X_train_2, y_train_2 = split_data(train_)\n",
    "X_train_2 = np.reshape(X_train_2, (X_train_2.shape[0], X_train_2.shape[1], 6))"
   ]
  },
  {
   "cell_type": "code",
   "execution_count": null,
   "id": "89e42d51",
   "metadata": {},
   "outputs": [],
   "source": [
    "#LSTM model\n",
    "\n",
    "import tensorflow as tf\n",
    "from tensorflow.keras import layers\n",
    "from keras.models import Sequential\n",
    "from tensorflow.keras.optimizers import Adam\n",
    "from keras.layers import Dense, LSTM, LeakyReLU, Dropout, BatchNormalization\n",
    "\n",
    "# Initialize the RNN\n",
    "model_LSTM1 = Sequential()\n",
    "model_LSTM1.add(LSTM(units = 120, input_shape=(120, 6)))\n",
    "model_LSTM1.add(LeakyReLU(alpha=0.5))\n",
    "model_LSTM1.add(Dropout(0.5))\n",
    "model_LSTM1.add(BatchNormalization())\n",
    "model_LSTM1.add(Dense(1))\n",
    "model_LSTM1.summary()"
   ]
  },
  {
   "cell_type": "code",
   "execution_count": null,
   "id": "1fca441e",
   "metadata": {},
   "outputs": [],
   "source": [
    "model_LSTM1.compile(optimizer='adam', loss='mean_squared_error', metrics = ('MAPE'))"
   ]
  },
  {
   "cell_type": "code",
   "execution_count": null,
   "id": "8f3e2712",
   "metadata": {},
   "outputs": [],
   "source": [
    "history_LSTM1 = model_LSTM1.fit(X_train, y_train,validation_data=(X_valid, y_valid), epochs=10, batch_size=128)"
   ]
  },
  {
   "cell_type": "code",
   "execution_count": null,
   "id": "47e175f6",
   "metadata": {},
   "outputs": [],
   "source": [
    "loss = history_LSTM1.history['loss']\n",
    "val_loss = history_LSTM1.history['val_loss']\n",
    "\n",
    "epochs = range(len(loss))\n",
    "\n",
    "plt.figure()\n",
    "\n",
    "plt.plot(epochs, loss, 'b', label='Training loss')\n",
    "plt.plot(epochs, val_loss, 'r', label='Validation loss')\n",
    "plt.title(\"Training and Validation Loss\")\n",
    "plt.legend()\n",
    "\n",
    "plt.show()"
   ]
  },
  {
   "cell_type": "code",
   "execution_count": null,
   "id": "118eaf4b",
   "metadata": {},
   "outputs": [],
   "source": [
    "mape = history_LSTM1.history['MAPE']\n",
    "val_mape = history_LSTM1.history['val_MAPE']\n",
    "\n",
    "epochs = range(len(mape))\n",
    "\n",
    "plt.figure()\n",
    "\n",
    "plt.plot(epochs, mape, 'b', label='Training MAPE')\n",
    "plt.plot(epochs, val_mape, 'r', label='Validation MAPE')\n",
    "plt.title(\"Training and Validation MAPE\")\n",
    "plt.legend()\n",
    "\n",
    "plt.show()"
   ]
  },
  {
   "cell_type": "code",
   "execution_count": null,
   "id": "b5113c76",
   "metadata": {},
   "outputs": [],
   "source": [
    "pred_LSTM1 = model_LSTM1.predict(X_test)\n"
   ]
  },
  {
   "cell_type": "code",
   "execution_count": null,
   "id": "337928df",
   "metadata": {},
   "outputs": [],
   "source": [
    "plt.plot(y_test, color = 'black', label = 'Real Price')\n",
    "plt.plot(pred_LSTM1, color = 'green', label = 'Predicted Price')\n",
    "plt.title('Close Price Prediction', fontsize=30)\n",
    "#plt.xticks(range(0,df.shape[0],50),df['Date'].loc[::50],rotation=45)\n",
    "plt.xlabel('DateTime')\n",
    "plt.ylabel('Close Price')\n",
    "plt.legend(fontsize=18)\n",
    "plt.show()"
   ]
  },
  {
   "cell_type": "code",
   "execution_count": null,
   "id": "056e57d0",
   "metadata": {},
   "outputs": [],
   "source": [
    "import math\n",
    "\n",
    "LSTM1_loss = model_LSTM1.evaluate(X_test, y_test, verbose=1)\n",
    "\n",
    "#Err_LSTM1 = LSTM1_loss[0]\n",
    "#Err_LSTM1 = math.sqrt(LSTM1_loss)\n",
    "print('\\nThe error of the model with 1 layer LSTM is:',LSTM1_loss)"
   ]
  },
  {
   "cell_type": "code",
   "execution_count": null,
   "id": "bd0a8ba1",
   "metadata": {},
   "outputs": [],
   "source": [
    "#GRU\n",
    "from keras.models import Sequential\n",
    "from keras.layers import Dense, Dropout, Activation, Flatten,Reshape\n",
    "from keras.layers import Conv1D, MaxPooling1D, LeakyReLU\n",
    "from keras.utils import np_utils\n",
    "from keras.layers import GRU,CuDNNGRU\n",
    "model_GRU = Sequential()\n",
    "\n",
    "model_GRU.add(GRU(units=50, input_shape=(120,6),return_sequences=False))\n",
    "model_GRU.add(Activation('tanh'))\n",
    "model_GRU.add(Dropout(0.3))\n",
    "model_GRU.add(Dense(1))\n",
    "model_GRU.add(Activation('relu'))\n",
    "model_GRU.compile(loss='mse', optimizer='adam', metrics = ('MAPE'))\n",
    "model_GRU.summary()"
   ]
  },
  {
   "cell_type": "code",
   "execution_count": null,
   "id": "4c00e597",
   "metadata": {},
   "outputs": [],
   "source": [
    "history_GRU = model_GRU.fit(X_train, y_train, validation_data=(X_valid, y_valid), batch_size = 128, epochs = 10)"
   ]
  },
  {
   "cell_type": "code",
   "execution_count": null,
   "id": "a82f532d",
   "metadata": {},
   "outputs": [],
   "source": [
    "loss_GRU = history_GRU.history['loss']\n",
    "val_loss_GRU = history_GRU.history['val_loss']\n",
    "\n",
    "epochs = range(len(loss_GRU))\n",
    "\n",
    "plt.figure()\n",
    "\n",
    "plt.plot(epochs, loss_GRU, 'b', label='Training loss')\n",
    "plt.plot(epochs, val_loss_GRU, 'r', label='Validation loss')\n",
    "plt.title(\"Training and Validation Loss\")\n",
    "plt.legend()\n",
    "\n",
    "plt.show()"
   ]
  },
  {
   "cell_type": "code",
   "execution_count": null,
   "id": "edcb6307",
   "metadata": {},
   "outputs": [],
   "source": [
    "mape = history_GRU.history['MAPE']\n",
    "val_mape = history_GRU.history['val_MAPE']\n",
    "\n",
    "epochs = range(len(mape))\n",
    "\n",
    "plt.figure()\n",
    "\n",
    "plt.plot(epochs, mape, 'b', label='Training MAPE')\n",
    "plt.plot(epochs, val_mape, 'r', label='Validation MAPE')\n",
    "plt.title(\"Training and Validation MAPE\")\n",
    "plt.legend()\n",
    "\n",
    "plt.show()"
   ]
  },
  {
   "cell_type": "code",
   "execution_count": null,
   "id": "efafe878",
   "metadata": {},
   "outputs": [],
   "source": [
    "pred_GRU = model_GRU.predict(X_test)"
   ]
  },
  {
   "cell_type": "code",
   "execution_count": null,
   "id": "34cdc826",
   "metadata": {},
   "outputs": [],
   "source": [
    "plt.plot(y_test, color = 'black', label = 'Real Price')\n",
    "plt.plot(pred_GRU, color = 'green', label = 'Predicted Price')\n",
    "plt.title('Close Price Prediction', fontsize=30)\n",
    "#plt.xticks(range(0,df.shape[0],50),df['Date'].loc[::50],rotation=45)\n",
    "plt.xlabel('DateTime')\n",
    "plt.ylabel('Close Price')\n",
    "plt.legend(fontsize=18)\n",
    "plt.show()"
   ]
  },
  {
   "cell_type": "code",
   "execution_count": null,
   "id": "b78be7e5",
   "metadata": {},
   "outputs": [],
   "source": [
    "\n",
    "\n",
    "import math\n",
    "\n",
    "GRU_loss = model_GRU.evaluate(X_test, y_test, verbose=1)\n",
    "\n",
    "#Err_GRU = math.sqrt(GRU_loss)\n",
    "print('\\nThe error of the model with a GRU layer is:',GRU_loss)"
   ]
  },
  {
   "cell_type": "code",
   "execution_count": null,
   "id": "9b80c42d",
   "metadata": {},
   "outputs": [],
   "source": [
    "#CNN-BiLSTM\n",
    "import tensorflow as tf\n",
    "from tensorflow.keras import layers\n",
    "from keras.models import Sequential\n",
    "from tensorflow.keras.optimizers import Adam\n",
    "from keras.layers import Dense, LSTM, LeakyReLU, Dropout, BatchNormalization\n",
    "from keras.layers import Bidirectional\n",
    "\n",
    "num_units = 128\n",
    "activation_function = 'relu'\n",
    "optimizer = 'adam'\n",
    "loss_function = 'mean_squared_error'\n",
    "batch_size = 128\n",
    "num_epochs = 10\n",
    "\n",
    "# Initialize the RNN\n",
    "regressor2 = Sequential()\n",
    "\n",
    "# Adding the input layer and the LSTM layer\n",
    "regressor2.add(tf.keras.layers.Conv1D(120, 3, activation=\"relu\",input_shape=(120, 6)))\n",
    "regressor2.add(tf.keras.layers.AveragePooling1D(4))\n",
    "regressor2.add(Bidirectional(LSTM(units = num_units, input_shape=(120, 6))))\n",
    "regressor2.add(LeakyReLU(alpha= 0.5))\n",
    "regressor2.add(BatchNormalization())\n",
    "regressor2.add(Dropout(0.5))\n",
    "# Adding the output layer\n",
    "regressor2.add(Dense(units = 1))"
   ]
  },
  {
   "cell_type": "code",
   "execution_count": null,
   "id": "cfb9576b",
   "metadata": {},
   "outputs": [],
   "source": [
    "# Compiling the RNN\n",
    "regressor2.compile(optimizer = optimizer, loss = loss_function, metrics = ('MAPE'))\n",
    "regressor2.summary()\n",
    "\n",
    "# Using the training set to train the model\n",
    "history_BiLSTM2 = regressor2.fit(X_train, y_train, validation_data=(X_valid, y_valid), batch_size = batch_size, epochs = num_epochs)"
   ]
  },
  {
   "cell_type": "code",
   "execution_count": null,
   "id": "fa4bee6a",
   "metadata": {},
   "outputs": [],
   "source": [
    "loss_BiLSTM2 = history_BiLSTM2.history['loss']\n",
    "val_loss_BiLSTM2 = history_BiLSTM2.history['val_loss']\n",
    "\n",
    "epochs = range(len(loss_BiLSTM2))\n",
    "\n",
    "plt.figure()\n",
    "\n",
    "plt.plot(epochs, loss_BiLSTM2, 'b', label='Training loss')\n",
    "plt.plot(epochs, val_loss_BiLSTM2, 'r', label='Validation loss')\n",
    "plt.title(\"Training and Validation Loss\")\n",
    "plt.legend()\n",
    "\n",
    "plt.show()"
   ]
  },
  {
   "cell_type": "code",
   "execution_count": null,
   "id": "96154893",
   "metadata": {},
   "outputs": [],
   "source": [
    "mape = history_BiLSTM2.history['MAPE']\n",
    "val_mape = history_BiLSTM2.history['val_MAPE']\n",
    "\n",
    "epochs = range(len(mape))\n",
    "\n",
    "plt.figure()\n",
    "\n",
    "plt.plot(epochs, mape, 'b', label='Training MAPE')\n",
    "plt.plot(epochs, val_mape, 'r', label='Validation MAPE')\n",
    "plt.title(\"Training and Validation MAPE\")\n",
    "plt.legend()\n",
    "\n",
    "plt.show()"
   ]
  },
  {
   "cell_type": "code",
   "execution_count": null,
   "id": "5f877ab6",
   "metadata": {},
   "outputs": [],
   "source": [
    "pred_BiLSTM2 = regressor2.predict(X_test)"
   ]
  },
  {
   "cell_type": "code",
   "execution_count": null,
   "id": "ae272691",
   "metadata": {},
   "outputs": [],
   "source": [
    "plt.plot(y_test, color = 'black', label = 'Real Price')\n",
    "plt.plot(pred_BiLSTM2, color = 'green', label = 'Predicted Price')\n",
    "plt.title('Close Price Prediction', fontsize=30)\n",
    "#plt.xticks(range(0,df.shape[0],50),df['Date'].loc[::50],rotation=45)\n",
    "plt.xlabel('DateTime')\n",
    "plt.ylabel('Close Price')\n",
    "plt.legend(fontsize=18)\n",
    "plt.show()"
   ]
  },
  {
   "cell_type": "code",
   "execution_count": null,
   "id": "cf96458e",
   "metadata": {},
   "outputs": [],
   "source": [
    "import math\n",
    "\n",
    "BiLSTM2_loss = regressor2.evaluate(X_test, y_test, verbose=1)\n",
    "\n",
    "#Err_BiLSTM2 = math.sqrt(BiLSTM2_loss)\n",
    "print('\\nThe error of the model with 1 layer BiLSTM is:',BiLSTM2_loss)"
   ]
  },
  {
   "cell_type": "markdown",
   "id": "5c48a395",
   "metadata": {},
   "source": [
    "# Cardano"
   ]
  },
  {
   "cell_type": "code",
   "execution_count": null,
   "id": "b4250203",
   "metadata": {},
   "outputs": [],
   "source": [
    "url = 'https://www.cryptodatadownload.com/cdd/Bittrex_ADAUSD_1h.csv'\n",
    "dataset = pd.read_csv(url, index_col=\"date\", skiprows=1)\n",
    "#dataset = pd.read_csv('Gemini_BTCUSD_1h.csv', index_col=\"date\", skiprows=1)\n",
    "dataset.head()"
   ]
  },
  {
   "cell_type": "code",
   "execution_count": null,
   "id": "a19fb43e",
   "metadata": {},
   "outputs": [],
   "source": [
    "dataset = dataset.iloc[::-1]\n",
    "\n",
    "dataset.head()\n",
    "\n"
   ]
  },
  {
   "cell_type": "code",
   "execution_count": null,
   "id": "216b451a",
   "metadata": {},
   "outputs": [],
   "source": [
    "df = dataset.reset_index()\n",
    "df"
   ]
  },
  {
   "cell_type": "code",
   "execution_count": null,
   "id": "d02567ff",
   "metadata": {},
   "outputs": [],
   "source": [
    "#plt.figure(figsize=(12,6))\n",
    "#sns.lineplot(x='date', y='close', data=df).set_title(\"Price of Bitcoin\")\n",
    "df"
   ]
  },
  {
   "cell_type": "code",
   "execution_count": null,
   "id": "9bd56af6",
   "metadata": {},
   "outputs": [],
   "source": [
    "df = df[[\"open\", \"high\", \"low\", \"close\",\"Volume ADA\", \"Volume USD\"]]\n",
    "#df = df[['Close']]\n",
    "df.head()\n",
    "SEQ_LEN = 120\n",
    "FUTURE_PERIOD = 10\n",
    "\n",
    "RATIO_TO_PREDICT = \"Close\"\n",
    "df"
   ]
  },
  {
   "cell_type": "code",
   "execution_count": null,
   "id": "57554ac0",
   "metadata": {},
   "outputs": [],
   "source": [
    "times = sorted(df.index.values)  # get the times\n",
    "last_10 = times[-int(0.1*len(times))] \n",
    "last_20 = times[-int(0.2*len(times))]\n",
    "\n",
    "test_df = df[(df.index >= last_10)]\n",
    "validation_df = df[(df.index >= last_20) & (df.index < last_10)]  \n",
    "train_df = df[(df.index < last_20)]"
   ]
  },
  {
   "cell_type": "code",
   "execution_count": null,
   "id": "9618df4c",
   "metadata": {},
   "outputs": [],
   "source": [
    "train_ = train_df.values\n",
    "valid_ = validation_df.values\n",
    "test_ = test_df.values\n",
    "df"
   ]
  },
  {
   "cell_type": "code",
   "execution_count": null,
   "id": "6f137f3d",
   "metadata": {},
   "outputs": [],
   "source": [
    "print(\"train shape {0}\".format(train_.shape))\n",
    "print(\"valid shape {0}\".format(valid_.shape))\n",
    "print(\"test shape {0}\".format(test_.shape))\n"
   ]
  },
  {
   "cell_type": "code",
   "execution_count": null,
   "id": "587888f1",
   "metadata": {},
   "outputs": [],
   "source": [
    "def line_plot(line1, line2,line3, label1=None, label2=None, label3=None, title='', lw=2):\n",
    "    fig, ax = plt.subplots(1, figsize=(13, 7))\n",
    "    ax.plot(line1, label=label1, linewidth=lw)\n",
    "    ax.plot(line2, label=label2, linewidth=lw)\n",
    "    ax.plot(line3, label=label3, linewidth=lw)\n",
    "    ax.set_ylabel('price [USD]', fontsize=14)\n",
    "    ax.set_title(title, fontsize=16)\n",
    "    ax.legend(loc='best', fontsize=16);"
   ]
  },
  {
   "cell_type": "code",
   "execution_count": null,
   "id": "b497f029",
   "metadata": {},
   "outputs": [],
   "source": [
    "line_plot(train_df['close'], test_df['close'], validation_df['close'], 'training', 'test','validation', title='')"
   ]
  },
  {
   "cell_type": "code",
   "execution_count": null,
   "id": "09c419fd",
   "metadata": {},
   "outputs": [],
   "source": [
    "from sklearn.preprocessing import MinMaxScaler\n",
    "scaler = MinMaxScaler()\n",
    "scale_close = MinMaxScaler()"
   ]
  },
  {
   "cell_type": "code",
   "execution_count": null,
   "id": "c798cb54",
   "metadata": {},
   "outputs": [],
   "source": [
    "x = train_[:,3].copy()\n",
    "scale_close.fit(x.reshape(-1, 1))"
   ]
  },
  {
   "cell_type": "code",
   "execution_count": null,
   "id": "cbc02379",
   "metadata": {},
   "outputs": [],
   "source": [
    "scaler.fit(train_)\n",
    "\n",
    "train_ = scaler.transform(train_)\n",
    "\n",
    "valid_ = scaler.transform(valid_)\n",
    "test_ = scaler.transform(test_)"
   ]
  },
  {
   "cell_type": "code",
   "execution_count": null,
   "id": "29d70127",
   "metadata": {},
   "outputs": [],
   "source": [
    "# Now perform exponential moving average smoothing for smooth curve of data\n",
    "EMA = 0.0\n",
    "gamma = 0.165\n",
    "for ti in range(train_.shape[0]):\n",
    "    EMA = gamma*train_[ti] + (1-gamma)*EMA\n",
    "    train_[ti] = EMA\n",
    "\n",
    "# Used for visualization and test purposes\n",
    "all_mid_data = np.concatenate([train_,valid_, test_],axis=0)"
   ]
  },
  {
   "cell_type": "code",
   "execution_count": null,
   "id": "47249a0a",
   "metadata": {},
   "outputs": [],
   "source": [
    "#data splitting\n",
    "\n",
    "def split_data(data):\n",
    "    X = []\n",
    "    Y = []\n",
    "    for i in range(SEQ_LEN, len(data)-FUTURE_PERIOD+1):\n",
    "        X.append(data[i-SEQ_LEN:i])\n",
    "        Y.append(data[i+(FUTURE_PERIOD-1), 3])\n",
    "    return np.array(X), np.array(Y)"
   ]
  },
  {
   "cell_type": "code",
   "execution_count": null,
   "id": "01348ca9",
   "metadata": {},
   "outputs": [],
   "source": [
    "X_train, y_train = split_data(train_)\n",
    "X_test, y_test = split_data(test_)\n",
    "X_valid, y_valid = split_data(valid_)\n"
   ]
  },
  {
   "cell_type": "code",
   "execution_count": null,
   "id": "9f079bb3",
   "metadata": {},
   "outputs": [],
   "source": [
    "X_train = np.reshape(X_train, (X_train.shape[0], X_train.shape[1], 6))\n",
    "X_valid = np.reshape(X_valid, (X_valid.shape[0], X_valid.shape[1], 6))\n",
    "X_test = np.reshape(X_test, (X_test.shape[0], X_test.shape[1], 6))"
   ]
  },
  {
   "cell_type": "code",
   "execution_count": null,
   "id": "de605781",
   "metadata": {},
   "outputs": [],
   "source": [
    "print(\"train shape {0}\".format(X_train.shape))\n",
    "print(\"valid shape {0}\".format(X_valid.shape))\n",
    "print(\"test shape {0}\".format(X_test.shape))"
   ]
  },
  {
   "cell_type": "code",
   "execution_count": null,
   "id": "add0b608",
   "metadata": {},
   "outputs": [],
   "source": [
    "X_train_2, y_train_2 = split_data(train_)\n",
    "X_train_2 = np.reshape(X_train_2, (X_train_2.shape[0], X_train_2.shape[1], 6))"
   ]
  },
  {
   "cell_type": "code",
   "execution_count": null,
   "id": "bb1187b2",
   "metadata": {},
   "outputs": [],
   "source": [
    "#LSTM model\n",
    "\n",
    "import tensorflow as tf\n",
    "from tensorflow.keras import layers\n",
    "from keras.models import Sequential\n",
    "from tensorflow.keras.optimizers import Adam\n",
    "from keras.layers import Dense, LSTM, LeakyReLU, Dropout, BatchNormalization\n",
    "\n",
    "# Initialize the RNN\n",
    "model_LSTM1 = Sequential()\n",
    "model_LSTM1.add(LSTM(units = 120, input_shape=(120, 6)))\n",
    "model_LSTM1.add(LeakyReLU(alpha=0.5))\n",
    "model_LSTM1.add(Dropout(0.5))\n",
    "model_LSTM1.add(BatchNormalization())\n",
    "model_LSTM1.add(Dense(1))\n",
    "model_LSTM1.summary()"
   ]
  },
  {
   "cell_type": "code",
   "execution_count": null,
   "id": "acd07a37",
   "metadata": {},
   "outputs": [],
   "source": [
    "model_LSTM1.compile(optimizer='adam', loss='mean_squared_error', metrics = ('MAPE'))"
   ]
  },
  {
   "cell_type": "code",
   "execution_count": null,
   "id": "f0911f42",
   "metadata": {},
   "outputs": [],
   "source": [
    "history_LSTM1 = model_LSTM1.fit(X_train, y_train,validation_data=(X_valid, y_valid), epochs=10, batch_size=128)"
   ]
  },
  {
   "cell_type": "code",
   "execution_count": null,
   "id": "5e14b3ac",
   "metadata": {},
   "outputs": [],
   "source": [
    "loss = history_LSTM1.history['loss']\n",
    "val_loss = history_LSTM1.history['val_loss']\n",
    "\n",
    "epochs = range(len(loss))\n",
    "\n",
    "plt.figure()\n",
    "\n",
    "plt.plot(epochs, loss, 'b', label='Training loss')\n",
    "plt.plot(epochs, val_loss, 'r', label='Validation loss')\n",
    "plt.title(\"Training and Validation Loss\")\n",
    "plt.legend()\n",
    "\n",
    "plt.show()"
   ]
  },
  {
   "cell_type": "code",
   "execution_count": null,
   "id": "0a175cd2",
   "metadata": {},
   "outputs": [],
   "source": [
    "mape = history_LSTM1.history['MAPE']\n",
    "val_mape = history_LSTM1.history['val_MAPE']\n",
    "\n",
    "epochs = range(len(mape))\n",
    "\n",
    "plt.figure()\n",
    "\n",
    "plt.plot(epochs, mape, 'b', label='Training MAPE')\n",
    "plt.plot(epochs, val_mape, 'r', label='Validation MAPE')\n",
    "plt.title(\"Training and Validation MAPE\")\n",
    "plt.legend()\n",
    "\n",
    "plt.show()"
   ]
  },
  {
   "cell_type": "code",
   "execution_count": null,
   "id": "4c20f621",
   "metadata": {},
   "outputs": [],
   "source": [
    "pred_LSTM1 = model_LSTM1.predict(X_test)\n"
   ]
  },
  {
   "cell_type": "code",
   "execution_count": null,
   "id": "a02075dc",
   "metadata": {},
   "outputs": [],
   "source": [
    "plt.plot(y_test, color = 'black', label = 'Real Price')\n",
    "plt.plot(pred_LSTM1, color = 'green', label = 'Predicted Price')\n",
    "plt.title('Close Price Prediction', fontsize=30)\n",
    "#plt.xticks(range(0,df.shape[0],50),df['Date'].loc[::50],rotation=45)\n",
    "plt.xlabel('DateTime')\n",
    "plt.ylabel('Close Price')\n",
    "plt.legend(fontsize=18)\n",
    "plt.show()"
   ]
  },
  {
   "cell_type": "code",
   "execution_count": null,
   "id": "0c07d84a",
   "metadata": {},
   "outputs": [],
   "source": [
    "import math\n",
    "\n",
    "LSTM1_loss = model_LSTM1.evaluate(X_test, y_test, verbose=1)\n",
    "\n",
    "#Err_LSTM1 = LSTM1_loss[0]\n",
    "#Err_LSTM1 = math.sqrt(LSTM1_loss)\n",
    "print('\\nThe error of the model with 1 layer LSTM is:',LSTM1_loss)"
   ]
  },
  {
   "cell_type": "code",
   "execution_count": null,
   "id": "6c7c5b4c",
   "metadata": {},
   "outputs": [],
   "source": [
    "#GRU\n",
    "from keras.models import Sequential\n",
    "from keras.layers import Dense, Dropout, Activation, Flatten,Reshape\n",
    "from keras.layers import Conv1D, MaxPooling1D, LeakyReLU\n",
    "from keras.utils import np_utils\n",
    "from keras.layers import GRU,CuDNNGRU\n",
    "model_GRU = Sequential()\n",
    "\n",
    "model_GRU.add(GRU(units=50, input_shape=(120,6),return_sequences=False))\n",
    "model_GRU.add(Activation('tanh'))\n",
    "model_GRU.add(Dropout(0.3))\n",
    "model_GRU.add(Dense(1))\n",
    "model_GRU.add(Activation('relu'))\n",
    "model_GRU.compile(loss='mse', optimizer='adam', metrics = ('MAPE'))\n",
    "model_GRU.summary()"
   ]
  },
  {
   "cell_type": "code",
   "execution_count": null,
   "id": "c84b465b",
   "metadata": {},
   "outputs": [],
   "source": [
    "history_GRU = model_GRU.fit(X_train, y_train, validation_data=(X_valid, y_valid), batch_size = 128, epochs = 10)"
   ]
  },
  {
   "cell_type": "code",
   "execution_count": null,
   "id": "912dda70",
   "metadata": {},
   "outputs": [],
   "source": [
    "loss_GRU = history_GRU.history['loss']\n",
    "val_loss_GRU = history_GRU.history['val_loss']\n",
    "\n",
    "epochs = range(len(loss_GRU))\n",
    "\n",
    "plt.figure()\n",
    "\n",
    "plt.plot(epochs, loss_GRU, 'b', label='Training loss')\n",
    "plt.plot(epochs, val_loss_GRU, 'r', label='Validation loss')\n",
    "plt.title(\"Training and Validation Loss\")\n",
    "plt.legend()\n",
    "\n",
    "plt.show()"
   ]
  },
  {
   "cell_type": "code",
   "execution_count": null,
   "id": "db068916",
   "metadata": {},
   "outputs": [],
   "source": [
    "mape = history_GRU.history['MAPE']\n",
    "val_mape = history_GRU.history['val_MAPE']\n",
    "\n",
    "epochs = range(len(mape))\n",
    "\n",
    "plt.figure()\n",
    "\n",
    "plt.plot(epochs, mape, 'b', label='Training MAPE')\n",
    "plt.plot(epochs, val_mape, 'r', label='Validation MAPE')\n",
    "plt.title(\"Training and Validation MAPE\")\n",
    "plt.legend()\n",
    "\n",
    "plt.show()"
   ]
  },
  {
   "cell_type": "code",
   "execution_count": null,
   "id": "b29a34d9",
   "metadata": {},
   "outputs": [],
   "source": [
    "pred_GRU = model_GRU.predict(X_test)"
   ]
  },
  {
   "cell_type": "code",
   "execution_count": null,
   "id": "0858860d",
   "metadata": {},
   "outputs": [],
   "source": [
    "plt.plot(y_test, color = 'black', label = 'Real Price')\n",
    "plt.plot(pred_GRU, color = 'red', label = 'Predicted Price')\n",
    "plt.title('Close Price Prediction', fontsize=30)\n",
    "#plt.xticks(range(0,df.shape[0],50),df['Date'].loc[::50],rotation=45)\n",
    "plt.xlabel('DateTime')\n",
    "plt.ylabel('Close Price')\n",
    "plt.legend(fontsize=18)\n",
    "plt.show()"
   ]
  },
  {
   "cell_type": "code",
   "execution_count": null,
   "id": "961f7fbf",
   "metadata": {},
   "outputs": [],
   "source": [
    "\n",
    "\n",
    "import math\n",
    "\n",
    "GRU_loss = model_GRU.evaluate(X_test, y_test, verbose=1)\n",
    "\n",
    "#Err_GRU = math.sqrt(GRU_loss)\n",
    "print('\\nThe error of the model with a GRU layer is:',GRU_loss)"
   ]
  },
  {
   "cell_type": "code",
   "execution_count": null,
   "id": "270560a8",
   "metadata": {},
   "outputs": [],
   "source": [
    "#CNN-BiLSTM\n",
    "import tensorflow as tf\n",
    "from tensorflow.keras import layers\n",
    "from keras.models import Sequential\n",
    "from tensorflow.keras.optimizers import Adam\n",
    "from keras.layers import Dense, LSTM, LeakyReLU, Dropout, BatchNormalization\n",
    "from keras.layers import Bidirectional\n",
    "\n",
    "num_units = 128\n",
    "activation_function = 'relu'\n",
    "optimizer = 'adam'\n",
    "loss_function = 'mean_squared_error'\n",
    "batch_size = 128\n",
    "num_epochs = 10\n",
    "\n",
    "# Initialize the RNN\n",
    "regressor2 = Sequential()\n",
    "\n",
    "# Adding the input layer and the LSTM layer\n",
    "regressor2.add(tf.keras.layers.Conv1D(120, 3, activation=\"relu\",input_shape=(120, 6)))\n",
    "regressor2.add(tf.keras.layers.AveragePooling1D(4))\n",
    "regressor2.add(Bidirectional(LSTM(units = num_units, input_shape=(120, 6))))\n",
    "regressor2.add(LeakyReLU(alpha= 0.5))\n",
    "regressor2.add(BatchNormalization())\n",
    "regressor2.add(Dropout(0.5))\n",
    "# Adding the output layer\n",
    "regressor2.add(Dense(units = 1))"
   ]
  },
  {
   "cell_type": "code",
   "execution_count": null,
   "id": "ab1e7297",
   "metadata": {},
   "outputs": [],
   "source": [
    "# Compiling the RNN\n",
    "regressor2.compile(optimizer = optimizer, loss = loss_function, metrics = ('MAPE'))\n",
    "regressor2.summary()\n",
    "\n",
    "# Using the training set to train the model\n",
    "history_BiLSTM2 = regressor2.fit(X_train, y_train, validation_data=(X_valid, y_valid), batch_size = batch_size, epochs = num_epochs)"
   ]
  },
  {
   "cell_type": "code",
   "execution_count": null,
   "id": "48aec20f",
   "metadata": {},
   "outputs": [],
   "source": [
    "loss_BiLSTM2 = history_BiLSTM2.history['loss']\n",
    "val_loss_BiLSTM2 = history_BiLSTM2.history['val_loss']\n",
    "\n",
    "epochs = range(len(loss_BiLSTM2))\n",
    "\n",
    "plt.figure()\n",
    "\n",
    "plt.plot(epochs, loss_BiLSTM2, 'b', label='Training loss')\n",
    "plt.plot(epochs, val_loss_BiLSTM2, 'r', label='Validation loss')\n",
    "plt.title(\"Training and Validation Loss\")\n",
    "plt.legend()\n",
    "\n",
    "plt.show()"
   ]
  },
  {
   "cell_type": "code",
   "execution_count": null,
   "id": "5b5eef4d",
   "metadata": {},
   "outputs": [],
   "source": [
    "mape = history_BiLSTM2.history['MAPE']\n",
    "val_mape = history_BiLSTM2.history['val_MAPE']\n",
    "\n",
    "epochs = range(len(mape))\n",
    "\n",
    "plt.figure()\n",
    "\n",
    "plt.plot(epochs, mape, 'b', label='Training MAPE')\n",
    "plt.plot(epochs, val_mape, 'r', label='Validation MAPE')\n",
    "plt.title(\"Training and Validation MAPE\")\n",
    "plt.legend()\n",
    "\n",
    "plt.show()"
   ]
  },
  {
   "cell_type": "code",
   "execution_count": null,
   "id": "891b895d",
   "metadata": {},
   "outputs": [],
   "source": [
    "pred_BiLSTM2 = regressor2.predict(X_test)"
   ]
  },
  {
   "cell_type": "code",
   "execution_count": null,
   "id": "0f56c75c",
   "metadata": {},
   "outputs": [],
   "source": [
    "plt.plot(y_test, color = 'black', label = 'Real Price')\n",
    "plt.plot(pred_BiLSTM2, color = 'green', label = 'Predicted Price')\n",
    "plt.title('Close Price Prediction', fontsize=30)\n",
    "#plt.xticks(range(0,df.shape[0],50),df['Date'].loc[::50],rotation=45)\n",
    "plt.xlabel('DateTime')\n",
    "plt.ylabel('Close Price')\n",
    "plt.legend(fontsize=18)\n",
    "plt.show()"
   ]
  },
  {
   "cell_type": "code",
   "execution_count": null,
   "id": "5e7d4b6c",
   "metadata": {},
   "outputs": [],
   "source": [
    "import math\n",
    "\n",
    "BiLSTM2_loss = regressor2.evaluate(X_test, y_test, verbose=1)\n",
    "\n",
    "#Err_BiLSTM2 = math.sqrt(BiLSTM2_loss)\n",
    "print('\\nThe error of the model with 1 layer BiLSTM is:',BiLSTM2_loss)"
   ]
  },
  {
   "cell_type": "code",
   "execution_count": null,
   "id": "6326609d",
   "metadata": {},
   "outputs": [],
   "source": []
  },
  {
   "cell_type": "code",
   "execution_count": null,
   "id": "605dd8da",
   "metadata": {},
   "outputs": [],
   "source": []
  },
  {
   "cell_type": "code",
   "execution_count": null,
   "id": "d26da1f7",
   "metadata": {},
   "outputs": [],
   "source": []
  },
  {
   "cell_type": "code",
   "execution_count": null,
   "id": "a608e0f9",
   "metadata": {},
   "outputs": [],
   "source": []
  },
  {
   "cell_type": "code",
   "execution_count": null,
   "id": "71fc41a0",
   "metadata": {},
   "outputs": [],
   "source": []
  }
 ],
 "metadata": {
  "kernelspec": {
   "display_name": "Python 3 (ipykernel)",
   "language": "python",
   "name": "python3"
  },
  "language_info": {
   "codemirror_mode": {
    "name": "ipython",
    "version": 3
   },
   "file_extension": ".py",
   "mimetype": "text/x-python",
   "name": "python",
   "nbconvert_exporter": "python",
   "pygments_lexer": "ipython3",
   "version": "3.9.7"
  }
 },
 "nbformat": 4,
 "nbformat_minor": 5
}
